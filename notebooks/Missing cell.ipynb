{
 "cells": [
  {
   "cell_type": "code",
   "execution_count": null,
   "metadata": {},
   "outputs": [],
   "source": [
    "### Converting categorical variables about cards into numerical ones\n",
    "\n",
    "# Frequency of transactions made by each unique card\n",
    "card_vc = df['CARD NUMBER'].value_counts()\n",
    "\n",
    "# Transforming it into a DataFrame\n",
    "card_vc = pd.DataFrame(card_vc)\n",
    "card_vc = card_vc.reset_index()\n",
    "card_vc.columns = ['unique_card','counts']\n",
    "\n",
    "sum_tr = 0\n",
    "card_trans = pd.DataFrame()\n",
    "j = 0\n",
    "\n",
    "# Average amount of transactions by each unique card\n",
    "for m in card_vc['unique_card']:\n",
    "    for i in range(len(df['CARD NUMBER'])):\n",
    "        if df['CARD NUMBER'][i] == m:\n",
    "            sum_tr += df['ORIGINAL GROSS AMT'][i]\n",
    "    card_trans = card_trans.append([(sum_tr/card_vc['counts'][j])])\n",
    "    j += 1\n",
    "\n",
    "# Assembling previous data\n",
    "card_data = pd.DataFrame()\n",
    "card_data['card_name'] = card_vc['unique_card']\n",
    "card_data['trans_avg'] = card_trans.values.reshape(-1,1)\n",
    "card_data['frequency'] = card_vc['counts']\n",
    "\n",
    "card_data = card_data.set_index(card_data.card_name)\n",
    "card_data = card_data.drop(['card_name'], axis = 1)\n",
    "\n",
    "card_data"
   ]
  }
 ],
 "metadata": {
  "kernelspec": {
   "display_name": "Python 3",
   "language": "python",
   "name": "python3"
  },
  "language_info": {
   "codemirror_mode": {
    "name": "ipython",
    "version": 3
   },
   "file_extension": ".py",
   "mimetype": "text/x-python",
   "name": "python",
   "nbconvert_exporter": "python",
   "pygments_lexer": "ipython3",
   "version": "3.8.5"
  }
 },
 "nbformat": 4,
 "nbformat_minor": 4
}
