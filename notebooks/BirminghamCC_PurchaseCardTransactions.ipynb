{
 "cells": [
  {
   "cell_type": "markdown",
   "metadata": {
    "id": "JzX8EB2H5fCP"
   },
   "source": [
    "# Birmingham City Council - Purchase Card Transactions\n",
    "\n",
    "In this dataset you have a collection of purchase card transactions for the Birmingham City Council. https://data.birmingham.gov.uk/dataset/purchase-card-transactions. This is a historical dataset, you’re able to perform any of the following tasks:\n",
    "\t\n",
    "- (Clustering) Discovering profiles (whether the case) or unusual transactions  \n",
    "(anomalies detection) ...  \n",
    "\n",
    "- (Forecasting) Try to guess future transactional behaviors. For instance, what would be the next purchase? Expenditures forecasting? ...  \n",
    "\n",
    "- (Creativity) State a problem.\n",
    "\n",
    "\n",
    "It’s up to you defining the time window in which your analysis will take place.\n",
    "\n",
    "To do so, we suggest you create a notebook, like Jupyter (if you use python) or a Rmarkdown report (in case you use R) and make it available.\n",
    " \n",
    "Hint to success in your quest:  \n",
    "Develop and state clear of the data science process you'll perform over the dataset and highlight important aspects you might consider affordable to discuss over. Use the mindset of a business and curious consultant."
   ]
  },
  {
   "cell_type": "markdown",
   "metadata": {
    "id": "hytcRDSfNLy-"
   },
   "source": [
    "# Considerations\n",
    "The origin of our dataset is a municipal chamber.\n",
    "The data are distributed in excel spreadsheets, 1 per month from 2014 to 2018, with a few months missing.  \n",
    "\n",
    "Opening 1 of the files, it can be verified that the records contain transactions per person, which will be identified by the end of the credit card, the transaction is accompanied by the value, date, and identifiers of the supplier and classifiers of the activity and type of product of this supplier.\n",
    "\n",
    "As we have a dataset of corporate cards, perhaps the council interest is to discover corporate frauds such as purchases of products with overpriced values, and forecasts of expenses per person."
   ]
  },
  {
   "cell_type": "markdown",
   "metadata": {
    "id": "70wO47HE8Lzr"
   },
   "source": [
    "# 1 - Goals\n",
    "- Discover profiles: clustering by people / clustering by product type / unusual transactions.  \n",
    "\n",
    "-\tGuess future transactional behaviours / forecasting."
   ]
  },
  {
   "cell_type": "markdown",
   "metadata": {
    "id": "rDokPlLV7_at"
   },
   "source": [
    "# 2 - Data management\n",
    "\n",
    "-\tImported data by year in different DataFrames.\n",
    "-\tIndexed the rows by the dates using “TRANS DATE” variable\n",
    "-\tAdded the year 2015 in the name of the corresponding files.\n"
   ]
  },
  {
   "cell_type": "markdown",
   "metadata": {
    "id": "7qi7mdgt-ANI"
   },
   "source": [
    "## System setup"
   ]
  },
  {
   "cell_type": "code",
   "execution_count": 4,
   "metadata": {
    "id": "gRjgQ08WlbzW"
   },
   "outputs": [],
   "source": [
    "import os\n",
    "import pandas as pd\n",
    "from pandas.plotting import autocorrelation_plot\n",
    "import numpy as np\n",
    "import matplotlib.pyplot as plt\n",
    "\n",
    "from sklearn.svm import OneClassSVM\n",
    "from sklearn.cluster import KMeans\n",
    "from sklearn.preprocessing import StandardScaler\n",
    "from sklearn.metrics import mean_squared_error\n",
    "from sklearn.preprocessing import MinMaxScaler\n",
    "\n",
    "from statsmodels.tsa.arima_model import ARIMA\n",
    "\n",
    "from numpy import array\n",
    "from numpy import hstack\n",
    "from tensorflow.keras.models import Model\n",
    "from tensorflow.keras.layers import Input\n",
    "from tensorflow.keras.layers import Dense"
   ]
  },
  {
   "cell_type": "code",
   "execution_count": 5,
   "metadata": {
    "id": "BlRMPEJub2dP"
   },
   "outputs": [],
   "source": [
    "from pmdarima.arima import auto_arima"
   ]
  },
  {
   "cell_type": "markdown",
   "metadata": {
    "id": "5cPCXxBs_671"
   },
   "source": [
    "## Dataset import"
   ]
  },
  {
   "cell_type": "markdown",
   "metadata": {
    "id": "_PFXjWEsBgII"
   },
   "source": [
    "### Util functions"
   ]
  },
  {
   "cell_type": "code",
   "execution_count": 6,
   "metadata": {
    "id": "fiwGHntDLdlQ"
   },
   "outputs": [],
   "source": [
    "mo_list = [\"january\", \"february\", \"march\", \"april\", \"may\", \"june\", \"july\", \"august\", \"september\", \"october\", \"november\", \"december\"]"
   ]
  },
  {
   "cell_type": "code",
   "execution_count": 7,
   "metadata": {
    "id": "IT5TcZoxBb_Q"
   },
   "outputs": [],
   "source": [
    "def xlsDataImport(file_list, key):\n",
    "  df = pd.DataFrame()\n",
    "  mi_list = mo_list.copy()\n",
    "  counter = 0\n",
    "  for pos, filename in enumerate(file_list): \n",
    "    if filename.endswith(\".xls\") and key in filename:\n",
    "      counter+=1\n",
    "      df = df.append(pd.read_excel(filename, index_col = 'TRANS DATE', parse_dates = True))\n",
    "      print(counter,pos,filename)\n",
    "      for mo in mi_list:\n",
    "        #if mo in filename or mo[1:3] in filename:\n",
    "          if mo in filename:\n",
    "            mi_list.remove(mo)\n",
    "  print(\"missing months\", mi_list)\n",
    "  return df"
   ]
  },
  {
   "cell_type": "markdown",
   "metadata": {
    "id": "S1tZzuOgW-AY"
   },
   "source": [
    "I downloaded all the spreadsheets from the link provided, to avoid problems with future data unavailability, and made it available in a compressed file in my github repository.\n",
    "No spreadsheets have been changed in content or name."
   ]
  },
  {
   "cell_type": "code",
   "execution_count": 8,
   "metadata": {
    "colab": {
     "base_uri": "https://localhost:8080/"
    },
    "id": "V6UiLXt1DsX3",
    "outputId": "7f6e540c-1276-46a4-9ebb-83f44bb479bd"
   },
   "outputs": [
    {
     "name": "stderr",
     "output_type": "stream",
     "text": [
      "J  existe uma subpasta ou um arquivo Dataset.\n"
     ]
    }
   ],
   "source": [
    "!mkdir Dataset\n"
   ]
  },
  {
   "cell_type": "code",
   "execution_count": 9,
   "metadata": {
    "id": "cF_z49hb8pzI"
   },
   "outputs": [],
   "source": [
    "cwd = os.chdir('Dataset')"
   ]
  },
  {
   "cell_type": "code",
   "execution_count": 10,
   "metadata": {
    "colab": {
     "base_uri": "https://localhost:8080/"
    },
    "id": "DikNa4yH_GQO",
    "outputId": "ffe2eb97-5b7e-493e-c6e1-a29bb60ba793"
   },
   "outputs": [
    {
     "name": "stderr",
     "output_type": "stream",
     "text": [
      "'wget' nao ‚ reconhecido como um comando interno\n",
      "ou externo, um programa oper vel ou um arquivo em lotes.\n"
     ]
    }
   ],
   "source": [
    "!wget https://github.com/ddlandim/DS-BirminghamCardTransactions/raw/main/Dataset/Dataset.zip"
   ]
  },
  {
   "cell_type": "code",
   "execution_count": 10,
   "metadata": {
    "id": "iPowTezGZWsG"
   },
   "outputs": [],
   "source": [
    "!rm *.xls"
   ]
  },
  {
   "cell_type": "code",
   "execution_count": 11,
   "metadata": {
    "colab": {
     "base_uri": "https://localhost:8080/"
    },
    "id": "GvXONxpHjrVs",
    "outputId": "c8eca56d-862e-4826-a927-e0aec9c54b10"
   },
   "outputs": [
    {
     "name": "stdout",
     "output_type": "stream",
     "text": [
      "Archive:  Dataset.zip\n",
      "  inflating: cusersfinainmndesktoppublish-copy-january-2017.xls  \n",
      "  inflating: cusersfinainmndesktoppublish-spend-august-2017-all-directorates.xls  \n",
      "  inflating: cusersfinainmndesktoppublish-spend-february-2017-all-directorates.xls  \n",
      "  inflating: cusersfinainmndesktoppublish-spend-january-2018.xls  \n",
      "  inflating: cusersfinainmndesktoppublish-spend-july-2017.xls  \n",
      "  inflating: cusersfinainmndesktoppublish-spend-june--2017.xls  \n",
      "  inflating: cusersfinainmndesktoppublish-spend-march-2017.xls  \n",
      "  inflating: cusersfinainmndesktoppublish-spend-may-2017.xls  \n",
      "  inflating: cusersfinainmndesktoppublish-spend-november-2017-all-directorates.xls  \n",
      "  inflating: cusersfinainmndesktoppublish-spend-october-2017-all-directorates.xls  \n",
      "  inflating: cusersfinainmndesktoppublish-spend-sept-2017.xls  \n",
      "  inflating: itemisedtransactionsaugust2015publishspendalldirectorates.xls  \n",
      "  inflating: itemisedtransactionsjuly2015publishspend.xls  \n",
      "replace open_data_planning_weekly_list.csv? [y]es, [n]o, [A]ll, [N]one, [r]ename: A\n",
      "  inflating: open_data_planning_weekly_list.csv  \n",
      "  inflating: publish-spend-april-2016.xls  \n",
      "  inflating: publish-spend-august-2016.xls  \n",
      "  inflating: publish-spend-december-2016.xls  \n",
      "  inflating: publish-spend-july-2016.xls  \n",
      "  inflating: publish-spend-june-2016.xls  \n",
      "  inflating: publish-spend-may-2016.xls  \n",
      "  inflating: publish-spend-october-2016.xls  \n",
      "  inflating: publish-spend-september-2016.xls  \n",
      "  inflating: publishedspenddecember2015.xls  \n",
      "  inflating: publishing-spend-november-2016.xls  \n",
      "  inflating: publishspendfebruary2016.xls  \n",
      "  inflating: publishspendjanuary2016.xls  \n",
      "  inflating: publishspendjune2015alldirectorates.xls  \n",
      "  inflating: publishspendmarch2016.xls  \n",
      "  inflating: publishspendnovember2015.xls  \n",
      "  inflating: publishspendoctober2015.xls  \n",
      "  inflating: publishspendpurchasecardsfebruary.xls  \n",
      "  inflating: publishspendpurchasecardsmarch.xls  \n",
      "  inflating: publishspendseptember2015.xls  \n",
      "  inflating: purchasecardsdec2014.xls  \n",
      "  inflating: purchasecardsnov2014.xls  \n",
      "  inflating: purchasecardtransactionsapril2014.xls  \n",
      "  inflating: purchasecardtransactionsaugust2014.xls  \n",
      "  inflating: purchasecardtransactionsjuly2014.xls  \n",
      "  inflating: purchasecardtransactionsjune2014.xls  \n",
      "  inflating: purchasecardtransactionsmay2014.xls  \n",
      "  inflating: purchasecardtransactionsoctober2014.xls  \n",
      "  inflating: purchasecardtransactionsseptember2014.xls  \n",
      "  inflating: purchaseccardtransactionsjanuary2015.xls  \n",
      "  inflating: svlrdclr05homesharechexefinainmngeneralappublishspendmay2015.xls  \n"
     ]
    }
   ],
   "source": [
    "!unzip Dataset.zip"
   ]
  },
  {
   "cell_type": "code",
   "execution_count": 11,
   "metadata": {
    "colab": {
     "base_uri": "https://localhost:8080/"
    },
    "id": "ajXkp3ehAhlG",
    "outputId": "2443d2cf-1a95-4134-a0ab-5c7896503f94"
   },
   "outputs": [
    {
     "name": "stdout",
     "output_type": "stream",
     "text": [
      "['cusersfinainmndesktoppublish-copy-january-2017.xls', 'cusersfinainmndesktoppublish-spend-april-2017.xls', 'cusersfinainmndesktoppublish-spend-august-2017-all-directorates.xls', 'cusersfinainmndesktoppublish-spend-february-2017-all-directorates.xls', 'cusersfinainmndesktoppublish-spend-january-2018.xls', 'cusersfinainmndesktoppublish-spend-july-2017.xls', 'cusersfinainmndesktoppublish-spend-june--2017.xls', 'cusersfinainmndesktoppublish-spend-march-2017.xls', 'cusersfinainmndesktoppublish-spend-may-2017.xls', 'cusersfinainmndesktoppublish-spend-november-2017-all-directorates.xls', 'cusersfinainmndesktoppublish-spend-october-2017-all-directorates.xls', 'cusersfinainmndesktoppublish-spend-sept-2017.xls', 'itemisedtransactionsaugust2015publishspendalldirectorates.xls', 'itemisedtransactionsjuly2015publishspend.xls', 'open_data_planning_weekly_list.csv', 'publish-spend-april-2016.xls', 'publish-spend-august-2016.xls', 'publish-spend-december-2016.xls', 'publish-spend-july-2016.xls', 'publish-spend-june-2016.xls', 'publish-spend-may-2016.xls', 'publish-spend-october-2016.xls', 'publish-spend-september-2016.xls', 'publishedspenddecember2015.xls', 'publishing-spend-november-2016.xls', 'publishspendfebruary2016.xls', 'publishspendjanuary2016.xls', 'publishspendjune2015alldirectorates.xls', 'publishspendmarch2016.xls', 'publishspendnovember2015.xls', 'publishspendoctober2015.xls', 'publishspendpurchasecardsfebruary.xls', 'publishspendpurchasecardsmarch.xls', 'publishspendseptember2015.xls', 'purchasecardsdec2014.xls', 'purchasecardsnov2014.xls', 'purchasecardtransactionsapril2014.xls', 'purchasecardtransactionsaugust2014.xls', 'purchasecardtransactionsjuly2014.xls', 'purchasecardtransactionsjune2014.xls', 'purchasecardtransactionsmay2014.xls', 'purchasecardtransactionsoctober2014.xls', 'purchasecardtransactionsseptember2014.xls', 'purchaseccardtransactionsjanuary2015.xls', 'svlrdclr05homesharechexefinainmngeneralappublishspendmay2015.xls']\n"
     ]
    }
   ],
   "source": [
    "file_list = os.listdir(cwd)\n",
    "print(file_list)"
   ]
  },
  {
   "cell_type": "markdown",
   "metadata": {
    "id": "y6cT6h3sV50X"
   },
   "source": [
    "### 2014\n",
    "Importing files"
   ]
  },
  {
   "cell_type": "code",
   "execution_count": 13,
   "metadata": {
    "colab": {
     "base_uri": "https://localhost:8080/"
    },
    "id": "tuOcL47ok9TQ",
    "outputId": "fd39a168-2f50-46be-e413-b17bb1017776"
   },
   "outputs": [
    {
     "name": "stdout",
     "output_type": "stream",
     "text": [
      "1 17 purchasecardsdec2014.xls\n",
      "2 19 purchasecardtransactionsaugust2014.xls\n",
      "3 20 purchasecardtransactionsjuly2014.xls\n",
      "4 21 purchasecardtransactionsjune2014.xls\n",
      "5 23 purchasecardtransactionsoctober2014.xls\n",
      "6 25 purchasecardsnov2014.xls\n",
      "7 42 purchasecardtransactionsseptember2014.xls\n",
      "8 43 purchasecardtransactionsapril2014.xls\n",
      "9 44 purchasecardtransactionsmay2014.xls\n",
      "missing months ['january', 'february', 'march', 'november', 'december']\n"
     ]
    }
   ],
   "source": [
    "df2014 = xlsDataImport(file_list,\"2014\")"
   ]
  },
  {
   "cell_type": "markdown",
   "metadata": {
    "id": "8UU0bMH_Ge9G"
   },
   "source": [
    "2014 files start in April and as we can see november and december have their names abbreviated so we can move on"
   ]
  },
  {
   "cell_type": "code",
   "execution_count": 14,
   "metadata": {
    "colab": {
     "base_uri": "https://localhost:8080/",
     "height": 636
    },
    "id": "uR_WGZtBZ_Kn",
    "outputId": "d2255837-a69c-414b-dd9b-264b1dbdb7bb"
   },
   "outputs": [
    {
     "data": {
      "text/html": [
       "<div>\n",
       "<style scoped>\n",
       "    .dataframe tbody tr th:only-of-type {\n",
       "        vertical-align: middle;\n",
       "    }\n",
       "\n",
       "    .dataframe tbody tr th {\n",
       "        vertical-align: top;\n",
       "    }\n",
       "\n",
       "    .dataframe thead th {\n",
       "        text-align: right;\n",
       "    }\n",
       "</style>\n",
       "<table border=\"1\" class=\"dataframe\">\n",
       "  <thead>\n",
       "    <tr style=\"text-align: right;\">\n",
       "      <th></th>\n",
       "      <th>TRANS VAT DESC</th>\n",
       "      <th>ORIGINAL GROSS AMT</th>\n",
       "      <th>MERCHANT NAME</th>\n",
       "      <th>CARD NUMBER</th>\n",
       "      <th>BILLING CUR CODE</th>\n",
       "      <th>TRANS CAC CODE 1</th>\n",
       "      <th>TRANS CAC DESC 1</th>\n",
       "      <th>TRANS CAC CODE 2</th>\n",
       "      <th>TRANS CAC DESC 2</th>\n",
       "      <th>TRANS CAC CODE 3</th>\n",
       "      <th>Directorate</th>\n",
       "    </tr>\n",
       "    <tr>\n",
       "      <th>TRANS DATE</th>\n",
       "      <th></th>\n",
       "      <th></th>\n",
       "      <th></th>\n",
       "      <th></th>\n",
       "      <th></th>\n",
       "      <th></th>\n",
       "      <th></th>\n",
       "      <th></th>\n",
       "      <th></th>\n",
       "      <th></th>\n",
       "      <th></th>\n",
       "    </tr>\n",
       "  </thead>\n",
       "  <tbody>\n",
       "    <tr>\n",
       "      <th>2014-12-11</th>\n",
       "      <td>VR</td>\n",
       "      <td>53.21</td>\n",
       "      <td>shell kings 587</td>\n",
       "      <td>************5770</td>\n",
       "      <td>GBP</td>\n",
       "      <td>K020</td>\n",
       "      <td>Vehicle Fuel</td>\n",
       "      <td>RV12N</td>\n",
       "      <td>African-Caribbean DC</td>\n",
       "      <td>A00</td>\n",
       "      <td>Adult &amp; Communities</td>\n",
       "    </tr>\n",
       "    <tr>\n",
       "      <th>2014-12-09</th>\n",
       "      <td>VR</td>\n",
       "      <td>53.12</td>\n",
       "      <td>tesco pfs 2484</td>\n",
       "      <td>************8143</td>\n",
       "      <td>GBP</td>\n",
       "      <td>K020</td>\n",
       "      <td>Vehicle Fuel</td>\n",
       "      <td>RV14R</td>\n",
       "      <td>Mobile Night Care Service</td>\n",
       "      <td>A00</td>\n",
       "      <td>Adult &amp; Communities</td>\n",
       "    </tr>\n",
       "    <tr>\n",
       "      <th>2014-12-09</th>\n",
       "      <td>VR</td>\n",
       "      <td>64.81</td>\n",
       "      <td>bush  service station</td>\n",
       "      <td>************2997</td>\n",
       "      <td>GBP</td>\n",
       "      <td>K020</td>\n",
       "      <td>Vehicle Fuel</td>\n",
       "      <td>RV1K1</td>\n",
       "      <td>Elders Group - Erdington</td>\n",
       "      <td>A00</td>\n",
       "      <td>Adult &amp; Communities</td>\n",
       "    </tr>\n",
       "    <tr>\n",
       "      <th>2014-12-12</th>\n",
       "      <td>VR</td>\n",
       "      <td>34.50</td>\n",
       "      <td>esso perry barr service s</td>\n",
       "      <td>************2997</td>\n",
       "      <td>GBP</td>\n",
       "      <td>K020</td>\n",
       "      <td>Vehicle Fuel</td>\n",
       "      <td>RV1K1</td>\n",
       "      <td>Elders Group - Erdington</td>\n",
       "      <td>A00</td>\n",
       "      <td>Adult &amp; Communities</td>\n",
       "    </tr>\n",
       "    <tr>\n",
       "      <th>2014-12-15</th>\n",
       "      <td>VR</td>\n",
       "      <td>76.17</td>\n",
       "      <td>shell aqueduct</td>\n",
       "      <td>************2997</td>\n",
       "      <td>GBP</td>\n",
       "      <td>K020</td>\n",
       "      <td>Vehicle Fuel</td>\n",
       "      <td>RV1K1</td>\n",
       "      <td>Elders Group - Erdington</td>\n",
       "      <td>A00</td>\n",
       "      <td>Adult &amp; Communities</td>\n",
       "    </tr>\n",
       "    <tr>\n",
       "      <th>...</th>\n",
       "      <td>...</td>\n",
       "      <td>...</td>\n",
       "      <td>...</td>\n",
       "      <td>...</td>\n",
       "      <td>...</td>\n",
       "      <td>...</td>\n",
       "      <td>...</td>\n",
       "      <td>...</td>\n",
       "      <td>...</td>\n",
       "      <td>...</td>\n",
       "      <td>...</td>\n",
       "    </tr>\n",
       "    <tr>\n",
       "      <th>2014-06-11</th>\n",
       "      <td>VR</td>\n",
       "      <td>54040.31</td>\n",
       "      <td>the furnishing service</td>\n",
       "      <td>************6583</td>\n",
       "      <td>GBP</td>\n",
       "      <td>L100</td>\n",
       "      <td>Equip Operational</td>\n",
       "      <td>RYB5F</td>\n",
       "      <td>Social Fund</td>\n",
       "      <td>A09</td>\n",
       "      <td>Corporate Resources</td>\n",
       "    </tr>\n",
       "    <tr>\n",
       "      <th>2014-06-06</th>\n",
       "      <td>VR</td>\n",
       "      <td>32987.08</td>\n",
       "      <td>the furnishing service</td>\n",
       "      <td>************6583</td>\n",
       "      <td>GBP</td>\n",
       "      <td>L100</td>\n",
       "      <td>Equip Operational</td>\n",
       "      <td>RYB5F</td>\n",
       "      <td>Social Fund</td>\n",
       "      <td>A10</td>\n",
       "      <td>Corporate Resources</td>\n",
       "    </tr>\n",
       "    <tr>\n",
       "      <th>2014-07-02</th>\n",
       "      <td>VZ</td>\n",
       "      <td>227.78</td>\n",
       "      <td>the furnishing service</td>\n",
       "      <td>************5339</td>\n",
       "      <td>GBP</td>\n",
       "      <td>L100</td>\n",
       "      <td>Equip Operational</td>\n",
       "      <td>RVB0A</td>\n",
       "      <td>Harriet Louisa Loxton Trust(ex5000</td>\n",
       "      <td>A11</td>\n",
       "      <td>Adults &amp; Communities</td>\n",
       "    </tr>\n",
       "    <tr>\n",
       "      <th>2014-06-18</th>\n",
       "      <td>VR</td>\n",
       "      <td>349.19</td>\n",
       "      <td>the furnishing service</td>\n",
       "      <td>************5339</td>\n",
       "      <td>GBP</td>\n",
       "      <td>L100</td>\n",
       "      <td>Equip Operational</td>\n",
       "      <td>RVB0A</td>\n",
       "      <td>Harriet Louisa Loxton Trust(ex5000</td>\n",
       "      <td>A12</td>\n",
       "      <td>Adults &amp; Communities</td>\n",
       "    </tr>\n",
       "    <tr>\n",
       "      <th>2014-06-18</th>\n",
       "      <td>VZ</td>\n",
       "      <td>303.59</td>\n",
       "      <td>the furnishing service</td>\n",
       "      <td>************5339</td>\n",
       "      <td>GBP</td>\n",
       "      <td>L100</td>\n",
       "      <td>Equip Operational</td>\n",
       "      <td>RVB0A</td>\n",
       "      <td>Harriet Louisa Loxton Trust(ex5000</td>\n",
       "      <td>A13</td>\n",
       "      <td>Adults &amp; Communities</td>\n",
       "    </tr>\n",
       "  </tbody>\n",
       "</table>\n",
       "<p>34467 rows × 11 columns</p>\n",
       "</div>"
      ],
      "text/plain": [
       "           TRANS VAT DESC  ...           Directorate\n",
       "TRANS DATE                 ...                      \n",
       "2014-12-11             VR  ...   Adult & Communities\n",
       "2014-12-09             VR  ...   Adult & Communities\n",
       "2014-12-09             VR  ...   Adult & Communities\n",
       "2014-12-12             VR  ...   Adult & Communities\n",
       "2014-12-15             VR  ...   Adult & Communities\n",
       "...                   ...  ...                   ...\n",
       "2014-06-11             VR  ...   Corporate Resources\n",
       "2014-06-06             VR  ...   Corporate Resources\n",
       "2014-07-02             VZ  ...  Adults & Communities\n",
       "2014-06-18             VR  ...  Adults & Communities\n",
       "2014-06-18             VZ  ...  Adults & Communities\n",
       "\n",
       "[34467 rows x 11 columns]"
      ]
     },
     "execution_count": 14,
     "metadata": {
      "tags": []
     },
     "output_type": "execute_result"
    }
   ],
   "source": [
    "df2014"
   ]
  },
  {
   "cell_type": "markdown",
   "metadata": {
    "id": "5aCdQ1nAaLFv"
   },
   "source": [
    "### 2015\n",
    "importing files"
   ]
  },
  {
   "cell_type": "code",
   "execution_count": 15,
   "metadata": {
    "colab": {
     "base_uri": "https://localhost:8080/"
    },
    "id": "X9FPgYiQaX4f",
    "outputId": "ab2f6f9a-705e-41bf-da59-8079cb408e2d"
   },
   "outputs": [
    {
     "name": "stdout",
     "output_type": "stream",
     "text": [
      "1 0 publishspendjune2015alldirectorates.xls\n",
      "2 7 svlrdclr05homesharechexefinainmngeneralappublishspendmay2015.xls\n",
      "3 10 itemisedtransactionsjuly2015publishspend.xls\n",
      "4 14 publishspendoctober2015.xls\n",
      "5 24 publishspendnovember2015.xls\n",
      "6 31 publishspendseptember2015.xls\n",
      "7 32 publishedspenddecember2015.xls\n",
      "8 37 purchaseccardtransactionsjanuary2015.xls\n",
      "9 38 itemisedtransactionsaugust2015publishspendalldirectorates.xls\n",
      "missing months ['february', 'march', 'april']\n"
     ]
    }
   ],
   "source": [
    "df2015 = xlsDataImport(file_list,\"2015\")"
   ]
  },
  {
   "cell_type": "markdown",
   "metadata": {
    "id": "jqmjawETbRc7"
   },
   "source": [
    "missing: \n",
    " - feb (present in datafiles, but without '2015' in filename)\n",
    " - mar (present in datafiles, but without '2015' in filename)\n",
    " - apr (not present in datafiles provided)\n",
    "\n",
    " manual include of feb,mar"
   ]
  },
  {
   "cell_type": "code",
   "execution_count": 16,
   "metadata": {
    "colab": {
     "base_uri": "https://localhost:8080/",
     "height": 636
    },
    "id": "hBxkRYkGltIS",
    "outputId": "21cb38b4-1e4a-44d1-d3e4-d1cdafa7dbb3"
   },
   "outputs": [
    {
     "data": {
      "text/html": [
       "<div>\n",
       "<style scoped>\n",
       "    .dataframe tbody tr th:only-of-type {\n",
       "        vertical-align: middle;\n",
       "    }\n",
       "\n",
       "    .dataframe tbody tr th {\n",
       "        vertical-align: top;\n",
       "    }\n",
       "\n",
       "    .dataframe thead th {\n",
       "        text-align: right;\n",
       "    }\n",
       "</style>\n",
       "<table border=\"1\" class=\"dataframe\">\n",
       "  <thead>\n",
       "    <tr style=\"text-align: right;\">\n",
       "      <th></th>\n",
       "      <th>TRANS VAT DESC</th>\n",
       "      <th>ORIGINAL GROSS AMT</th>\n",
       "      <th>MERCHANT NAME</th>\n",
       "      <th>CARD NUMBER</th>\n",
       "      <th>TRANS CAC CODE 1</th>\n",
       "      <th>TRANS CAC DESC 1</th>\n",
       "      <th>TRANS CAC CODE 2</th>\n",
       "      <th>TRANS CAC DESC 2</th>\n",
       "      <th>TRANS CAC CODE 3</th>\n",
       "      <th>Directorate</th>\n",
       "      <th>Directorate</th>\n",
       "    </tr>\n",
       "    <tr>\n",
       "      <th>TRANS DATE</th>\n",
       "      <th></th>\n",
       "      <th></th>\n",
       "      <th></th>\n",
       "      <th></th>\n",
       "      <th></th>\n",
       "      <th></th>\n",
       "      <th></th>\n",
       "      <th></th>\n",
       "      <th></th>\n",
       "      <th></th>\n",
       "      <th></th>\n",
       "    </tr>\n",
       "  </thead>\n",
       "  <tbody>\n",
       "    <tr>\n",
       "      <th>2015-06-05</th>\n",
       "      <td>VR</td>\n",
       "      <td>34.26</td>\n",
       "      <td>tex city sstn</td>\n",
       "      <td>************0541</td>\n",
       "      <td>K020</td>\n",
       "      <td>Vehicle Fuel</td>\n",
       "      <td>RV12T</td>\n",
       "      <td>Shakti Elders Dce, 73 Conybere St, B12</td>\n",
       "      <td>A00</td>\n",
       "      <td>Adult &amp; Communities</td>\n",
       "      <td>NaN</td>\n",
       "    </tr>\n",
       "    <tr>\n",
       "      <th>2015-06-19</th>\n",
       "      <td>VR</td>\n",
       "      <td>65.00</td>\n",
       "      <td>beaumont s.stn fs402</td>\n",
       "      <td>************8143</td>\n",
       "      <td>K020</td>\n",
       "      <td>Vehicle Fuel</td>\n",
       "      <td>RV14R</td>\n",
       "      <td>Mobile Night Care Service</td>\n",
       "      <td>A00</td>\n",
       "      <td>Adult &amp; Communities</td>\n",
       "      <td>NaN</td>\n",
       "    </tr>\n",
       "    <tr>\n",
       "      <th>2015-06-11</th>\n",
       "      <td>VR</td>\n",
       "      <td>47.07</td>\n",
       "      <td>tex sussex sstn</td>\n",
       "      <td>************8738</td>\n",
       "      <td>K020</td>\n",
       "      <td>Vehicle Fuel</td>\n",
       "      <td>RV12T</td>\n",
       "      <td>Shakti Elders Dce, 73 Conybere St, B12</td>\n",
       "      <td>A00</td>\n",
       "      <td>Adult &amp; Communities</td>\n",
       "      <td>NaN</td>\n",
       "    </tr>\n",
       "    <tr>\n",
       "      <th>2015-06-15</th>\n",
       "      <td>VR</td>\n",
       "      <td>47.59</td>\n",
       "      <td>tex sussex sstn</td>\n",
       "      <td>************8738</td>\n",
       "      <td>K020</td>\n",
       "      <td>Vehicle Fuel</td>\n",
       "      <td>RV12T</td>\n",
       "      <td>Shakti Elders Dce, 73 Conybere St, B12</td>\n",
       "      <td>A00</td>\n",
       "      <td>Adult &amp; Communities</td>\n",
       "      <td>NaN</td>\n",
       "    </tr>\n",
       "    <tr>\n",
       "      <th>2015-06-18</th>\n",
       "      <td>VR</td>\n",
       "      <td>21.11</td>\n",
       "      <td>tex sussex sstn</td>\n",
       "      <td>************8738</td>\n",
       "      <td>K020</td>\n",
       "      <td>Vehicle Fuel</td>\n",
       "      <td>RV12T</td>\n",
       "      <td>Shakti Elders Dce, 73 Conybere St, B12</td>\n",
       "      <td>A00</td>\n",
       "      <td>Adult &amp; Communities</td>\n",
       "      <td>NaN</td>\n",
       "    </tr>\n",
       "    <tr>\n",
       "      <th>...</th>\n",
       "      <td>...</td>\n",
       "      <td>...</td>\n",
       "      <td>...</td>\n",
       "      <td>...</td>\n",
       "      <td>...</td>\n",
       "      <td>...</td>\n",
       "      <td>...</td>\n",
       "      <td>...</td>\n",
       "      <td>...</td>\n",
       "      <td>...</td>\n",
       "      <td>...</td>\n",
       "    </tr>\n",
       "    <tr>\n",
       "      <th>2015-09-01</th>\n",
       "      <td>VZ</td>\n",
       "      <td>375.21</td>\n",
       "      <td>mil collections ltd</td>\n",
       "      <td>************9313</td>\n",
       "      <td>L6E0</td>\n",
       "      <td>Other Services</td>\n",
       "      <td>RLW73</td>\n",
       "      <td>CLC-Edg Bartley Grn</td>\n",
       "      <td>A00</td>\n",
       "      <td>NaN</td>\n",
       "      <td>Local Services</td>\n",
       "    </tr>\n",
       "    <tr>\n",
       "      <th>2015-08-17</th>\n",
       "      <td>VR</td>\n",
       "      <td>58.69</td>\n",
       "      <td>tesco pfs 5098</td>\n",
       "      <td>************4599</td>\n",
       "      <td>K020</td>\n",
       "      <td>Vehicle Fuel</td>\n",
       "      <td>RHNCA</td>\n",
       "      <td>Careline</td>\n",
       "      <td>A00</td>\n",
       "      <td>NaN</td>\n",
       "      <td>Local Services</td>\n",
       "    </tr>\n",
       "    <tr>\n",
       "      <th>2015-08-07</th>\n",
       "      <td>VR</td>\n",
       "      <td>85.95</td>\n",
       "      <td>tesco pay at pump 3858</td>\n",
       "      <td>************6665</td>\n",
       "      <td>K020</td>\n",
       "      <td>Vehicle Fuel</td>\n",
       "      <td>RHEE7</td>\n",
       "      <td>Ladywood CBH05 Neigh C'takers</td>\n",
       "      <td>A00</td>\n",
       "      <td>NaN</td>\n",
       "      <td>Local Services</td>\n",
       "    </tr>\n",
       "    <tr>\n",
       "      <th>2015-08-21</th>\n",
       "      <td>VR</td>\n",
       "      <td>22.48</td>\n",
       "      <td>wickes</td>\n",
       "      <td>************8673</td>\n",
       "      <td>L100</td>\n",
       "      <td>Equip Operational</td>\n",
       "      <td>RJHH8</td>\n",
       "      <td>Homeless Centre-Breedon Road</td>\n",
       "      <td>A00</td>\n",
       "      <td>NaN</td>\n",
       "      <td>Local Services</td>\n",
       "    </tr>\n",
       "    <tr>\n",
       "      <th>2015-08-28</th>\n",
       "      <td>VR</td>\n",
       "      <td>54.65</td>\n",
       "      <td>argos selly oak</td>\n",
       "      <td>************8673</td>\n",
       "      <td>L100</td>\n",
       "      <td>Equip Operational</td>\n",
       "      <td>RJHH8</td>\n",
       "      <td>Homeless Centre-Breedon Road</td>\n",
       "      <td>A00</td>\n",
       "      <td>NaN</td>\n",
       "      <td>Local Services</td>\n",
       "    </tr>\n",
       "  </tbody>\n",
       "</table>\n",
       "<p>36213 rows × 11 columns</p>\n",
       "</div>"
      ],
      "text/plain": [
       "           TRANS VAT DESC  ...    Directorate \n",
       "TRANS DATE                 ...                \n",
       "2015-06-05             VR  ...             NaN\n",
       "2015-06-19             VR  ...             NaN\n",
       "2015-06-11             VR  ...             NaN\n",
       "2015-06-15             VR  ...             NaN\n",
       "2015-06-18             VR  ...             NaN\n",
       "...                   ...  ...             ...\n",
       "2015-09-01             VZ  ...  Local Services\n",
       "2015-08-17             VR  ...  Local Services\n",
       "2015-08-07             VR  ...  Local Services\n",
       "2015-08-21             VR  ...  Local Services\n",
       "2015-08-28             VR  ...  Local Services\n",
       "\n",
       "[36213 rows x 11 columns]"
      ]
     },
     "execution_count": 16,
     "metadata": {
      "tags": []
     },
     "output_type": "execute_result"
    }
   ],
   "source": [
    "df2015"
   ]
  },
  {
   "cell_type": "code",
   "execution_count": 17,
   "metadata": {
    "id": "IDC9chdmbs_w"
   },
   "outputs": [],
   "source": [
    "df2015_feb = pd.read_excel('publishspendpurchasecardsfebruary.xls', index_col = 'TRANS DATE', parse_dates = True)\n",
    "df2015_mar = pd.read_excel('publishspendpurchasecardsmarch.xls', index_col = 'TRANS DATE', parse_dates = True)"
   ]
  },
  {
   "cell_type": "code",
   "execution_count": 18,
   "metadata": {
    "colab": {
     "base_uri": "https://localhost:8080/",
     "height": 436
    },
    "id": "GYnErCkslQt7",
    "outputId": "0375e971-3560-4d18-f66e-626b3b58203a"
   },
   "outputs": [
    {
     "data": {
      "text/html": [
       "<div>\n",
       "<style scoped>\n",
       "    .dataframe tbody tr th:only-of-type {\n",
       "        vertical-align: middle;\n",
       "    }\n",
       "\n",
       "    .dataframe tbody tr th {\n",
       "        vertical-align: top;\n",
       "    }\n",
       "\n",
       "    .dataframe thead th {\n",
       "        text-align: right;\n",
       "    }\n",
       "</style>\n",
       "<table border=\"1\" class=\"dataframe\">\n",
       "  <thead>\n",
       "    <tr style=\"text-align: right;\">\n",
       "      <th></th>\n",
       "      <th>TRANS VAT DESC</th>\n",
       "      <th>ORIGINAL GROSS AMT</th>\n",
       "      <th>MERCHANT NAME</th>\n",
       "      <th>CARD NUMBER</th>\n",
       "      <th>TRANS CAC CODE 1</th>\n",
       "      <th>TRANS CAC DESC 1</th>\n",
       "      <th>TRANS CAC CODE 2</th>\n",
       "      <th>TRANS CAC DESC 2</th>\n",
       "      <th>TRANS CAC CODE 3</th>\n",
       "      <th>Unnamed: 10</th>\n",
       "    </tr>\n",
       "    <tr>\n",
       "      <th>TRANS DATE</th>\n",
       "      <th></th>\n",
       "      <th></th>\n",
       "      <th></th>\n",
       "      <th></th>\n",
       "      <th></th>\n",
       "      <th></th>\n",
       "      <th></th>\n",
       "      <th></th>\n",
       "      <th></th>\n",
       "      <th></th>\n",
       "    </tr>\n",
       "  </thead>\n",
       "  <tbody>\n",
       "    <tr>\n",
       "      <th>2015-02-24</th>\n",
       "      <td>VR</td>\n",
       "      <td>54.75</td>\n",
       "      <td>shell kings 587</td>\n",
       "      <td>************5770</td>\n",
       "      <td>K020</td>\n",
       "      <td>Vehicle Fuel</td>\n",
       "      <td>RV12N</td>\n",
       "      <td>African-Caribbean DC</td>\n",
       "      <td>A00</td>\n",
       "      <td>Adult &amp; Communities</td>\n",
       "    </tr>\n",
       "    <tr>\n",
       "      <th>2015-02-03</th>\n",
       "      <td>VR</td>\n",
       "      <td>51.64</td>\n",
       "      <td>tesco pfs 2484</td>\n",
       "      <td>************8738</td>\n",
       "      <td>K020</td>\n",
       "      <td>Vehicle Fuel</td>\n",
       "      <td>RV11Y</td>\n",
       "      <td>Marsh Lane Dce, 79, B23</td>\n",
       "      <td>A00</td>\n",
       "      <td>Adult &amp; Communities</td>\n",
       "    </tr>\n",
       "    <tr>\n",
       "      <th>2015-02-12</th>\n",
       "      <td>VR</td>\n",
       "      <td>43.89</td>\n",
       "      <td>tesco pfs 2484</td>\n",
       "      <td>************8738</td>\n",
       "      <td>K020</td>\n",
       "      <td>Vehicle Fuel</td>\n",
       "      <td>RV11Y</td>\n",
       "      <td>Marsh Lane Dce, 79, B23</td>\n",
       "      <td>A00</td>\n",
       "      <td>Adult &amp; Communities</td>\n",
       "    </tr>\n",
       "    <tr>\n",
       "      <th>2015-02-04</th>\n",
       "      <td>VR</td>\n",
       "      <td>54.00</td>\n",
       "      <td>blood pressure ass</td>\n",
       "      <td>************7557</td>\n",
       "      <td>H2T0</td>\n",
       "      <td>Training Other</td>\n",
       "      <td>RVA0K</td>\n",
       "      <td>Admin Support</td>\n",
       "      <td>A00</td>\n",
       "      <td>Adult &amp; Communities</td>\n",
       "    </tr>\n",
       "    <tr>\n",
       "      <th>2015-02-07</th>\n",
       "      <td>VZ</td>\n",
       "      <td>6.99</td>\n",
       "      <td>viewbix</td>\n",
       "      <td>************7557</td>\n",
       "      <td>H000</td>\n",
       "      <td>Staff Advert Exp</td>\n",
       "      <td>RVA0K</td>\n",
       "      <td>Admin Support</td>\n",
       "      <td>A00</td>\n",
       "      <td>Adult &amp; Communities</td>\n",
       "    </tr>\n",
       "    <tr>\n",
       "      <th>...</th>\n",
       "      <td>...</td>\n",
       "      <td>...</td>\n",
       "      <td>...</td>\n",
       "      <td>...</td>\n",
       "      <td>...</td>\n",
       "      <td>...</td>\n",
       "      <td>...</td>\n",
       "      <td>...</td>\n",
       "      <td>...</td>\n",
       "      <td>...</td>\n",
       "    </tr>\n",
       "    <tr>\n",
       "      <th>2015-02-04</th>\n",
       "      <td>VR</td>\n",
       "      <td>40.05</td>\n",
       "      <td>tesco pfs 3953</td>\n",
       "      <td>************8527</td>\n",
       "      <td>K020</td>\n",
       "      <td>Vehicle Fuel</td>\n",
       "      <td>RHBC7</td>\n",
       "      <td>Erdington CBH03 Neigh C'takers</td>\n",
       "      <td>A00</td>\n",
       "      <td>Local Services</td>\n",
       "    </tr>\n",
       "    <tr>\n",
       "      <th>2015-02-19</th>\n",
       "      <td>VR</td>\n",
       "      <td>82.65</td>\n",
       "      <td>tesco pfs 3953</td>\n",
       "      <td>************8527</td>\n",
       "      <td>K020</td>\n",
       "      <td>Vehicle Fuel</td>\n",
       "      <td>RHBC7</td>\n",
       "      <td>Erdington CBH03 Neigh C'takers</td>\n",
       "      <td>A00</td>\n",
       "      <td>Local Services</td>\n",
       "    </tr>\n",
       "    <tr>\n",
       "      <th>2015-03-02</th>\n",
       "      <td>VR</td>\n",
       "      <td>83.59</td>\n",
       "      <td>tesco pfs 4203</td>\n",
       "      <td>************6790</td>\n",
       "      <td>K020</td>\n",
       "      <td>Vehicle Fuel</td>\n",
       "      <td>RHEE7</td>\n",
       "      <td>Ladywood CBH05 Neigh C'takers</td>\n",
       "      <td>A00</td>\n",
       "      <td>Local Services</td>\n",
       "    </tr>\n",
       "    <tr>\n",
       "      <th>2015-02-17</th>\n",
       "      <td>VR</td>\n",
       "      <td>53.13</td>\n",
       "      <td>w m morrison</td>\n",
       "      <td>************2926</td>\n",
       "      <td>K020</td>\n",
       "      <td>Vehicle Fuel</td>\n",
       "      <td>RHNCA</td>\n",
       "      <td>Careline</td>\n",
       "      <td>A00</td>\n",
       "      <td>Local Services</td>\n",
       "    </tr>\n",
       "    <tr>\n",
       "      <th>2015-02-24</th>\n",
       "      <td>VR</td>\n",
       "      <td>78.50</td>\n",
       "      <td>tesco pfs 4203</td>\n",
       "      <td>************6665</td>\n",
       "      <td>K020</td>\n",
       "      <td>Vehicle Fuel</td>\n",
       "      <td>RHEE7</td>\n",
       "      <td>Ladywood CBH05 Neigh C'takers</td>\n",
       "      <td>A00</td>\n",
       "      <td>Local Services</td>\n",
       "    </tr>\n",
       "  </tbody>\n",
       "</table>\n",
       "<p>3959 rows × 10 columns</p>\n",
       "</div>"
      ],
      "text/plain": [
       "           TRANS VAT DESC  ...          Unnamed: 10\n",
       "TRANS DATE                 ...                     \n",
       "2015-02-24             VR  ...  Adult & Communities\n",
       "2015-02-03             VR  ...  Adult & Communities\n",
       "2015-02-12             VR  ...  Adult & Communities\n",
       "2015-02-04             VR  ...  Adult & Communities\n",
       "2015-02-07             VZ  ...  Adult & Communities\n",
       "...                   ...  ...                  ...\n",
       "2015-02-04             VR  ...       Local Services\n",
       "2015-02-19             VR  ...       Local Services\n",
       "2015-03-02             VR  ...       Local Services\n",
       "2015-02-17             VR  ...       Local Services\n",
       "2015-02-24             VR  ...       Local Services\n",
       "\n",
       "[3959 rows x 10 columns]"
      ]
     },
     "execution_count": 18,
     "metadata": {
      "tags": []
     },
     "output_type": "execute_result"
    }
   ],
   "source": [
    "df2015_feb"
   ]
  },
  {
   "cell_type": "code",
   "execution_count": 19,
   "metadata": {
    "colab": {
     "base_uri": "https://localhost:8080/",
     "height": 436
    },
    "id": "RGIr9t5zUNe7",
    "outputId": "f4534050-b3c2-4ce4-daa7-a0b9b50262ab"
   },
   "outputs": [
    {
     "data": {
      "text/html": [
       "<div>\n",
       "<style scoped>\n",
       "    .dataframe tbody tr th:only-of-type {\n",
       "        vertical-align: middle;\n",
       "    }\n",
       "\n",
       "    .dataframe tbody tr th {\n",
       "        vertical-align: top;\n",
       "    }\n",
       "\n",
       "    .dataframe thead th {\n",
       "        text-align: right;\n",
       "    }\n",
       "</style>\n",
       "<table border=\"1\" class=\"dataframe\">\n",
       "  <thead>\n",
       "    <tr style=\"text-align: right;\">\n",
       "      <th></th>\n",
       "      <th>TRANS VAT DESC</th>\n",
       "      <th>ORIGINAL GROSS AMT</th>\n",
       "      <th>MERCHANT NAME</th>\n",
       "      <th>CARD NUMBER</th>\n",
       "      <th>TRANS CAC CODE 1</th>\n",
       "      <th>TRANS CAC DESC 1</th>\n",
       "      <th>TRANS CAC CODE 2</th>\n",
       "      <th>TRANS CAC DESC 2</th>\n",
       "      <th>TRANS CAC CODE 3</th>\n",
       "      <th>Directorate</th>\n",
       "    </tr>\n",
       "    <tr>\n",
       "      <th>TRANS DATE</th>\n",
       "      <th></th>\n",
       "      <th></th>\n",
       "      <th></th>\n",
       "      <th></th>\n",
       "      <th></th>\n",
       "      <th></th>\n",
       "      <th></th>\n",
       "      <th></th>\n",
       "      <th></th>\n",
       "      <th></th>\n",
       "    </tr>\n",
       "  </thead>\n",
       "  <tbody>\n",
       "    <tr>\n",
       "      <th>2015-02-24</th>\n",
       "      <td>VR</td>\n",
       "      <td>54.75</td>\n",
       "      <td>shell kings 587</td>\n",
       "      <td>************5770</td>\n",
       "      <td>K020</td>\n",
       "      <td>Vehicle Fuel</td>\n",
       "      <td>RV12N</td>\n",
       "      <td>African-Caribbean DC</td>\n",
       "      <td>A00</td>\n",
       "      <td>Adult &amp; Communities</td>\n",
       "    </tr>\n",
       "    <tr>\n",
       "      <th>2015-02-03</th>\n",
       "      <td>VR</td>\n",
       "      <td>51.64</td>\n",
       "      <td>tesco pfs 2484</td>\n",
       "      <td>************8738</td>\n",
       "      <td>K020</td>\n",
       "      <td>Vehicle Fuel</td>\n",
       "      <td>RV11Y</td>\n",
       "      <td>Marsh Lane Dce, 79, B23</td>\n",
       "      <td>A00</td>\n",
       "      <td>Adult &amp; Communities</td>\n",
       "    </tr>\n",
       "    <tr>\n",
       "      <th>2015-02-12</th>\n",
       "      <td>VR</td>\n",
       "      <td>43.89</td>\n",
       "      <td>tesco pfs 2484</td>\n",
       "      <td>************8738</td>\n",
       "      <td>K020</td>\n",
       "      <td>Vehicle Fuel</td>\n",
       "      <td>RV11Y</td>\n",
       "      <td>Marsh Lane Dce, 79, B23</td>\n",
       "      <td>A00</td>\n",
       "      <td>Adult &amp; Communities</td>\n",
       "    </tr>\n",
       "    <tr>\n",
       "      <th>2015-02-04</th>\n",
       "      <td>VR</td>\n",
       "      <td>54.00</td>\n",
       "      <td>blood pressure ass</td>\n",
       "      <td>************7557</td>\n",
       "      <td>H2T0</td>\n",
       "      <td>Training Other</td>\n",
       "      <td>RVA0K</td>\n",
       "      <td>Admin Support</td>\n",
       "      <td>A00</td>\n",
       "      <td>Adult &amp; Communities</td>\n",
       "    </tr>\n",
       "    <tr>\n",
       "      <th>2015-02-07</th>\n",
       "      <td>VZ</td>\n",
       "      <td>6.99</td>\n",
       "      <td>viewbix</td>\n",
       "      <td>************7557</td>\n",
       "      <td>H000</td>\n",
       "      <td>Staff Advert Exp</td>\n",
       "      <td>RVA0K</td>\n",
       "      <td>Admin Support</td>\n",
       "      <td>A00</td>\n",
       "      <td>Adult &amp; Communities</td>\n",
       "    </tr>\n",
       "    <tr>\n",
       "      <th>...</th>\n",
       "      <td>...</td>\n",
       "      <td>...</td>\n",
       "      <td>...</td>\n",
       "      <td>...</td>\n",
       "      <td>...</td>\n",
       "      <td>...</td>\n",
       "      <td>...</td>\n",
       "      <td>...</td>\n",
       "      <td>...</td>\n",
       "      <td>...</td>\n",
       "    </tr>\n",
       "    <tr>\n",
       "      <th>2015-02-04</th>\n",
       "      <td>VR</td>\n",
       "      <td>40.05</td>\n",
       "      <td>tesco pfs 3953</td>\n",
       "      <td>************8527</td>\n",
       "      <td>K020</td>\n",
       "      <td>Vehicle Fuel</td>\n",
       "      <td>RHBC7</td>\n",
       "      <td>Erdington CBH03 Neigh C'takers</td>\n",
       "      <td>A00</td>\n",
       "      <td>Local Services</td>\n",
       "    </tr>\n",
       "    <tr>\n",
       "      <th>2015-02-19</th>\n",
       "      <td>VR</td>\n",
       "      <td>82.65</td>\n",
       "      <td>tesco pfs 3953</td>\n",
       "      <td>************8527</td>\n",
       "      <td>K020</td>\n",
       "      <td>Vehicle Fuel</td>\n",
       "      <td>RHBC7</td>\n",
       "      <td>Erdington CBH03 Neigh C'takers</td>\n",
       "      <td>A00</td>\n",
       "      <td>Local Services</td>\n",
       "    </tr>\n",
       "    <tr>\n",
       "      <th>2015-03-02</th>\n",
       "      <td>VR</td>\n",
       "      <td>83.59</td>\n",
       "      <td>tesco pfs 4203</td>\n",
       "      <td>************6790</td>\n",
       "      <td>K020</td>\n",
       "      <td>Vehicle Fuel</td>\n",
       "      <td>RHEE7</td>\n",
       "      <td>Ladywood CBH05 Neigh C'takers</td>\n",
       "      <td>A00</td>\n",
       "      <td>Local Services</td>\n",
       "    </tr>\n",
       "    <tr>\n",
       "      <th>2015-02-17</th>\n",
       "      <td>VR</td>\n",
       "      <td>53.13</td>\n",
       "      <td>w m morrison</td>\n",
       "      <td>************2926</td>\n",
       "      <td>K020</td>\n",
       "      <td>Vehicle Fuel</td>\n",
       "      <td>RHNCA</td>\n",
       "      <td>Careline</td>\n",
       "      <td>A00</td>\n",
       "      <td>Local Services</td>\n",
       "    </tr>\n",
       "    <tr>\n",
       "      <th>2015-02-24</th>\n",
       "      <td>VR</td>\n",
       "      <td>78.50</td>\n",
       "      <td>tesco pfs 4203</td>\n",
       "      <td>************6665</td>\n",
       "      <td>K020</td>\n",
       "      <td>Vehicle Fuel</td>\n",
       "      <td>RHEE7</td>\n",
       "      <td>Ladywood CBH05 Neigh C'takers</td>\n",
       "      <td>A00</td>\n",
       "      <td>Local Services</td>\n",
       "    </tr>\n",
       "  </tbody>\n",
       "</table>\n",
       "<p>3959 rows × 10 columns</p>\n",
       "</div>"
      ],
      "text/plain": [
       "           TRANS VAT DESC  ...          Directorate\n",
       "TRANS DATE                 ...                     \n",
       "2015-02-24             VR  ...  Adult & Communities\n",
       "2015-02-03             VR  ...  Adult & Communities\n",
       "2015-02-12             VR  ...  Adult & Communities\n",
       "2015-02-04             VR  ...  Adult & Communities\n",
       "2015-02-07             VZ  ...  Adult & Communities\n",
       "...                   ...  ...                  ...\n",
       "2015-02-04             VR  ...       Local Services\n",
       "2015-02-19             VR  ...       Local Services\n",
       "2015-03-02             VR  ...       Local Services\n",
       "2015-02-17             VR  ...       Local Services\n",
       "2015-02-24             VR  ...       Local Services\n",
       "\n",
       "[3959 rows x 10 columns]"
      ]
     },
     "execution_count": 19,
     "metadata": {
      "tags": []
     },
     "output_type": "execute_result"
    }
   ],
   "source": [
    "df2015_feb.rename(columns={\"Unnamed: 10\" : \"Directorate\"})"
   ]
  },
  {
   "cell_type": "code",
   "execution_count": 20,
   "metadata": {
    "colab": {
     "base_uri": "https://localhost:8080/",
     "height": 436
    },
    "id": "uHEUnIP9lhSp",
    "outputId": "c26e7a46-4a5a-46f7-9549-2bc7a1f000de"
   },
   "outputs": [
    {
     "data": {
      "text/html": [
       "<div>\n",
       "<style scoped>\n",
       "    .dataframe tbody tr th:only-of-type {\n",
       "        vertical-align: middle;\n",
       "    }\n",
       "\n",
       "    .dataframe tbody tr th {\n",
       "        vertical-align: top;\n",
       "    }\n",
       "\n",
       "    .dataframe thead th {\n",
       "        text-align: right;\n",
       "    }\n",
       "</style>\n",
       "<table border=\"1\" class=\"dataframe\">\n",
       "  <thead>\n",
       "    <tr style=\"text-align: right;\">\n",
       "      <th></th>\n",
       "      <th>TRANS VAT DESC</th>\n",
       "      <th>ORIGINAL GROSS AMT</th>\n",
       "      <th>MERCHANT NAME</th>\n",
       "      <th>CARD NUMBER</th>\n",
       "      <th>TRANS CAC CODE 1</th>\n",
       "      <th>TRANS CAC DESC 1</th>\n",
       "      <th>TRANS CAC CODE 2</th>\n",
       "      <th>TRANS CAC DESC 2</th>\n",
       "      <th>TRANS CAC CODE 3</th>\n",
       "      <th>Directorate</th>\n",
       "    </tr>\n",
       "    <tr>\n",
       "      <th>TRANS DATE</th>\n",
       "      <th></th>\n",
       "      <th></th>\n",
       "      <th></th>\n",
       "      <th></th>\n",
       "      <th></th>\n",
       "      <th></th>\n",
       "      <th></th>\n",
       "      <th></th>\n",
       "      <th></th>\n",
       "      <th></th>\n",
       "    </tr>\n",
       "  </thead>\n",
       "  <tbody>\n",
       "    <tr>\n",
       "      <th>2015-03-08</th>\n",
       "      <td>VR</td>\n",
       "      <td>35.96</td>\n",
       "      <td>fasthosts internet</td>\n",
       "      <td>************3497</td>\n",
       "      <td>L9Y0</td>\n",
       "      <td>Computing Other</td>\n",
       "      <td>RV3VG</td>\n",
       "      <td>AD Adults Strategy</td>\n",
       "      <td>A00</td>\n",
       "      <td>Adult &amp; Communities</td>\n",
       "    </tr>\n",
       "    <tr>\n",
       "      <th>2015-03-23</th>\n",
       "      <td>VR</td>\n",
       "      <td>12.24</td>\n",
       "      <td>fast key services</td>\n",
       "      <td>************4094</td>\n",
       "      <td>L100</td>\n",
       "      <td>Equip Operational</td>\n",
       "      <td>RV3A7</td>\n",
       "      <td>Hodge Hill Adult Team</td>\n",
       "      <td>A00</td>\n",
       "      <td>Adult &amp; Communities</td>\n",
       "    </tr>\n",
       "    <tr>\n",
       "      <th>2015-03-22</th>\n",
       "      <td>VR</td>\n",
       "      <td>52.45</td>\n",
       "      <td>acocks green 224</td>\n",
       "      <td>************4302</td>\n",
       "      <td>K020</td>\n",
       "      <td>Vehicle Fuel</td>\n",
       "      <td>RV14R</td>\n",
       "      <td>Mobile Night Care Service</td>\n",
       "      <td>A00</td>\n",
       "      <td>Adult &amp; Communities</td>\n",
       "    </tr>\n",
       "    <tr>\n",
       "      <th>2015-03-09</th>\n",
       "      <td>VR</td>\n",
       "      <td>40.66</td>\n",
       "      <td>esso aston way ss</td>\n",
       "      <td>************6316</td>\n",
       "      <td>K020</td>\n",
       "      <td>Vehicle Fuel</td>\n",
       "      <td>RV14R</td>\n",
       "      <td>Mobile Night Care Service</td>\n",
       "      <td>A00</td>\n",
       "      <td>Adult &amp; Communities</td>\n",
       "    </tr>\n",
       "    <tr>\n",
       "      <th>2015-03-29</th>\n",
       "      <td>VR</td>\n",
       "      <td>59.57</td>\n",
       "      <td>esso aston way ss</td>\n",
       "      <td>************1287</td>\n",
       "      <td>K020</td>\n",
       "      <td>Vehicle Fuel</td>\n",
       "      <td>RV14R</td>\n",
       "      <td>Mobile Night Care Service</td>\n",
       "      <td>A00</td>\n",
       "      <td>Adult &amp; Communities</td>\n",
       "    </tr>\n",
       "    <tr>\n",
       "      <th>...</th>\n",
       "      <td>...</td>\n",
       "      <td>...</td>\n",
       "      <td>...</td>\n",
       "      <td>...</td>\n",
       "      <td>...</td>\n",
       "      <td>...</td>\n",
       "      <td>...</td>\n",
       "      <td>...</td>\n",
       "      <td>...</td>\n",
       "      <td>...</td>\n",
       "    </tr>\n",
       "    <tr>\n",
       "      <th>2015-03-31</th>\n",
       "      <td>VR</td>\n",
       "      <td>66.95</td>\n",
       "      <td>selco trade centres</td>\n",
       "      <td>************3949</td>\n",
       "      <td>J030</td>\n",
       "      <td>Bldg RM Departmental</td>\n",
       "      <td>RLBCC</td>\n",
       "      <td>Alexander Stadium</td>\n",
       "      <td>A00</td>\n",
       "      <td>Local Services</td>\n",
       "    </tr>\n",
       "    <tr>\n",
       "      <th>2015-03-31</th>\n",
       "      <td>VR</td>\n",
       "      <td>25.90</td>\n",
       "      <td>selco trade centres</td>\n",
       "      <td>************3949</td>\n",
       "      <td>J030</td>\n",
       "      <td>Bldg RM Departmental</td>\n",
       "      <td>RLBCC</td>\n",
       "      <td>Alexander Stadium</td>\n",
       "      <td>A00</td>\n",
       "      <td>Local Services</td>\n",
       "    </tr>\n",
       "    <tr>\n",
       "      <th>2015-03-31</th>\n",
       "      <td>VR</td>\n",
       "      <td>19.18</td>\n",
       "      <td>selco trade centres</td>\n",
       "      <td>************3949</td>\n",
       "      <td>J030</td>\n",
       "      <td>Bldg RM Departmental</td>\n",
       "      <td>RLBCC</td>\n",
       "      <td>Alexander Stadium</td>\n",
       "      <td>A00</td>\n",
       "      <td>Local Services</td>\n",
       "    </tr>\n",
       "    <tr>\n",
       "      <th>2015-04-02</th>\n",
       "      <td>VR</td>\n",
       "      <td>19.06</td>\n",
       "      <td>selco trade centres</td>\n",
       "      <td>************3949</td>\n",
       "      <td>J030</td>\n",
       "      <td>Bldg RM Departmental</td>\n",
       "      <td>RLBCC</td>\n",
       "      <td>Alexander Stadium</td>\n",
       "      <td>A00</td>\n",
       "      <td>Local Services</td>\n",
       "    </tr>\n",
       "    <tr>\n",
       "      <th>2015-04-02</th>\n",
       "      <td>VR</td>\n",
       "      <td>40.00</td>\n",
       "      <td>bodyguard workwear ltd</td>\n",
       "      <td>************5711</td>\n",
       "      <td>K110</td>\n",
       "      <td>Vehicle R&amp;M</td>\n",
       "      <td>A4A06</td>\n",
       "      <td>Acivico</td>\n",
       "      <td>A00</td>\n",
       "      <td>Local Services</td>\n",
       "    </tr>\n",
       "  </tbody>\n",
       "</table>\n",
       "<p>4586 rows × 10 columns</p>\n",
       "</div>"
      ],
      "text/plain": [
       "           TRANS VAT DESC  ...          Directorate\n",
       "TRANS DATE                 ...                     \n",
       "2015-03-08             VR  ...  Adult & Communities\n",
       "2015-03-23             VR  ...  Adult & Communities\n",
       "2015-03-22             VR  ...  Adult & Communities\n",
       "2015-03-09             VR  ...  Adult & Communities\n",
       "2015-03-29             VR  ...  Adult & Communities\n",
       "...                   ...  ...                  ...\n",
       "2015-03-31             VR  ...       Local Services\n",
       "2015-03-31             VR  ...       Local Services\n",
       "2015-03-31             VR  ...       Local Services\n",
       "2015-04-02             VR  ...       Local Services\n",
       "2015-04-02             VR  ...       Local Services\n",
       "\n",
       "[4586 rows x 10 columns]"
      ]
     },
     "execution_count": 20,
     "metadata": {
      "tags": []
     },
     "output_type": "execute_result"
    }
   ],
   "source": [
    "df2015_mar"
   ]
  },
  {
   "cell_type": "code",
   "execution_count": 21,
   "metadata": {
    "colab": {
     "base_uri": "https://localhost:8080/",
     "height": 636
    },
    "id": "Yp7MzLXal1PK",
    "outputId": "22594b86-3044-4706-967c-84fa822d83ef"
   },
   "outputs": [
    {
     "data": {
      "text/html": [
       "<div>\n",
       "<style scoped>\n",
       "    .dataframe tbody tr th:only-of-type {\n",
       "        vertical-align: middle;\n",
       "    }\n",
       "\n",
       "    .dataframe tbody tr th {\n",
       "        vertical-align: top;\n",
       "    }\n",
       "\n",
       "    .dataframe thead th {\n",
       "        text-align: right;\n",
       "    }\n",
       "</style>\n",
       "<table border=\"1\" class=\"dataframe\">\n",
       "  <thead>\n",
       "    <tr style=\"text-align: right;\">\n",
       "      <th></th>\n",
       "      <th>TRANS VAT DESC</th>\n",
       "      <th>ORIGINAL GROSS AMT</th>\n",
       "      <th>MERCHANT NAME</th>\n",
       "      <th>CARD NUMBER</th>\n",
       "      <th>TRANS CAC CODE 1</th>\n",
       "      <th>TRANS CAC DESC 1</th>\n",
       "      <th>TRANS CAC CODE 2</th>\n",
       "      <th>TRANS CAC DESC 2</th>\n",
       "      <th>TRANS CAC CODE 3</th>\n",
       "      <th>Directorate</th>\n",
       "      <th>Directorate</th>\n",
       "      <th>Unnamed: 10</th>\n",
       "    </tr>\n",
       "    <tr>\n",
       "      <th>TRANS DATE</th>\n",
       "      <th></th>\n",
       "      <th></th>\n",
       "      <th></th>\n",
       "      <th></th>\n",
       "      <th></th>\n",
       "      <th></th>\n",
       "      <th></th>\n",
       "      <th></th>\n",
       "      <th></th>\n",
       "      <th></th>\n",
       "      <th></th>\n",
       "      <th></th>\n",
       "    </tr>\n",
       "  </thead>\n",
       "  <tbody>\n",
       "    <tr>\n",
       "      <th>2015-06-05</th>\n",
       "      <td>VR</td>\n",
       "      <td>34.26</td>\n",
       "      <td>tex city sstn</td>\n",
       "      <td>************0541</td>\n",
       "      <td>K020</td>\n",
       "      <td>Vehicle Fuel</td>\n",
       "      <td>RV12T</td>\n",
       "      <td>Shakti Elders Dce, 73 Conybere St, B12</td>\n",
       "      <td>A00</td>\n",
       "      <td>Adult &amp; Communities</td>\n",
       "      <td>NaN</td>\n",
       "      <td>NaN</td>\n",
       "    </tr>\n",
       "    <tr>\n",
       "      <th>2015-06-19</th>\n",
       "      <td>VR</td>\n",
       "      <td>65.00</td>\n",
       "      <td>beaumont s.stn fs402</td>\n",
       "      <td>************8143</td>\n",
       "      <td>K020</td>\n",
       "      <td>Vehicle Fuel</td>\n",
       "      <td>RV14R</td>\n",
       "      <td>Mobile Night Care Service</td>\n",
       "      <td>A00</td>\n",
       "      <td>Adult &amp; Communities</td>\n",
       "      <td>NaN</td>\n",
       "      <td>NaN</td>\n",
       "    </tr>\n",
       "    <tr>\n",
       "      <th>2015-06-11</th>\n",
       "      <td>VR</td>\n",
       "      <td>47.07</td>\n",
       "      <td>tex sussex sstn</td>\n",
       "      <td>************8738</td>\n",
       "      <td>K020</td>\n",
       "      <td>Vehicle Fuel</td>\n",
       "      <td>RV12T</td>\n",
       "      <td>Shakti Elders Dce, 73 Conybere St, B12</td>\n",
       "      <td>A00</td>\n",
       "      <td>Adult &amp; Communities</td>\n",
       "      <td>NaN</td>\n",
       "      <td>NaN</td>\n",
       "    </tr>\n",
       "    <tr>\n",
       "      <th>2015-06-15</th>\n",
       "      <td>VR</td>\n",
       "      <td>47.59</td>\n",
       "      <td>tex sussex sstn</td>\n",
       "      <td>************8738</td>\n",
       "      <td>K020</td>\n",
       "      <td>Vehicle Fuel</td>\n",
       "      <td>RV12T</td>\n",
       "      <td>Shakti Elders Dce, 73 Conybere St, B12</td>\n",
       "      <td>A00</td>\n",
       "      <td>Adult &amp; Communities</td>\n",
       "      <td>NaN</td>\n",
       "      <td>NaN</td>\n",
       "    </tr>\n",
       "    <tr>\n",
       "      <th>2015-06-18</th>\n",
       "      <td>VR</td>\n",
       "      <td>21.11</td>\n",
       "      <td>tex sussex sstn</td>\n",
       "      <td>************8738</td>\n",
       "      <td>K020</td>\n",
       "      <td>Vehicle Fuel</td>\n",
       "      <td>RV12T</td>\n",
       "      <td>Shakti Elders Dce, 73 Conybere St, B12</td>\n",
       "      <td>A00</td>\n",
       "      <td>Adult &amp; Communities</td>\n",
       "      <td>NaN</td>\n",
       "      <td>NaN</td>\n",
       "    </tr>\n",
       "    <tr>\n",
       "      <th>...</th>\n",
       "      <td>...</td>\n",
       "      <td>...</td>\n",
       "      <td>...</td>\n",
       "      <td>...</td>\n",
       "      <td>...</td>\n",
       "      <td>...</td>\n",
       "      <td>...</td>\n",
       "      <td>...</td>\n",
       "      <td>...</td>\n",
       "      <td>...</td>\n",
       "      <td>...</td>\n",
       "      <td>...</td>\n",
       "    </tr>\n",
       "    <tr>\n",
       "      <th>2015-03-31</th>\n",
       "      <td>VR</td>\n",
       "      <td>66.95</td>\n",
       "      <td>selco trade centres</td>\n",
       "      <td>************3949</td>\n",
       "      <td>J030</td>\n",
       "      <td>Bldg RM Departmental</td>\n",
       "      <td>RLBCC</td>\n",
       "      <td>Alexander Stadium</td>\n",
       "      <td>A00</td>\n",
       "      <td>Local Services</td>\n",
       "      <td>NaN</td>\n",
       "      <td>NaN</td>\n",
       "    </tr>\n",
       "    <tr>\n",
       "      <th>2015-03-31</th>\n",
       "      <td>VR</td>\n",
       "      <td>25.90</td>\n",
       "      <td>selco trade centres</td>\n",
       "      <td>************3949</td>\n",
       "      <td>J030</td>\n",
       "      <td>Bldg RM Departmental</td>\n",
       "      <td>RLBCC</td>\n",
       "      <td>Alexander Stadium</td>\n",
       "      <td>A00</td>\n",
       "      <td>Local Services</td>\n",
       "      <td>NaN</td>\n",
       "      <td>NaN</td>\n",
       "    </tr>\n",
       "    <tr>\n",
       "      <th>2015-03-31</th>\n",
       "      <td>VR</td>\n",
       "      <td>19.18</td>\n",
       "      <td>selco trade centres</td>\n",
       "      <td>************3949</td>\n",
       "      <td>J030</td>\n",
       "      <td>Bldg RM Departmental</td>\n",
       "      <td>RLBCC</td>\n",
       "      <td>Alexander Stadium</td>\n",
       "      <td>A00</td>\n",
       "      <td>Local Services</td>\n",
       "      <td>NaN</td>\n",
       "      <td>NaN</td>\n",
       "    </tr>\n",
       "    <tr>\n",
       "      <th>2015-04-02</th>\n",
       "      <td>VR</td>\n",
       "      <td>19.06</td>\n",
       "      <td>selco trade centres</td>\n",
       "      <td>************3949</td>\n",
       "      <td>J030</td>\n",
       "      <td>Bldg RM Departmental</td>\n",
       "      <td>RLBCC</td>\n",
       "      <td>Alexander Stadium</td>\n",
       "      <td>A00</td>\n",
       "      <td>Local Services</td>\n",
       "      <td>NaN</td>\n",
       "      <td>NaN</td>\n",
       "    </tr>\n",
       "    <tr>\n",
       "      <th>2015-04-02</th>\n",
       "      <td>VR</td>\n",
       "      <td>40.00</td>\n",
       "      <td>bodyguard workwear ltd</td>\n",
       "      <td>************5711</td>\n",
       "      <td>K110</td>\n",
       "      <td>Vehicle R&amp;M</td>\n",
       "      <td>A4A06</td>\n",
       "      <td>Acivico</td>\n",
       "      <td>A00</td>\n",
       "      <td>Local Services</td>\n",
       "      <td>NaN</td>\n",
       "      <td>NaN</td>\n",
       "    </tr>\n",
       "  </tbody>\n",
       "</table>\n",
       "<p>44758 rows × 12 columns</p>\n",
       "</div>"
      ],
      "text/plain": [
       "           TRANS VAT DESC  ORIGINAL GROSS AMT  ... Directorate  Unnamed: 10\n",
       "TRANS DATE                                     ...                         \n",
       "2015-06-05             VR               34.26  ...          NaN         NaN\n",
       "2015-06-19             VR               65.00  ...          NaN         NaN\n",
       "2015-06-11             VR               47.07  ...          NaN         NaN\n",
       "2015-06-15             VR               47.59  ...          NaN         NaN\n",
       "2015-06-18             VR               21.11  ...          NaN         NaN\n",
       "...                   ...                 ...  ...          ...         ...\n",
       "2015-03-31             VR               66.95  ...          NaN         NaN\n",
       "2015-03-31             VR               25.90  ...          NaN         NaN\n",
       "2015-03-31             VR               19.18  ...          NaN         NaN\n",
       "2015-04-02             VR               19.06  ...          NaN         NaN\n",
       "2015-04-02             VR               40.00  ...          NaN         NaN\n",
       "\n",
       "[44758 rows x 12 columns]"
      ]
     },
     "execution_count": 21,
     "metadata": {
      "tags": []
     },
     "output_type": "execute_result"
    }
   ],
   "source": [
    "df2015 = df2015.append(df2015_feb)\n",
    "df2015 = df2015.append(df2015_mar)\n",
    "df2015"
   ]
  },
  {
   "cell_type": "code",
   "execution_count": 22,
   "metadata": {
    "colab": {
     "base_uri": "https://localhost:8080/",
     "height": 636
    },
    "id": "zjQjfD4hZuZB",
    "outputId": "fedb17f7-6ec3-48e0-9620-c4047a1c8be0"
   },
   "outputs": [
    {
     "data": {
      "text/html": [
       "<div>\n",
       "<style scoped>\n",
       "    .dataframe tbody tr th:only-of-type {\n",
       "        vertical-align: middle;\n",
       "    }\n",
       "\n",
       "    .dataframe tbody tr th {\n",
       "        vertical-align: top;\n",
       "    }\n",
       "\n",
       "    .dataframe thead th {\n",
       "        text-align: right;\n",
       "    }\n",
       "</style>\n",
       "<table border=\"1\" class=\"dataframe\">\n",
       "  <thead>\n",
       "    <tr style=\"text-align: right;\">\n",
       "      <th></th>\n",
       "      <th>TRANS VAT DESC</th>\n",
       "      <th>ORIGINAL GROSS AMT</th>\n",
       "      <th>MERCHANT NAME</th>\n",
       "      <th>CARD NUMBER</th>\n",
       "      <th>TRANS CAC CODE 1</th>\n",
       "      <th>TRANS CAC DESC 1</th>\n",
       "      <th>TRANS CAC CODE 2</th>\n",
       "      <th>TRANS CAC DESC 2</th>\n",
       "      <th>TRANS CAC CODE 3</th>\n",
       "      <th>Directorate</th>\n",
       "    </tr>\n",
       "    <tr>\n",
       "      <th>TRANS DATE</th>\n",
       "      <th></th>\n",
       "      <th></th>\n",
       "      <th></th>\n",
       "      <th></th>\n",
       "      <th></th>\n",
       "      <th></th>\n",
       "      <th></th>\n",
       "      <th></th>\n",
       "      <th></th>\n",
       "      <th></th>\n",
       "    </tr>\n",
       "  </thead>\n",
       "  <tbody>\n",
       "    <tr>\n",
       "      <th>2015-06-05</th>\n",
       "      <td>VR</td>\n",
       "      <td>34.26</td>\n",
       "      <td>tex city sstn</td>\n",
       "      <td>************0541</td>\n",
       "      <td>K020</td>\n",
       "      <td>Vehicle Fuel</td>\n",
       "      <td>RV12T</td>\n",
       "      <td>Shakti Elders Dce, 73 Conybere St, B12</td>\n",
       "      <td>A00</td>\n",
       "      <td>Adult &amp; Communities</td>\n",
       "    </tr>\n",
       "    <tr>\n",
       "      <th>2015-06-19</th>\n",
       "      <td>VR</td>\n",
       "      <td>65.00</td>\n",
       "      <td>beaumont s.stn fs402</td>\n",
       "      <td>************8143</td>\n",
       "      <td>K020</td>\n",
       "      <td>Vehicle Fuel</td>\n",
       "      <td>RV14R</td>\n",
       "      <td>Mobile Night Care Service</td>\n",
       "      <td>A00</td>\n",
       "      <td>Adult &amp; Communities</td>\n",
       "    </tr>\n",
       "    <tr>\n",
       "      <th>2015-06-11</th>\n",
       "      <td>VR</td>\n",
       "      <td>47.07</td>\n",
       "      <td>tex sussex sstn</td>\n",
       "      <td>************8738</td>\n",
       "      <td>K020</td>\n",
       "      <td>Vehicle Fuel</td>\n",
       "      <td>RV12T</td>\n",
       "      <td>Shakti Elders Dce, 73 Conybere St, B12</td>\n",
       "      <td>A00</td>\n",
       "      <td>Adult &amp; Communities</td>\n",
       "    </tr>\n",
       "    <tr>\n",
       "      <th>2015-06-15</th>\n",
       "      <td>VR</td>\n",
       "      <td>47.59</td>\n",
       "      <td>tex sussex sstn</td>\n",
       "      <td>************8738</td>\n",
       "      <td>K020</td>\n",
       "      <td>Vehicle Fuel</td>\n",
       "      <td>RV12T</td>\n",
       "      <td>Shakti Elders Dce, 73 Conybere St, B12</td>\n",
       "      <td>A00</td>\n",
       "      <td>Adult &amp; Communities</td>\n",
       "    </tr>\n",
       "    <tr>\n",
       "      <th>2015-06-18</th>\n",
       "      <td>VR</td>\n",
       "      <td>21.11</td>\n",
       "      <td>tex sussex sstn</td>\n",
       "      <td>************8738</td>\n",
       "      <td>K020</td>\n",
       "      <td>Vehicle Fuel</td>\n",
       "      <td>RV12T</td>\n",
       "      <td>Shakti Elders Dce, 73 Conybere St, B12</td>\n",
       "      <td>A00</td>\n",
       "      <td>Adult &amp; Communities</td>\n",
       "    </tr>\n",
       "    <tr>\n",
       "      <th>...</th>\n",
       "      <td>...</td>\n",
       "      <td>...</td>\n",
       "      <td>...</td>\n",
       "      <td>...</td>\n",
       "      <td>...</td>\n",
       "      <td>...</td>\n",
       "      <td>...</td>\n",
       "      <td>...</td>\n",
       "      <td>...</td>\n",
       "      <td>...</td>\n",
       "    </tr>\n",
       "    <tr>\n",
       "      <th>2015-03-31</th>\n",
       "      <td>VR</td>\n",
       "      <td>66.95</td>\n",
       "      <td>selco trade centres</td>\n",
       "      <td>************3949</td>\n",
       "      <td>J030</td>\n",
       "      <td>Bldg RM Departmental</td>\n",
       "      <td>RLBCC</td>\n",
       "      <td>Alexander Stadium</td>\n",
       "      <td>A00</td>\n",
       "      <td>Local Services</td>\n",
       "    </tr>\n",
       "    <tr>\n",
       "      <th>2015-03-31</th>\n",
       "      <td>VR</td>\n",
       "      <td>25.90</td>\n",
       "      <td>selco trade centres</td>\n",
       "      <td>************3949</td>\n",
       "      <td>J030</td>\n",
       "      <td>Bldg RM Departmental</td>\n",
       "      <td>RLBCC</td>\n",
       "      <td>Alexander Stadium</td>\n",
       "      <td>A00</td>\n",
       "      <td>Local Services</td>\n",
       "    </tr>\n",
       "    <tr>\n",
       "      <th>2015-03-31</th>\n",
       "      <td>VR</td>\n",
       "      <td>19.18</td>\n",
       "      <td>selco trade centres</td>\n",
       "      <td>************3949</td>\n",
       "      <td>J030</td>\n",
       "      <td>Bldg RM Departmental</td>\n",
       "      <td>RLBCC</td>\n",
       "      <td>Alexander Stadium</td>\n",
       "      <td>A00</td>\n",
       "      <td>Local Services</td>\n",
       "    </tr>\n",
       "    <tr>\n",
       "      <th>2015-04-02</th>\n",
       "      <td>VR</td>\n",
       "      <td>19.06</td>\n",
       "      <td>selco trade centres</td>\n",
       "      <td>************3949</td>\n",
       "      <td>J030</td>\n",
       "      <td>Bldg RM Departmental</td>\n",
       "      <td>RLBCC</td>\n",
       "      <td>Alexander Stadium</td>\n",
       "      <td>A00</td>\n",
       "      <td>Local Services</td>\n",
       "    </tr>\n",
       "    <tr>\n",
       "      <th>2015-04-02</th>\n",
       "      <td>VR</td>\n",
       "      <td>40.00</td>\n",
       "      <td>bodyguard workwear ltd</td>\n",
       "      <td>************5711</td>\n",
       "      <td>K110</td>\n",
       "      <td>Vehicle R&amp;M</td>\n",
       "      <td>A4A06</td>\n",
       "      <td>Acivico</td>\n",
       "      <td>A00</td>\n",
       "      <td>Local Services</td>\n",
       "    </tr>\n",
       "  </tbody>\n",
       "</table>\n",
       "<p>44758 rows × 10 columns</p>\n",
       "</div>"
      ],
      "text/plain": [
       "           TRANS VAT DESC  ...          Directorate\n",
       "TRANS DATE                 ...                     \n",
       "2015-06-05             VR  ...  Adult & Communities\n",
       "2015-06-19             VR  ...  Adult & Communities\n",
       "2015-06-11             VR  ...  Adult & Communities\n",
       "2015-06-15             VR  ...  Adult & Communities\n",
       "2015-06-18             VR  ...  Adult & Communities\n",
       "...                   ...  ...                  ...\n",
       "2015-03-31             VR  ...       Local Services\n",
       "2015-03-31             VR  ...       Local Services\n",
       "2015-03-31             VR  ...       Local Services\n",
       "2015-04-02             VR  ...       Local Services\n",
       "2015-04-02             VR  ...       Local Services\n",
       "\n",
       "[44758 rows x 10 columns]"
      ]
     },
     "execution_count": 22,
     "metadata": {
      "tags": []
     },
     "output_type": "execute_result"
    }
   ],
   "source": [
    "df2015 = df2015.iloc[:, :-2]\n",
    "df2015"
   ]
  },
  {
   "cell_type": "markdown",
   "metadata": {
    "id": "omPeu5SImw97"
   },
   "source": [
    "### 2016\n",
    "January to December"
   ]
  },
  {
   "cell_type": "code",
   "execution_count": 23,
   "metadata": {
    "colab": {
     "base_uri": "https://localhost:8080/"
    },
    "id": "RWdHfmeFm-MD",
    "outputId": "e4aa7c83-69e6-4417-d2ec-dfbe5946e402"
   },
   "outputs": [
    {
     "name": "stdout",
     "output_type": "stream",
     "text": [
      "1 3 publish-spend-december-2016.xls\n",
      "2 4 publishspendjanuary2016.xls\n",
      "3 5 publishspendmarch2016.xls\n",
      "4 9 publish-spend-october-2016.xls\n",
      "5 13 publish-spend-september-2016.xls\n",
      "6 15 publishspendfebruary2016.xls\n",
      "7 26 publish-spend-may-2016.xls\n",
      "8 27 publish-spend-august-2016.xls\n",
      "9 28 publish-spend-april-2016.xls\n",
      "10 30 publish-spend-july-2016.xls\n",
      "11 33 publish-spend-june-2016.xls\n",
      "12 35 publishing-spend-november-2016.xls\n",
      "missing months []\n"
     ]
    }
   ],
   "source": [
    "df2016 = xlsDataImport(file_list,\"2016\")"
   ]
  },
  {
   "cell_type": "code",
   "execution_count": 24,
   "metadata": {
    "colab": {
     "base_uri": "https://localhost:8080/",
     "height": 620
    },
    "id": "r6nrxKBznVjN",
    "outputId": "d541d581-d7d6-4e7d-c596-b35710476d9e"
   },
   "outputs": [
    {
     "data": {
      "text/html": [
       "<div>\n",
       "<style scoped>\n",
       "    .dataframe tbody tr th:only-of-type {\n",
       "        vertical-align: middle;\n",
       "    }\n",
       "\n",
       "    .dataframe tbody tr th {\n",
       "        vertical-align: top;\n",
       "    }\n",
       "\n",
       "    .dataframe thead th {\n",
       "        text-align: right;\n",
       "    }\n",
       "</style>\n",
       "<table border=\"1\" class=\"dataframe\">\n",
       "  <thead>\n",
       "    <tr style=\"text-align: right;\">\n",
       "      <th></th>\n",
       "      <th>TRANS VAT DESC</th>\n",
       "      <th>ORIGINAL GROSS AMT</th>\n",
       "      <th>MERCHANT NAME</th>\n",
       "      <th>CARD NUMBER</th>\n",
       "      <th>TRANS CAC CODE 1</th>\n",
       "      <th>TRANS CAC DESC 1</th>\n",
       "      <th>TRANS CAC CODE 2</th>\n",
       "      <th>TRANS CAC DESC 2</th>\n",
       "      <th>TRANS CAC CODE 3</th>\n",
       "      <th>Directorate</th>\n",
       "      <th>Directorates</th>\n",
       "    </tr>\n",
       "    <tr>\n",
       "      <th>TRANS DATE</th>\n",
       "      <th></th>\n",
       "      <th></th>\n",
       "      <th></th>\n",
       "      <th></th>\n",
       "      <th></th>\n",
       "      <th></th>\n",
       "      <th></th>\n",
       "      <th></th>\n",
       "      <th></th>\n",
       "      <th></th>\n",
       "      <th></th>\n",
       "    </tr>\n",
       "  </thead>\n",
       "  <tbody>\n",
       "    <tr>\n",
       "      <th>2016-12-22</th>\n",
       "      <td>VR</td>\n",
       "      <td>20.00</td>\n",
       "      <td>shell kings 587</td>\n",
       "      <td>************5770</td>\n",
       "      <td>K020</td>\n",
       "      <td>Vehicle Fuel</td>\n",
       "      <td>RV12N</td>\n",
       "      <td>African-Caribbean DC</td>\n",
       "      <td>A00</td>\n",
       "      <td>Adult &amp; Communities</td>\n",
       "      <td>NaN</td>\n",
       "    </tr>\n",
       "    <tr>\n",
       "      <th>2016-12-15</th>\n",
       "      <td>VR</td>\n",
       "      <td>35.00</td>\n",
       "      <td>shell kings 587</td>\n",
       "      <td>************5770</td>\n",
       "      <td>K020</td>\n",
       "      <td>Vehicle Fuel</td>\n",
       "      <td>RV12N</td>\n",
       "      <td>African-Caribbean DC</td>\n",
       "      <td>A00</td>\n",
       "      <td>Adult &amp; Communities</td>\n",
       "      <td>NaN</td>\n",
       "    </tr>\n",
       "    <tr>\n",
       "      <th>2016-12-22</th>\n",
       "      <td>VR</td>\n",
       "      <td>75.97</td>\n",
       "      <td>shell fiveways 387</td>\n",
       "      <td>************1147</td>\n",
       "      <td>K020</td>\n",
       "      <td>Vehicle Fuel</td>\n",
       "      <td>RV1K2</td>\n",
       "      <td>Elders Group - Ladywood</td>\n",
       "      <td>A00</td>\n",
       "      <td>Adult &amp; Communities</td>\n",
       "      <td>NaN</td>\n",
       "    </tr>\n",
       "    <tr>\n",
       "      <th>2016-12-21</th>\n",
       "      <td>VR</td>\n",
       "      <td>50.00</td>\n",
       "      <td>shell fiveways 387</td>\n",
       "      <td>************1147</td>\n",
       "      <td>K020</td>\n",
       "      <td>Vehicle Fuel</td>\n",
       "      <td>RV1K2</td>\n",
       "      <td>Elders Group - Ladywood</td>\n",
       "      <td>A00</td>\n",
       "      <td>Adult &amp; Communities</td>\n",
       "      <td>NaN</td>\n",
       "    </tr>\n",
       "    <tr>\n",
       "      <th>2016-12-21</th>\n",
       "      <td>VR</td>\n",
       "      <td>47.24</td>\n",
       "      <td>shell fiveways 387</td>\n",
       "      <td>************1147</td>\n",
       "      <td>K020</td>\n",
       "      <td>Vehicle Fuel</td>\n",
       "      <td>RV1K2</td>\n",
       "      <td>Elders Group - Ladywood</td>\n",
       "      <td>A00</td>\n",
       "      <td>Adult &amp; Communities</td>\n",
       "      <td>NaN</td>\n",
       "    </tr>\n",
       "    <tr>\n",
       "      <th>...</th>\n",
       "      <td>...</td>\n",
       "      <td>...</td>\n",
       "      <td>...</td>\n",
       "      <td>...</td>\n",
       "      <td>...</td>\n",
       "      <td>...</td>\n",
       "      <td>...</td>\n",
       "      <td>...</td>\n",
       "      <td>...</td>\n",
       "      <td>...</td>\n",
       "      <td>...</td>\n",
       "    </tr>\n",
       "    <tr>\n",
       "      <th>2016-11-19</th>\n",
       "      <td>VR</td>\n",
       "      <td>162.00</td>\n",
       "      <td>premier inn</td>\n",
       "      <td>************7751</td>\n",
       "      <td>N060</td>\n",
       "      <td>Other Third Parties</td>\n",
       "      <td>RJADC</td>\n",
       "      <td>Homeless Private Sector Accom</td>\n",
       "      <td>A00</td>\n",
       "      <td>Local Services</td>\n",
       "      <td>NaN</td>\n",
       "    </tr>\n",
       "    <tr>\n",
       "      <th>2016-11-20</th>\n",
       "      <td>VR</td>\n",
       "      <td>41.00</td>\n",
       "      <td>travelodge website</td>\n",
       "      <td>************7751</td>\n",
       "      <td>N060</td>\n",
       "      <td>Other Third Parties</td>\n",
       "      <td>RJADC</td>\n",
       "      <td>Homeless Private Sector Accom</td>\n",
       "      <td>A00</td>\n",
       "      <td>Local Services</td>\n",
       "      <td>NaN</td>\n",
       "    </tr>\n",
       "    <tr>\n",
       "      <th>2016-11-21</th>\n",
       "      <td>VR</td>\n",
       "      <td>47.00</td>\n",
       "      <td>travelodge website</td>\n",
       "      <td>************7751</td>\n",
       "      <td>N060</td>\n",
       "      <td>Other Third Parties</td>\n",
       "      <td>RJADC</td>\n",
       "      <td>Homeless Private Sector Accom</td>\n",
       "      <td>A00</td>\n",
       "      <td>Local Services</td>\n",
       "      <td>NaN</td>\n",
       "    </tr>\n",
       "    <tr>\n",
       "      <th>2016-11-23</th>\n",
       "      <td>VR</td>\n",
       "      <td>61.00</td>\n",
       "      <td>travelodge website</td>\n",
       "      <td>************7751</td>\n",
       "      <td>N060</td>\n",
       "      <td>Other Third Parties</td>\n",
       "      <td>RJADC</td>\n",
       "      <td>Homeless Private Sector Accom</td>\n",
       "      <td>A00</td>\n",
       "      <td>Local Services</td>\n",
       "      <td>NaN</td>\n",
       "    </tr>\n",
       "    <tr>\n",
       "      <th>2016-11-17</th>\n",
       "      <td>VZ</td>\n",
       "      <td>58.33</td>\n",
       "      <td>bp clock f/s</td>\n",
       "      <td>************4599</td>\n",
       "      <td>K020</td>\n",
       "      <td>Vehicle Fuel</td>\n",
       "      <td>RHNCA</td>\n",
       "      <td>Careline</td>\n",
       "      <td>A00</td>\n",
       "      <td>Local Services</td>\n",
       "      <td>NaN</td>\n",
       "    </tr>\n",
       "  </tbody>\n",
       "</table>\n",
       "<p>52455 rows × 11 columns</p>\n",
       "</div>"
      ],
      "text/plain": [
       "           TRANS VAT DESC  ORIGINAL GROSS AMT  ...          Directorate Directorates\n",
       "TRANS DATE                                     ...                                  \n",
       "2016-12-22             VR               20.00  ...  Adult & Communities          NaN\n",
       "2016-12-15             VR               35.00  ...  Adult & Communities          NaN\n",
       "2016-12-22             VR               75.97  ...  Adult & Communities          NaN\n",
       "2016-12-21             VR               50.00  ...  Adult & Communities          NaN\n",
       "2016-12-21             VR               47.24  ...  Adult & Communities          NaN\n",
       "...                   ...                 ...  ...                  ...          ...\n",
       "2016-11-19             VR              162.00  ...       Local Services          NaN\n",
       "2016-11-20             VR               41.00  ...       Local Services          NaN\n",
       "2016-11-21             VR               47.00  ...       Local Services          NaN\n",
       "2016-11-23             VR               61.00  ...       Local Services          NaN\n",
       "2016-11-17             VZ               58.33  ...       Local Services          NaN\n",
       "\n",
       "[52455 rows x 11 columns]"
      ]
     },
     "execution_count": 24,
     "metadata": {
      "tags": []
     },
     "output_type": "execute_result"
    }
   ],
   "source": [
    "df2016"
   ]
  },
  {
   "cell_type": "code",
   "execution_count": 25,
   "metadata": {
    "colab": {
     "base_uri": "https://localhost:8080/",
     "height": 436
    },
    "id": "XAee0kpxbSTU",
    "outputId": "c0c371b8-f0b6-487a-a773-4f82d4f1c29e"
   },
   "outputs": [
    {
     "data": {
      "text/html": [
       "<div>\n",
       "<style scoped>\n",
       "    .dataframe tbody tr th:only-of-type {\n",
       "        vertical-align: middle;\n",
       "    }\n",
       "\n",
       "    .dataframe tbody tr th {\n",
       "        vertical-align: top;\n",
       "    }\n",
       "\n",
       "    .dataframe thead th {\n",
       "        text-align: right;\n",
       "    }\n",
       "</style>\n",
       "<table border=\"1\" class=\"dataframe\">\n",
       "  <thead>\n",
       "    <tr style=\"text-align: right;\">\n",
       "      <th></th>\n",
       "      <th>TRANS VAT DESC</th>\n",
       "      <th>ORIGINAL GROSS AMT</th>\n",
       "      <th>MERCHANT NAME</th>\n",
       "      <th>CARD NUMBER</th>\n",
       "      <th>TRANS CAC CODE 1</th>\n",
       "      <th>TRANS CAC DESC 1</th>\n",
       "      <th>TRANS CAC CODE 2</th>\n",
       "      <th>TRANS CAC DESC 2</th>\n",
       "      <th>TRANS CAC CODE 3</th>\n",
       "      <th>Directorate</th>\n",
       "    </tr>\n",
       "    <tr>\n",
       "      <th>TRANS DATE</th>\n",
       "      <th></th>\n",
       "      <th></th>\n",
       "      <th></th>\n",
       "      <th></th>\n",
       "      <th></th>\n",
       "      <th></th>\n",
       "      <th></th>\n",
       "      <th></th>\n",
       "      <th></th>\n",
       "      <th></th>\n",
       "    </tr>\n",
       "  </thead>\n",
       "  <tbody>\n",
       "    <tr>\n",
       "      <th>2016-12-22</th>\n",
       "      <td>VR</td>\n",
       "      <td>20.00</td>\n",
       "      <td>shell kings 587</td>\n",
       "      <td>************5770</td>\n",
       "      <td>K020</td>\n",
       "      <td>Vehicle Fuel</td>\n",
       "      <td>RV12N</td>\n",
       "      <td>African-Caribbean DC</td>\n",
       "      <td>A00</td>\n",
       "      <td>Adult &amp; Communities</td>\n",
       "    </tr>\n",
       "    <tr>\n",
       "      <th>2016-12-15</th>\n",
       "      <td>VR</td>\n",
       "      <td>35.00</td>\n",
       "      <td>shell kings 587</td>\n",
       "      <td>************5770</td>\n",
       "      <td>K020</td>\n",
       "      <td>Vehicle Fuel</td>\n",
       "      <td>RV12N</td>\n",
       "      <td>African-Caribbean DC</td>\n",
       "      <td>A00</td>\n",
       "      <td>Adult &amp; Communities</td>\n",
       "    </tr>\n",
       "    <tr>\n",
       "      <th>2016-12-22</th>\n",
       "      <td>VR</td>\n",
       "      <td>75.97</td>\n",
       "      <td>shell fiveways 387</td>\n",
       "      <td>************1147</td>\n",
       "      <td>K020</td>\n",
       "      <td>Vehicle Fuel</td>\n",
       "      <td>RV1K2</td>\n",
       "      <td>Elders Group - Ladywood</td>\n",
       "      <td>A00</td>\n",
       "      <td>Adult &amp; Communities</td>\n",
       "    </tr>\n",
       "    <tr>\n",
       "      <th>2016-12-21</th>\n",
       "      <td>VR</td>\n",
       "      <td>50.00</td>\n",
       "      <td>shell fiveways 387</td>\n",
       "      <td>************1147</td>\n",
       "      <td>K020</td>\n",
       "      <td>Vehicle Fuel</td>\n",
       "      <td>RV1K2</td>\n",
       "      <td>Elders Group - Ladywood</td>\n",
       "      <td>A00</td>\n",
       "      <td>Adult &amp; Communities</td>\n",
       "    </tr>\n",
       "    <tr>\n",
       "      <th>2016-12-21</th>\n",
       "      <td>VR</td>\n",
       "      <td>47.24</td>\n",
       "      <td>shell fiveways 387</td>\n",
       "      <td>************1147</td>\n",
       "      <td>K020</td>\n",
       "      <td>Vehicle Fuel</td>\n",
       "      <td>RV1K2</td>\n",
       "      <td>Elders Group - Ladywood</td>\n",
       "      <td>A00</td>\n",
       "      <td>Adult &amp; Communities</td>\n",
       "    </tr>\n",
       "    <tr>\n",
       "      <th>...</th>\n",
       "      <td>...</td>\n",
       "      <td>...</td>\n",
       "      <td>...</td>\n",
       "      <td>...</td>\n",
       "      <td>...</td>\n",
       "      <td>...</td>\n",
       "      <td>...</td>\n",
       "      <td>...</td>\n",
       "      <td>...</td>\n",
       "      <td>...</td>\n",
       "    </tr>\n",
       "    <tr>\n",
       "      <th>2016-11-19</th>\n",
       "      <td>VR</td>\n",
       "      <td>162.00</td>\n",
       "      <td>premier inn</td>\n",
       "      <td>************7751</td>\n",
       "      <td>N060</td>\n",
       "      <td>Other Third Parties</td>\n",
       "      <td>RJADC</td>\n",
       "      <td>Homeless Private Sector Accom</td>\n",
       "      <td>A00</td>\n",
       "      <td>Local Services</td>\n",
       "    </tr>\n",
       "    <tr>\n",
       "      <th>2016-11-20</th>\n",
       "      <td>VR</td>\n",
       "      <td>41.00</td>\n",
       "      <td>travelodge website</td>\n",
       "      <td>************7751</td>\n",
       "      <td>N060</td>\n",
       "      <td>Other Third Parties</td>\n",
       "      <td>RJADC</td>\n",
       "      <td>Homeless Private Sector Accom</td>\n",
       "      <td>A00</td>\n",
       "      <td>Local Services</td>\n",
       "    </tr>\n",
       "    <tr>\n",
       "      <th>2016-11-21</th>\n",
       "      <td>VR</td>\n",
       "      <td>47.00</td>\n",
       "      <td>travelodge website</td>\n",
       "      <td>************7751</td>\n",
       "      <td>N060</td>\n",
       "      <td>Other Third Parties</td>\n",
       "      <td>RJADC</td>\n",
       "      <td>Homeless Private Sector Accom</td>\n",
       "      <td>A00</td>\n",
       "      <td>Local Services</td>\n",
       "    </tr>\n",
       "    <tr>\n",
       "      <th>2016-11-23</th>\n",
       "      <td>VR</td>\n",
       "      <td>61.00</td>\n",
       "      <td>travelodge website</td>\n",
       "      <td>************7751</td>\n",
       "      <td>N060</td>\n",
       "      <td>Other Third Parties</td>\n",
       "      <td>RJADC</td>\n",
       "      <td>Homeless Private Sector Accom</td>\n",
       "      <td>A00</td>\n",
       "      <td>Local Services</td>\n",
       "    </tr>\n",
       "    <tr>\n",
       "      <th>2016-11-17</th>\n",
       "      <td>VZ</td>\n",
       "      <td>58.33</td>\n",
       "      <td>bp clock f/s</td>\n",
       "      <td>************4599</td>\n",
       "      <td>K020</td>\n",
       "      <td>Vehicle Fuel</td>\n",
       "      <td>RHNCA</td>\n",
       "      <td>Careline</td>\n",
       "      <td>A00</td>\n",
       "      <td>Local Services</td>\n",
       "    </tr>\n",
       "  </tbody>\n",
       "</table>\n",
       "<p>52455 rows × 10 columns</p>\n",
       "</div>"
      ],
      "text/plain": [
       "           TRANS VAT DESC  ...          Directorate\n",
       "TRANS DATE                 ...                     \n",
       "2016-12-22             VR  ...  Adult & Communities\n",
       "2016-12-15             VR  ...  Adult & Communities\n",
       "2016-12-22             VR  ...  Adult & Communities\n",
       "2016-12-21             VR  ...  Adult & Communities\n",
       "2016-12-21             VR  ...  Adult & Communities\n",
       "...                   ...  ...                  ...\n",
       "2016-11-19             VR  ...       Local Services\n",
       "2016-11-20             VR  ...       Local Services\n",
       "2016-11-21             VR  ...       Local Services\n",
       "2016-11-23             VR  ...       Local Services\n",
       "2016-11-17             VZ  ...       Local Services\n",
       "\n",
       "[52455 rows x 10 columns]"
      ]
     },
     "execution_count": 25,
     "metadata": {
      "tags": []
     },
     "output_type": "execute_result"
    }
   ],
   "source": [
    "df2016 = df2016.drop('Directorates',axis=1)\n",
    "df2016"
   ]
  },
  {
   "cell_type": "markdown",
   "metadata": {
    "id": "h_1k5iUindG9"
   },
   "source": [
    "### 2017\n",
    "January to December"
   ]
  },
  {
   "cell_type": "code",
   "execution_count": 26,
   "metadata": {
    "colab": {
     "base_uri": "https://localhost:8080/"
    },
    "id": "GolPFAk8nekH",
    "outputId": "848aa6c9-f469-417c-810d-d29d00b2ac5a"
   },
   "outputs": [
    {
     "name": "stdout",
     "output_type": "stream",
     "text": [
      "1 1 cusersfinainmndesktoppublish-spend-sept-2017.xls\n",
      "2 6 cusersfinainmndesktoppublish-copy-january-2017.xls\n",
      "3 8 cusersfinainmndesktoppublish-spend-february-2017-all-directorates.xls\n",
      "4 11 cusersfinainmndesktoppublish-spend-august-2017-all-directorates.xls\n",
      "5 12 cusersfinainmndesktoppublish-spend-may-2017.xls\n",
      "6 16 cusersfinainmndesktoppublish-spend-march-2017.xls\n",
      "7 22 cusersfinainmndesktoppublish-spend-june--2017.xls\n",
      "8 34 cusersfinainmndesktoppublish-spend-november-2017-all-directorates.xls\n",
      "9 36 cusersfinainmndesktoppublish-spend-july-2017.xls\n",
      "10 39 cusersfinainmndesktoppublish-spend-october-2017-all-directorates.xls\n",
      "missing months ['april', 'september', 'december']\n"
     ]
    }
   ],
   "source": [
    "df2017 = xlsDataImport(file_list,\"2017\")"
   ]
  },
  {
   "cell_type": "markdown",
   "metadata": {
    "id": "cmDl5ctFnxym"
   },
   "source": [
    "missing: december is provided as csv file with different features, so for now we bypass this file, april is not provided and sept is abreviated"
   ]
  },
  {
   "cell_type": "code",
   "execution_count": 27,
   "metadata": {
    "colab": {
     "base_uri": "https://localhost:8080/",
     "height": 720
    },
    "id": "eG77xlO8cbSY",
    "outputId": "5bbdbd08-9eb4-4b02-c572-d3b02fd0d7e7"
   },
   "outputs": [
    {
     "data": {
      "text/html": [
       "<div>\n",
       "<style scoped>\n",
       "    .dataframe tbody tr th:only-of-type {\n",
       "        vertical-align: middle;\n",
       "    }\n",
       "\n",
       "    .dataframe tbody tr th {\n",
       "        vertical-align: top;\n",
       "    }\n",
       "\n",
       "    .dataframe thead th {\n",
       "        text-align: right;\n",
       "    }\n",
       "</style>\n",
       "<table border=\"1\" class=\"dataframe\">\n",
       "  <thead>\n",
       "    <tr style=\"text-align: right;\">\n",
       "      <th></th>\n",
       "      <th>TRANS VAT DESC</th>\n",
       "      <th>ORIGINAL GROSS AMT</th>\n",
       "      <th>ORIGINAL CUR</th>\n",
       "      <th>BILLING GROSS AMT</th>\n",
       "      <th>BILLING CUR CODE</th>\n",
       "      <th>TRANS TAX AMT</th>\n",
       "      <th>MERCHANT NAME</th>\n",
       "      <th>CARD NUMBER</th>\n",
       "      <th>BILLING CUR CODE.1</th>\n",
       "      <th>TRANS CAC CODE 1</th>\n",
       "      <th>TRANS CAC DESC 1</th>\n",
       "      <th>TRANS CAC CODE 2</th>\n",
       "      <th>TRANS CAC DESC 2</th>\n",
       "      <th>TRANS CAC CODE 3</th>\n",
       "      <th>Directorate</th>\n",
       "      <th>Directorates</th>\n",
       "    </tr>\n",
       "    <tr>\n",
       "      <th>TRANS DATE</th>\n",
       "      <th></th>\n",
       "      <th></th>\n",
       "      <th></th>\n",
       "      <th></th>\n",
       "      <th></th>\n",
       "      <th></th>\n",
       "      <th></th>\n",
       "      <th></th>\n",
       "      <th></th>\n",
       "      <th></th>\n",
       "      <th></th>\n",
       "      <th></th>\n",
       "      <th></th>\n",
       "      <th></th>\n",
       "      <th></th>\n",
       "      <th></th>\n",
       "    </tr>\n",
       "  </thead>\n",
       "  <tbody>\n",
       "    <tr>\n",
       "      <th>2017-09-15</th>\n",
       "      <td>VR</td>\n",
       "      <td>50.00</td>\n",
       "      <td>GBP</td>\n",
       "      <td>50.00</td>\n",
       "      <td>GBP</td>\n",
       "      <td>8.33</td>\n",
       "      <td>mrh six ways</td>\n",
       "      <td>************5804</td>\n",
       "      <td>GBP</td>\n",
       "      <td>K020</td>\n",
       "      <td>Vehicle Fuel</td>\n",
       "      <td>RVA12</td>\n",
       "      <td>Enablement Tyburn Rd</td>\n",
       "      <td>A00</td>\n",
       "      <td>Adult &amp; Communities</td>\n",
       "      <td>NaN</td>\n",
       "    </tr>\n",
       "    <tr>\n",
       "      <th>2017-09-22</th>\n",
       "      <td>VR</td>\n",
       "      <td>60.01</td>\n",
       "      <td>GBP</td>\n",
       "      <td>60.01</td>\n",
       "      <td>GBP</td>\n",
       "      <td>10.00</td>\n",
       "      <td>beeches road servi</td>\n",
       "      <td>************5804</td>\n",
       "      <td>GBP</td>\n",
       "      <td>K020</td>\n",
       "      <td>Vehicle Fuel</td>\n",
       "      <td>RVA12</td>\n",
       "      <td>Enablement Tyburn Rd</td>\n",
       "      <td>A00</td>\n",
       "      <td>Adult &amp; Communities</td>\n",
       "      <td>NaN</td>\n",
       "    </tr>\n",
       "    <tr>\n",
       "      <th>2017-09-18</th>\n",
       "      <td>VR</td>\n",
       "      <td>59.00</td>\n",
       "      <td>GBP</td>\n",
       "      <td>59.00</td>\n",
       "      <td>GBP</td>\n",
       "      <td>9.83</td>\n",
       "      <td>shell kings 587</td>\n",
       "      <td>************2823</td>\n",
       "      <td>GBP</td>\n",
       "      <td>K020</td>\n",
       "      <td>Vehicle Fuel</td>\n",
       "      <td>RV191</td>\n",
       "      <td>Moseley Day Centre</td>\n",
       "      <td>A00</td>\n",
       "      <td>Adult &amp; Communities</td>\n",
       "      <td>NaN</td>\n",
       "    </tr>\n",
       "    <tr>\n",
       "      <th>2017-09-29</th>\n",
       "      <td>VR</td>\n",
       "      <td>59.72</td>\n",
       "      <td>GBP</td>\n",
       "      <td>59.72</td>\n",
       "      <td>GBP</td>\n",
       "      <td>9.95</td>\n",
       "      <td>shell kings 587</td>\n",
       "      <td>************2823</td>\n",
       "      <td>GBP</td>\n",
       "      <td>K020</td>\n",
       "      <td>Vehicle Fuel</td>\n",
       "      <td>RV191</td>\n",
       "      <td>Moseley Day Centre</td>\n",
       "      <td>A00</td>\n",
       "      <td>Adult &amp; Communities</td>\n",
       "      <td>NaN</td>\n",
       "    </tr>\n",
       "    <tr>\n",
       "      <th>2017-09-08</th>\n",
       "      <td>VR</td>\n",
       "      <td>67.06</td>\n",
       "      <td>GBP</td>\n",
       "      <td>67.06</td>\n",
       "      <td>GBP</td>\n",
       "      <td>11.18</td>\n",
       "      <td>texaco ash motor</td>\n",
       "      <td>************7214</td>\n",
       "      <td>GBP</td>\n",
       "      <td>K020</td>\n",
       "      <td>Vehicle Fuel</td>\n",
       "      <td>RV12T</td>\n",
       "      <td>Shakti Elders Dce, 73 Conybere St, B12</td>\n",
       "      <td>A00</td>\n",
       "      <td>Adult &amp; Communities</td>\n",
       "      <td>NaN</td>\n",
       "    </tr>\n",
       "    <tr>\n",
       "      <th>...</th>\n",
       "      <td>...</td>\n",
       "      <td>...</td>\n",
       "      <td>...</td>\n",
       "      <td>...</td>\n",
       "      <td>...</td>\n",
       "      <td>...</td>\n",
       "      <td>...</td>\n",
       "      <td>...</td>\n",
       "      <td>...</td>\n",
       "      <td>...</td>\n",
       "      <td>...</td>\n",
       "      <td>...</td>\n",
       "      <td>...</td>\n",
       "      <td>...</td>\n",
       "      <td>...</td>\n",
       "      <td>...</td>\n",
       "    </tr>\n",
       "    <tr>\n",
       "      <th>2017-10-09</th>\n",
       "      <td>VR</td>\n",
       "      <td>14642.72</td>\n",
       "      <td>GBP</td>\n",
       "      <td>14642.72</td>\n",
       "      <td>GBP</td>\n",
       "      <td>NaN</td>\n",
       "      <td>the furnishing service</td>\n",
       "      <td>************6583</td>\n",
       "      <td>NaN</td>\n",
       "      <td>L100</td>\n",
       "      <td>Equip Operational</td>\n",
       "      <td>RYB5F</td>\n",
       "      <td>Social Fund</td>\n",
       "      <td>A00</td>\n",
       "      <td>NaN</td>\n",
       "      <td>Corporate Resources</td>\n",
       "    </tr>\n",
       "    <tr>\n",
       "      <th>2017-10-09</th>\n",
       "      <td>VR</td>\n",
       "      <td>27581.89</td>\n",
       "      <td>GBP</td>\n",
       "      <td>27581.89</td>\n",
       "      <td>GBP</td>\n",
       "      <td>NaN</td>\n",
       "      <td>the furnishing service</td>\n",
       "      <td>************6583</td>\n",
       "      <td>NaN</td>\n",
       "      <td>L100</td>\n",
       "      <td>Equip Operational</td>\n",
       "      <td>RYB5F</td>\n",
       "      <td>Social Fund</td>\n",
       "      <td>A00</td>\n",
       "      <td>NaN</td>\n",
       "      <td>Corporate Resources</td>\n",
       "    </tr>\n",
       "    <tr>\n",
       "      <th>2017-10-09</th>\n",
       "      <td>VR</td>\n",
       "      <td>23794.88</td>\n",
       "      <td>GBP</td>\n",
       "      <td>23794.88</td>\n",
       "      <td>GBP</td>\n",
       "      <td>NaN</td>\n",
       "      <td>the furnishing service</td>\n",
       "      <td>************6583</td>\n",
       "      <td>NaN</td>\n",
       "      <td>L100</td>\n",
       "      <td>Equip Operational</td>\n",
       "      <td>RYB5F</td>\n",
       "      <td>Social Fund</td>\n",
       "      <td>A00</td>\n",
       "      <td>NaN</td>\n",
       "      <td>Corporate Resources</td>\n",
       "    </tr>\n",
       "    <tr>\n",
       "      <th>2017-10-27</th>\n",
       "      <td>VR</td>\n",
       "      <td>26076.35</td>\n",
       "      <td>GBP</td>\n",
       "      <td>26076.35</td>\n",
       "      <td>GBP</td>\n",
       "      <td>NaN</td>\n",
       "      <td>the furnishing service</td>\n",
       "      <td>************6583</td>\n",
       "      <td>NaN</td>\n",
       "      <td>L100</td>\n",
       "      <td>Equip Operational</td>\n",
       "      <td>RYB5F</td>\n",
       "      <td>Social Fund</td>\n",
       "      <td>A00</td>\n",
       "      <td>NaN</td>\n",
       "      <td>Corporate Resources</td>\n",
       "    </tr>\n",
       "    <tr>\n",
       "      <th>2017-10-27</th>\n",
       "      <td>VR</td>\n",
       "      <td>19542.73</td>\n",
       "      <td>GBP</td>\n",
       "      <td>19542.73</td>\n",
       "      <td>GBP</td>\n",
       "      <td>NaN</td>\n",
       "      <td>the furnishing service</td>\n",
       "      <td>************6583</td>\n",
       "      <td>NaN</td>\n",
       "      <td>L100</td>\n",
       "      <td>Equip Operational</td>\n",
       "      <td>RYB5F</td>\n",
       "      <td>Social Fund</td>\n",
       "      <td>A00</td>\n",
       "      <td>NaN</td>\n",
       "      <td>Corporate Resources</td>\n",
       "    </tr>\n",
       "  </tbody>\n",
       "</table>\n",
       "<p>45426 rows × 16 columns</p>\n",
       "</div>"
      ],
      "text/plain": [
       "           TRANS VAT DESC  ...         Directorates\n",
       "TRANS DATE                 ...                     \n",
       "2017-09-15             VR  ...                  NaN\n",
       "2017-09-22             VR  ...                  NaN\n",
       "2017-09-18             VR  ...                  NaN\n",
       "2017-09-29             VR  ...                  NaN\n",
       "2017-09-08             VR  ...                  NaN\n",
       "...                   ...  ...                  ...\n",
       "2017-10-09             VR  ...  Corporate Resources\n",
       "2017-10-09             VR  ...  Corporate Resources\n",
       "2017-10-09             VR  ...  Corporate Resources\n",
       "2017-10-27             VR  ...  Corporate Resources\n",
       "2017-10-27             VR  ...  Corporate Resources\n",
       "\n",
       "[45426 rows x 16 columns]"
      ]
     },
     "execution_count": 27,
     "metadata": {
      "tags": []
     },
     "output_type": "execute_result"
    }
   ],
   "source": [
    "df2017"
   ]
  },
  {
   "cell_type": "markdown",
   "metadata": {
    "id": "V9wPdmZXpCxK"
   },
   "source": [
    "### 2018\n",
    "January"
   ]
  },
  {
   "cell_type": "code",
   "execution_count": 28,
   "metadata": {
    "colab": {
     "base_uri": "https://localhost:8080/"
    },
    "id": "xj0bpPkIuF9P",
    "outputId": "531f6fc5-7b02-467b-8c22-31d9c64a1018"
   },
   "outputs": [
    {
     "name": "stdout",
     "output_type": "stream",
     "text": [
      "1 40 cusersfinainmndesktoppublish-spend-january-2018.xls\n",
      "missing months ['february', 'march', 'april', 'may', 'june', 'july', 'august', 'september', 'october', 'november', 'december']\n"
     ]
    }
   ],
   "source": [
    "df2018 = xlsDataImport(file_list,\"2018\")"
   ]
  },
  {
   "cell_type": "code",
   "execution_count": 29,
   "metadata": {
    "colab": {
     "base_uri": "https://localhost:8080/",
     "height": 636
    },
    "id": "ZXNHHQMXc8Bo",
    "outputId": "25df060a-5eb8-4764-dcbf-cad01cc837a0"
   },
   "outputs": [
    {
     "data": {
      "text/html": [
       "<div>\n",
       "<style scoped>\n",
       "    .dataframe tbody tr th:only-of-type {\n",
       "        vertical-align: middle;\n",
       "    }\n",
       "\n",
       "    .dataframe tbody tr th {\n",
       "        vertical-align: top;\n",
       "    }\n",
       "\n",
       "    .dataframe thead th {\n",
       "        text-align: right;\n",
       "    }\n",
       "</style>\n",
       "<table border=\"1\" class=\"dataframe\">\n",
       "  <thead>\n",
       "    <tr style=\"text-align: right;\">\n",
       "      <th></th>\n",
       "      <th>TRANS VAT DESC</th>\n",
       "      <th>ORIGINAL GROSS AMT</th>\n",
       "      <th>ORIGINAL CUR</th>\n",
       "      <th>BILLING GROSS AMT</th>\n",
       "      <th>BILLING CUR CODE</th>\n",
       "      <th>MERCHANT NAME</th>\n",
       "      <th>CARD NUMBER</th>\n",
       "      <th>TRANS CAC CODE 1</th>\n",
       "      <th>TRANS CAC DESC 1</th>\n",
       "      <th>TRANS CAC CODE 2</th>\n",
       "      <th>TRANS CAC DESC 2</th>\n",
       "      <th>TRANS CAC CODE 3</th>\n",
       "      <th>Directorate</th>\n",
       "    </tr>\n",
       "    <tr>\n",
       "      <th>TRANS DATE</th>\n",
       "      <th></th>\n",
       "      <th></th>\n",
       "      <th></th>\n",
       "      <th></th>\n",
       "      <th></th>\n",
       "      <th></th>\n",
       "      <th></th>\n",
       "      <th></th>\n",
       "      <th></th>\n",
       "      <th></th>\n",
       "      <th></th>\n",
       "      <th></th>\n",
       "      <th></th>\n",
       "    </tr>\n",
       "  </thead>\n",
       "  <tbody>\n",
       "    <tr>\n",
       "      <th>2018-01-03</th>\n",
       "      <td>VR</td>\n",
       "      <td>82.20</td>\n",
       "      <td>GBP</td>\n",
       "      <td>82.20</td>\n",
       "      <td>GBP</td>\n",
       "      <td>mrh six ways</td>\n",
       "      <td>************5804</td>\n",
       "      <td>K020</td>\n",
       "      <td>Vehicle Fuel</td>\n",
       "      <td>RVA11</td>\n",
       "      <td>Beeches GOLDD</td>\n",
       "      <td>A00</td>\n",
       "      <td>Adult Social Care and Health</td>\n",
       "    </tr>\n",
       "    <tr>\n",
       "      <th>2018-02-05</th>\n",
       "      <td>VR</td>\n",
       "      <td>60.00</td>\n",
       "      <td>GBP</td>\n",
       "      <td>60.00</td>\n",
       "      <td>GBP</td>\n",
       "      <td>malthurst limited</td>\n",
       "      <td>************5804</td>\n",
       "      <td>K020</td>\n",
       "      <td>Vehicle Fuel</td>\n",
       "      <td>RVA11</td>\n",
       "      <td>Beeches GOLDD</td>\n",
       "      <td>A00</td>\n",
       "      <td>Adult Social Care and Health</td>\n",
       "    </tr>\n",
       "    <tr>\n",
       "      <th>2018-01-29</th>\n",
       "      <td>VR</td>\n",
       "      <td>50.00</td>\n",
       "      <td>GBP</td>\n",
       "      <td>50.00</td>\n",
       "      <td>GBP</td>\n",
       "      <td>beeches road servi</td>\n",
       "      <td>************5804</td>\n",
       "      <td>K020</td>\n",
       "      <td>Vehicle Fuel</td>\n",
       "      <td>RVA11</td>\n",
       "      <td>Beeches GOLDD</td>\n",
       "      <td>A00</td>\n",
       "      <td>Adult Social Care and Health</td>\n",
       "    </tr>\n",
       "    <tr>\n",
       "      <th>2018-01-19</th>\n",
       "      <td>VR</td>\n",
       "      <td>45.00</td>\n",
       "      <td>GBP</td>\n",
       "      <td>45.00</td>\n",
       "      <td>GBP</td>\n",
       "      <td>beeches road servi</td>\n",
       "      <td>************5804</td>\n",
       "      <td>K020</td>\n",
       "      <td>Vehicle Fuel</td>\n",
       "      <td>RVA11</td>\n",
       "      <td>Beeches GOLDD</td>\n",
       "      <td>A00</td>\n",
       "      <td>Adult Social Care and Health</td>\n",
       "    </tr>\n",
       "    <tr>\n",
       "      <th>2018-01-18</th>\n",
       "      <td>VR</td>\n",
       "      <td>77.49</td>\n",
       "      <td>GBP</td>\n",
       "      <td>77.49</td>\n",
       "      <td>GBP</td>\n",
       "      <td>rontec moseley</td>\n",
       "      <td>************2823</td>\n",
       "      <td>K020</td>\n",
       "      <td>Vehicle Fuel</td>\n",
       "      <td>RV191</td>\n",
       "      <td>Moseley Day Centre</td>\n",
       "      <td>A00</td>\n",
       "      <td>Adult Social Care and Health</td>\n",
       "    </tr>\n",
       "    <tr>\n",
       "      <th>...</th>\n",
       "      <td>...</td>\n",
       "      <td>...</td>\n",
       "      <td>...</td>\n",
       "      <td>...</td>\n",
       "      <td>...</td>\n",
       "      <td>...</td>\n",
       "      <td>...</td>\n",
       "      <td>...</td>\n",
       "      <td>...</td>\n",
       "      <td>...</td>\n",
       "      <td>...</td>\n",
       "      <td>...</td>\n",
       "      <td>...</td>\n",
       "    </tr>\n",
       "    <tr>\n",
       "      <th>2018-01-10</th>\n",
       "      <td>VR</td>\n",
       "      <td>63.83</td>\n",
       "      <td>GBP</td>\n",
       "      <td>63.83</td>\n",
       "      <td>GBP</td>\n",
       "      <td>bp clock f/s</td>\n",
       "      <td>************4599</td>\n",
       "      <td>K020</td>\n",
       "      <td>Vehicle Fuel</td>\n",
       "      <td>RHNCA</td>\n",
       "      <td>Careline</td>\n",
       "      <td>A00</td>\n",
       "      <td>Local Services</td>\n",
       "    </tr>\n",
       "    <tr>\n",
       "      <th>2018-02-02</th>\n",
       "      <td>VR</td>\n",
       "      <td>34.64</td>\n",
       "      <td>GBP</td>\n",
       "      <td>34.64</td>\n",
       "      <td>GBP</td>\n",
       "      <td>sparkbrook service</td>\n",
       "      <td>************4599</td>\n",
       "      <td>K020</td>\n",
       "      <td>Vehicle Fuel</td>\n",
       "      <td>RHNCA</td>\n",
       "      <td>Careline</td>\n",
       "      <td>A00</td>\n",
       "      <td>Local Services</td>\n",
       "    </tr>\n",
       "    <tr>\n",
       "      <th>2018-01-24</th>\n",
       "      <td>VR</td>\n",
       "      <td>48.01</td>\n",
       "      <td>GBP</td>\n",
       "      <td>48.01</td>\n",
       "      <td>GBP</td>\n",
       "      <td>malthurst limited</td>\n",
       "      <td>************2150</td>\n",
       "      <td>K020</td>\n",
       "      <td>Vehicle Fuel</td>\n",
       "      <td>RTG15</td>\n",
       "      <td>Enforcement Team</td>\n",
       "      <td>A00</td>\n",
       "      <td>Local Services</td>\n",
       "    </tr>\n",
       "    <tr>\n",
       "      <th>2018-01-13</th>\n",
       "      <td>VR</td>\n",
       "      <td>20.55</td>\n",
       "      <td>GBP</td>\n",
       "      <td>20.55</td>\n",
       "      <td>GBP</td>\n",
       "      <td>wilko retail limit</td>\n",
       "      <td>************8673</td>\n",
       "      <td>L100</td>\n",
       "      <td>Equip Operational</td>\n",
       "      <td>RJHH8</td>\n",
       "      <td>Homeless Centre-Breedon Road</td>\n",
       "      <td>A00</td>\n",
       "      <td>Local Services</td>\n",
       "    </tr>\n",
       "    <tr>\n",
       "      <th>2018-01-05</th>\n",
       "      <td>VR</td>\n",
       "      <td>30.00</td>\n",
       "      <td>GBP</td>\n",
       "      <td>30.00</td>\n",
       "      <td>GBP</td>\n",
       "      <td>sainsburys s/mkt</td>\n",
       "      <td>************8673</td>\n",
       "      <td>L100</td>\n",
       "      <td>Equip Operational</td>\n",
       "      <td>RJHH4</td>\n",
       "      <td>Homeless Centre  Bushmere</td>\n",
       "      <td>A00</td>\n",
       "      <td>Local Services</td>\n",
       "    </tr>\n",
       "  </tbody>\n",
       "</table>\n",
       "<p>5640 rows × 13 columns</p>\n",
       "</div>"
      ],
      "text/plain": [
       "           TRANS VAT DESC  ...                   Directorate\n",
       "TRANS DATE                 ...                              \n",
       "2018-01-03             VR  ...  Adult Social Care and Health\n",
       "2018-02-05             VR  ...  Adult Social Care and Health\n",
       "2018-01-29             VR  ...  Adult Social Care and Health\n",
       "2018-01-19             VR  ...  Adult Social Care and Health\n",
       "2018-01-18             VR  ...  Adult Social Care and Health\n",
       "...                   ...  ...                           ...\n",
       "2018-01-10             VR  ...                Local Services\n",
       "2018-02-02             VR  ...                Local Services\n",
       "2018-01-24             VR  ...                Local Services\n",
       "2018-01-13             VR  ...                Local Services\n",
       "2018-01-05             VR  ...                Local Services\n",
       "\n",
       "[5640 rows x 13 columns]"
      ]
     },
     "execution_count": 29,
     "metadata": {
      "tags": []
     },
     "output_type": "execute_result"
    }
   ],
   "source": [
    "df2018"
   ]
  },
  {
   "cell_type": "markdown",
   "metadata": {
    "id": "KNFCCQaInka3"
   },
   "source": [
    "# 3 -\tPre-processing\n",
    "\n",
    "Profiling / clustering\n",
    "Based on people's transactions\n",
    "\n",
    "-\tRemove rows containing NaN values.\n",
    "-\t Ordered values by the ascending dates.\n",
    "-\tScaled the numerical variables so they will have a means of 0 and a standard deviation of 1.\n"
   ]
  },
  {
   "cell_type": "markdown",
   "metadata": {
    "id": "vkG_ThBUmj1h"
   },
   "source": [
    "### Entire dataset"
   ]
  },
  {
   "cell_type": "markdown",
   "metadata": {
    "id": "d405DYoXwCrd"
   },
   "source": [
    "So now we have this dataframes:  \n",
    "- df2014\n",
    "- df2015\n",
    "- df2016\n",
    "- df2017\n",
    "- df2018"
   ]
  },
  {
   "cell_type": "code",
   "execution_count": 30,
   "metadata": {
    "colab": {
     "base_uri": "https://localhost:8080/",
     "height": 157
    },
    "id": "Zsruwxh_6Jsx",
    "outputId": "755fb9be-d842-4beb-e926-4835d54ed020"
   },
   "outputs": [
    {
     "data": {
      "text/html": [
       "<div>\n",
       "<style scoped>\n",
       "    .dataframe tbody tr th:only-of-type {\n",
       "        vertical-align: middle;\n",
       "    }\n",
       "\n",
       "    .dataframe tbody tr th {\n",
       "        vertical-align: top;\n",
       "    }\n",
       "\n",
       "    .dataframe thead th {\n",
       "        text-align: right;\n",
       "    }\n",
       "</style>\n",
       "<table border=\"1\" class=\"dataframe\">\n",
       "  <thead>\n",
       "    <tr style=\"text-align: right;\">\n",
       "      <th></th>\n",
       "      <th>TRANS VAT DESC</th>\n",
       "      <th>ORIGINAL GROSS AMT</th>\n",
       "      <th>MERCHANT NAME</th>\n",
       "      <th>CARD NUMBER</th>\n",
       "      <th>BILLING CUR CODE</th>\n",
       "      <th>TRANS CAC CODE 1</th>\n",
       "      <th>TRANS CAC DESC 1</th>\n",
       "      <th>TRANS CAC CODE 2</th>\n",
       "      <th>TRANS CAC DESC 2</th>\n",
       "      <th>TRANS CAC CODE 3</th>\n",
       "      <th>Directorate</th>\n",
       "    </tr>\n",
       "    <tr>\n",
       "      <th>TRANS DATE</th>\n",
       "      <th></th>\n",
       "      <th></th>\n",
       "      <th></th>\n",
       "      <th></th>\n",
       "      <th></th>\n",
       "      <th></th>\n",
       "      <th></th>\n",
       "      <th></th>\n",
       "      <th></th>\n",
       "      <th></th>\n",
       "      <th></th>\n",
       "    </tr>\n",
       "  </thead>\n",
       "  <tbody>\n",
       "    <tr>\n",
       "      <th>2014-12-11</th>\n",
       "      <td>VR</td>\n",
       "      <td>53.21</td>\n",
       "      <td>shell kings 587</td>\n",
       "      <td>************5770</td>\n",
       "      <td>GBP</td>\n",
       "      <td>K020</td>\n",
       "      <td>Vehicle Fuel</td>\n",
       "      <td>RV12N</td>\n",
       "      <td>African-Caribbean DC</td>\n",
       "      <td>A00</td>\n",
       "      <td>Adult &amp; Communities</td>\n",
       "    </tr>\n",
       "  </tbody>\n",
       "</table>\n",
       "</div>"
      ],
      "text/plain": [
       "           TRANS VAT DESC  ...          Directorate\n",
       "TRANS DATE                 ...                     \n",
       "2014-12-11             VR  ...  Adult & Communities\n",
       "\n",
       "[1 rows x 11 columns]"
      ]
     },
     "execution_count": 30,
     "metadata": {
      "tags": []
     },
     "output_type": "execute_result"
    }
   ],
   "source": [
    "df2014.head(1)"
   ]
  },
  {
   "cell_type": "code",
   "execution_count": 31,
   "metadata": {
    "colab": {
     "base_uri": "https://localhost:8080/",
     "height": 107
    },
    "id": "1jOGC9vC6lip",
    "outputId": "f7a9710e-9390-4bf1-aadf-7f982209c471"
   },
   "outputs": [
    {
     "data": {
      "text/html": [
       "<div>\n",
       "<style scoped>\n",
       "    .dataframe tbody tr th:only-of-type {\n",
       "        vertical-align: middle;\n",
       "    }\n",
       "\n",
       "    .dataframe tbody tr th {\n",
       "        vertical-align: top;\n",
       "    }\n",
       "\n",
       "    .dataframe thead th {\n",
       "        text-align: right;\n",
       "    }\n",
       "</style>\n",
       "<table border=\"1\" class=\"dataframe\">\n",
       "  <thead>\n",
       "    <tr style=\"text-align: right;\">\n",
       "      <th></th>\n",
       "      <th>TRANS VAT DESC</th>\n",
       "      <th>ORIGINAL GROSS AMT</th>\n",
       "      <th>MERCHANT NAME</th>\n",
       "      <th>CARD NUMBER</th>\n",
       "      <th>TRANS CAC CODE 1</th>\n",
       "      <th>TRANS CAC DESC 1</th>\n",
       "      <th>TRANS CAC CODE 2</th>\n",
       "      <th>TRANS CAC DESC 2</th>\n",
       "      <th>TRANS CAC CODE 3</th>\n",
       "      <th>Directorate</th>\n",
       "    </tr>\n",
       "    <tr>\n",
       "      <th>TRANS DATE</th>\n",
       "      <th></th>\n",
       "      <th></th>\n",
       "      <th></th>\n",
       "      <th></th>\n",
       "      <th></th>\n",
       "      <th></th>\n",
       "      <th></th>\n",
       "      <th></th>\n",
       "      <th></th>\n",
       "      <th></th>\n",
       "    </tr>\n",
       "  </thead>\n",
       "  <tbody>\n",
       "    <tr>\n",
       "      <th>2015-06-05</th>\n",
       "      <td>VR</td>\n",
       "      <td>34.26</td>\n",
       "      <td>tex city sstn</td>\n",
       "      <td>************0541</td>\n",
       "      <td>K020</td>\n",
       "      <td>Vehicle Fuel</td>\n",
       "      <td>RV12T</td>\n",
       "      <td>Shakti Elders Dce, 73 Conybere St, B12</td>\n",
       "      <td>A00</td>\n",
       "      <td>Adult &amp; Communities</td>\n",
       "    </tr>\n",
       "  </tbody>\n",
       "</table>\n",
       "</div>"
      ],
      "text/plain": [
       "           TRANS VAT DESC  ...          Directorate\n",
       "TRANS DATE                 ...                     \n",
       "2015-06-05             VR  ...  Adult & Communities\n",
       "\n",
       "[1 rows x 10 columns]"
      ]
     },
     "execution_count": 31,
     "metadata": {
      "tags": []
     },
     "output_type": "execute_result"
    }
   ],
   "source": [
    "df2015.head(1)"
   ]
  },
  {
   "cell_type": "code",
   "execution_count": 32,
   "metadata": {
    "colab": {
     "base_uri": "https://localhost:8080/",
     "height": 107
    },
    "id": "o1xN2KF_6XBB",
    "outputId": "c5137c7a-1837-4d52-d556-c72e27ffccc2"
   },
   "outputs": [
    {
     "data": {
      "text/html": [
       "<div>\n",
       "<style scoped>\n",
       "    .dataframe tbody tr th:only-of-type {\n",
       "        vertical-align: middle;\n",
       "    }\n",
       "\n",
       "    .dataframe tbody tr th {\n",
       "        vertical-align: top;\n",
       "    }\n",
       "\n",
       "    .dataframe thead th {\n",
       "        text-align: right;\n",
       "    }\n",
       "</style>\n",
       "<table border=\"1\" class=\"dataframe\">\n",
       "  <thead>\n",
       "    <tr style=\"text-align: right;\">\n",
       "      <th></th>\n",
       "      <th>TRANS VAT DESC</th>\n",
       "      <th>ORIGINAL GROSS AMT</th>\n",
       "      <th>MERCHANT NAME</th>\n",
       "      <th>CARD NUMBER</th>\n",
       "      <th>TRANS CAC CODE 1</th>\n",
       "      <th>TRANS CAC DESC 1</th>\n",
       "      <th>TRANS CAC CODE 2</th>\n",
       "      <th>TRANS CAC DESC 2</th>\n",
       "      <th>TRANS CAC CODE 3</th>\n",
       "      <th>Directorate</th>\n",
       "    </tr>\n",
       "    <tr>\n",
       "      <th>TRANS DATE</th>\n",
       "      <th></th>\n",
       "      <th></th>\n",
       "      <th></th>\n",
       "      <th></th>\n",
       "      <th></th>\n",
       "      <th></th>\n",
       "      <th></th>\n",
       "      <th></th>\n",
       "      <th></th>\n",
       "      <th></th>\n",
       "    </tr>\n",
       "  </thead>\n",
       "  <tbody>\n",
       "    <tr>\n",
       "      <th>2016-12-22</th>\n",
       "      <td>VR</td>\n",
       "      <td>20.0</td>\n",
       "      <td>shell kings 587</td>\n",
       "      <td>************5770</td>\n",
       "      <td>K020</td>\n",
       "      <td>Vehicle Fuel</td>\n",
       "      <td>RV12N</td>\n",
       "      <td>African-Caribbean DC</td>\n",
       "      <td>A00</td>\n",
       "      <td>Adult &amp; Communities</td>\n",
       "    </tr>\n",
       "  </tbody>\n",
       "</table>\n",
       "</div>"
      ],
      "text/plain": [
       "           TRANS VAT DESC  ...          Directorate\n",
       "TRANS DATE                 ...                     \n",
       "2016-12-22             VR  ...  Adult & Communities\n",
       "\n",
       "[1 rows x 10 columns]"
      ]
     },
     "execution_count": 32,
     "metadata": {
      "tags": []
     },
     "output_type": "execute_result"
    }
   ],
   "source": [
    "df2016.head(1)"
   ]
  },
  {
   "cell_type": "code",
   "execution_count": 33,
   "metadata": {
    "colab": {
     "base_uri": "https://localhost:8080/",
     "height": 157
    },
    "id": "OED6PxtL6qJa",
    "outputId": "cc7b8592-715b-455d-eabe-e1e56c70794d"
   },
   "outputs": [
    {
     "data": {
      "text/html": [
       "<div>\n",
       "<style scoped>\n",
       "    .dataframe tbody tr th:only-of-type {\n",
       "        vertical-align: middle;\n",
       "    }\n",
       "\n",
       "    .dataframe tbody tr th {\n",
       "        vertical-align: top;\n",
       "    }\n",
       "\n",
       "    .dataframe thead th {\n",
       "        text-align: right;\n",
       "    }\n",
       "</style>\n",
       "<table border=\"1\" class=\"dataframe\">\n",
       "  <thead>\n",
       "    <tr style=\"text-align: right;\">\n",
       "      <th></th>\n",
       "      <th>TRANS VAT DESC</th>\n",
       "      <th>ORIGINAL GROSS AMT</th>\n",
       "      <th>ORIGINAL CUR</th>\n",
       "      <th>BILLING GROSS AMT</th>\n",
       "      <th>BILLING CUR CODE</th>\n",
       "      <th>TRANS TAX AMT</th>\n",
       "      <th>MERCHANT NAME</th>\n",
       "      <th>CARD NUMBER</th>\n",
       "      <th>BILLING CUR CODE.1</th>\n",
       "      <th>TRANS CAC CODE 1</th>\n",
       "      <th>TRANS CAC DESC 1</th>\n",
       "      <th>TRANS CAC CODE 2</th>\n",
       "      <th>TRANS CAC DESC 2</th>\n",
       "      <th>TRANS CAC CODE 3</th>\n",
       "      <th>Directorate</th>\n",
       "      <th>Directorates</th>\n",
       "    </tr>\n",
       "    <tr>\n",
       "      <th>TRANS DATE</th>\n",
       "      <th></th>\n",
       "      <th></th>\n",
       "      <th></th>\n",
       "      <th></th>\n",
       "      <th></th>\n",
       "      <th></th>\n",
       "      <th></th>\n",
       "      <th></th>\n",
       "      <th></th>\n",
       "      <th></th>\n",
       "      <th></th>\n",
       "      <th></th>\n",
       "      <th></th>\n",
       "      <th></th>\n",
       "      <th></th>\n",
       "      <th></th>\n",
       "    </tr>\n",
       "  </thead>\n",
       "  <tbody>\n",
       "    <tr>\n",
       "      <th>2017-09-15</th>\n",
       "      <td>VR</td>\n",
       "      <td>50.0</td>\n",
       "      <td>GBP</td>\n",
       "      <td>50.0</td>\n",
       "      <td>GBP</td>\n",
       "      <td>8.33</td>\n",
       "      <td>mrh six ways</td>\n",
       "      <td>************5804</td>\n",
       "      <td>GBP</td>\n",
       "      <td>K020</td>\n",
       "      <td>Vehicle Fuel</td>\n",
       "      <td>RVA12</td>\n",
       "      <td>Enablement Tyburn Rd</td>\n",
       "      <td>A00</td>\n",
       "      <td>Adult &amp; Communities</td>\n",
       "      <td>NaN</td>\n",
       "    </tr>\n",
       "  </tbody>\n",
       "</table>\n",
       "</div>"
      ],
      "text/plain": [
       "           TRANS VAT DESC  ORIGINAL GROSS AMT  ...          Directorate  Directorates\n",
       "TRANS DATE                                     ...                                   \n",
       "2017-09-15             VR                50.0  ...  Adult & Communities           NaN\n",
       "\n",
       "[1 rows x 16 columns]"
      ]
     },
     "execution_count": 33,
     "metadata": {
      "tags": []
     },
     "output_type": "execute_result"
    }
   ],
   "source": [
    "df2017.head(1)"
   ]
  },
  {
   "cell_type": "code",
   "execution_count": 34,
   "metadata": {
    "colab": {
     "base_uri": "https://localhost:8080/",
     "height": 157
    },
    "id": "tjViNFfg_9la",
    "outputId": "b47ac82e-692d-4dcb-dd8f-1121406877da"
   },
   "outputs": [
    {
     "data": {
      "text/html": [
       "<div>\n",
       "<style scoped>\n",
       "    .dataframe tbody tr th:only-of-type {\n",
       "        vertical-align: middle;\n",
       "    }\n",
       "\n",
       "    .dataframe tbody tr th {\n",
       "        vertical-align: top;\n",
       "    }\n",
       "\n",
       "    .dataframe thead th {\n",
       "        text-align: right;\n",
       "    }\n",
       "</style>\n",
       "<table border=\"1\" class=\"dataframe\">\n",
       "  <thead>\n",
       "    <tr style=\"text-align: right;\">\n",
       "      <th></th>\n",
       "      <th>TRANS VAT DESC</th>\n",
       "      <th>ORIGINAL GROSS AMT</th>\n",
       "      <th>ORIGINAL CUR</th>\n",
       "      <th>BILLING GROSS AMT</th>\n",
       "      <th>BILLING CUR CODE</th>\n",
       "      <th>TRANS TAX AMT</th>\n",
       "      <th>MERCHANT NAME</th>\n",
       "      <th>CARD NUMBER</th>\n",
       "      <th>BILLING CUR CODE.1</th>\n",
       "      <th>TRANS CAC CODE 1</th>\n",
       "      <th>TRANS CAC DESC 1</th>\n",
       "      <th>TRANS CAC CODE 2</th>\n",
       "      <th>TRANS CAC DESC 2</th>\n",
       "      <th>TRANS CAC CODE 3</th>\n",
       "      <th>Directorate</th>\n",
       "    </tr>\n",
       "    <tr>\n",
       "      <th>TRANS DATE</th>\n",
       "      <th></th>\n",
       "      <th></th>\n",
       "      <th></th>\n",
       "      <th></th>\n",
       "      <th></th>\n",
       "      <th></th>\n",
       "      <th></th>\n",
       "      <th></th>\n",
       "      <th></th>\n",
       "      <th></th>\n",
       "      <th></th>\n",
       "      <th></th>\n",
       "      <th></th>\n",
       "      <th></th>\n",
       "      <th></th>\n",
       "    </tr>\n",
       "  </thead>\n",
       "  <tbody>\n",
       "    <tr>\n",
       "      <th>2017-09-15</th>\n",
       "      <td>VR</td>\n",
       "      <td>50.0</td>\n",
       "      <td>GBP</td>\n",
       "      <td>50.0</td>\n",
       "      <td>GBP</td>\n",
       "      <td>8.33</td>\n",
       "      <td>mrh six ways</td>\n",
       "      <td>************5804</td>\n",
       "      <td>GBP</td>\n",
       "      <td>K020</td>\n",
       "      <td>Vehicle Fuel</td>\n",
       "      <td>RVA12</td>\n",
       "      <td>Enablement Tyburn Rd</td>\n",
       "      <td>A00</td>\n",
       "      <td>Adult &amp; Communities</td>\n",
       "    </tr>\n",
       "  </tbody>\n",
       "</table>\n",
       "</div>"
      ],
      "text/plain": [
       "           TRANS VAT DESC  ...          Directorate\n",
       "TRANS DATE                 ...                     \n",
       "2017-09-15             VR  ...  Adult & Communities\n",
       "\n",
       "[1 rows x 15 columns]"
      ]
     },
     "execution_count": 34,
     "metadata": {
      "tags": []
     },
     "output_type": "execute_result"
    }
   ],
   "source": [
    "df2017.drop('Directorates', axis=1, inplace=True)\n",
    "df2017.head(1)"
   ]
  },
  {
   "cell_type": "code",
   "execution_count": 35,
   "metadata": {
    "colab": {
     "base_uri": "https://localhost:8080/",
     "height": 157
    },
    "id": "CctkhmvedMj3",
    "outputId": "4946a5cd-8ccf-414a-f84b-ba236f13d306"
   },
   "outputs": [
    {
     "data": {
      "text/html": [
       "<div>\n",
       "<style scoped>\n",
       "    .dataframe tbody tr th:only-of-type {\n",
       "        vertical-align: middle;\n",
       "    }\n",
       "\n",
       "    .dataframe tbody tr th {\n",
       "        vertical-align: top;\n",
       "    }\n",
       "\n",
       "    .dataframe thead th {\n",
       "        text-align: right;\n",
       "    }\n",
       "</style>\n",
       "<table border=\"1\" class=\"dataframe\">\n",
       "  <thead>\n",
       "    <tr style=\"text-align: right;\">\n",
       "      <th></th>\n",
       "      <th>TRANS VAT DESC</th>\n",
       "      <th>ORIGINAL GROSS AMT</th>\n",
       "      <th>ORIGINAL CUR</th>\n",
       "      <th>BILLING GROSS AMT</th>\n",
       "      <th>BILLING CUR CODE</th>\n",
       "      <th>MERCHANT NAME</th>\n",
       "      <th>CARD NUMBER</th>\n",
       "      <th>TRANS CAC CODE 1</th>\n",
       "      <th>TRANS CAC DESC 1</th>\n",
       "      <th>TRANS CAC CODE 2</th>\n",
       "      <th>TRANS CAC DESC 2</th>\n",
       "      <th>TRANS CAC CODE 3</th>\n",
       "      <th>Directorate</th>\n",
       "    </tr>\n",
       "    <tr>\n",
       "      <th>TRANS DATE</th>\n",
       "      <th></th>\n",
       "      <th></th>\n",
       "      <th></th>\n",
       "      <th></th>\n",
       "      <th></th>\n",
       "      <th></th>\n",
       "      <th></th>\n",
       "      <th></th>\n",
       "      <th></th>\n",
       "      <th></th>\n",
       "      <th></th>\n",
       "      <th></th>\n",
       "      <th></th>\n",
       "    </tr>\n",
       "  </thead>\n",
       "  <tbody>\n",
       "    <tr>\n",
       "      <th>2018-01-03</th>\n",
       "      <td>VR</td>\n",
       "      <td>82.2</td>\n",
       "      <td>GBP</td>\n",
       "      <td>82.2</td>\n",
       "      <td>GBP</td>\n",
       "      <td>mrh six ways</td>\n",
       "      <td>************5804</td>\n",
       "      <td>K020</td>\n",
       "      <td>Vehicle Fuel</td>\n",
       "      <td>RVA11</td>\n",
       "      <td>Beeches GOLDD</td>\n",
       "      <td>A00</td>\n",
       "      <td>Adult Social Care and Health</td>\n",
       "    </tr>\n",
       "  </tbody>\n",
       "</table>\n",
       "</div>"
      ],
      "text/plain": [
       "           TRANS VAT DESC  ...                   Directorate\n",
       "TRANS DATE                 ...                              \n",
       "2018-01-03             VR  ...  Adult Social Care and Health\n",
       "\n",
       "[1 rows x 13 columns]"
      ]
     },
     "execution_count": 35,
     "metadata": {
      "tags": []
     },
     "output_type": "execute_result"
    }
   ],
   "source": [
    "df2018.head(1)"
   ]
  },
  {
   "cell_type": "code",
   "execution_count": 36,
   "metadata": {
    "id": "HWAfJLOtw42n"
   },
   "outputs": [],
   "source": [
    "df_2014 = df2014.copy()\n",
    "df_2015 = df2015.copy()\n",
    "df_2016 = df2016.copy()\n",
    "df_2017 = df2017.copy()\n",
    "df_2018 = df2018.copy()\n",
    "\n",
    "# # Dropping rows that contain NULL values from all DataFrames\n",
    "df_2014 = df_2014.dropna()\n",
    "df_2015 = df_2015.dropna()\n",
    "df_2016 = df_2016.dropna()\n",
    "df_2017 = df_2017.dropna()\n",
    "df_2018 = df_2018.dropna()\n",
    "\n",
    "# # Standardizing the ORIGINAL GROSS AMT variable\n",
    "df_2014_orig_gross_amt= pd.DataFrame(df_2014['ORIGINAL GROSS AMT'].values.reshape(-1, 1))\n",
    "df_2015_orig_gross_amt= pd.DataFrame(df_2015['ORIGINAL GROSS AMT'].values.reshape(-1, 1))\n",
    "df_2016_orig_gross_amt= pd.DataFrame(df_2016['ORIGINAL GROSS AMT'].values.reshape(-1, 1))\n",
    "df_2017_orig_gross_amt= pd.DataFrame(df_2017['ORIGINAL GROSS AMT'].values.reshape(-1, 1))\n",
    "df_2018_orig_gross_amt= pd.DataFrame(df_2018['ORIGINAL GROSS AMT'].values.reshape(-1, 1))\n",
    "\n",
    "df_2014['ORIGINAL GROSS AMT'] = StandardScaler().fit_transform(df_2014_orig_gross_amt)\n",
    "df_2015['ORIGINAL GROSS AMT'] = StandardScaler().fit_transform(df_2015_orig_gross_amt)\n",
    "df_2016['ORIGINAL GROSS AMT'] = StandardScaler().fit_transform(df_2016_orig_gross_amt)\n",
    "df_2017['ORIGINAL GROSS AMT'] = StandardScaler().fit_transform(df_2017_orig_gross_amt)\n",
    "df_2018['ORIGINAL GROSS AMT'] = StandardScaler().fit_transform(df_2018_orig_gross_amt)\n",
    "\n",
    "# # Sorting values by date\n",
    "df_2014 = df_2014.sort_values(by = 'TRANS DATE')\n",
    "df_2015 = df_2015.sort_values(by = 'TRANS DATE')\n",
    "df_2016 = df_2016.sort_values(by = 'TRANS DATE')\n",
    "df_2017 = df_2017.sort_values(by = 'TRANS DATE')\n",
    "df_2018 = df_2018.sort_values(by = 'TRANS DATE')"
   ]
  },
  {
   "cell_type": "code",
   "execution_count": 37,
   "metadata": {
    "colab": {
     "base_uri": "https://localhost:8080/"
    },
    "id": "xVVoXb3JyI-Q",
    "outputId": "9c5d60ea-9131-4f4b-c825-9f2c6f1a6bde"
   },
   "outputs": [
    {
     "name": "stdout",
     "output_type": "stream",
     "text": [
      "(33776, 11)\n",
      "(37975, 10)\n",
      "(43973, 10)\n",
      "(4061, 15)\n",
      "(4999, 13)\n"
     ]
    }
   ],
   "source": [
    "dataset = [df_2014,df_2015,df_2016,df_2017,df_2018]\n",
    "for df in dataset:\n",
    "  print(df.shape)"
   ]
  },
  {
   "cell_type": "code",
   "execution_count": 38,
   "metadata": {
    "colab": {
     "base_uri": "https://localhost:8080/",
     "height": 653
    },
    "id": "PjTS9K4qg7vI",
    "outputId": "f8b9f8fe-13bf-4847-eb3b-5d51279ba32d"
   },
   "outputs": [
    {
     "data": {
      "text/html": [
       "<div>\n",
       "<style scoped>\n",
       "    .dataframe tbody tr th:only-of-type {\n",
       "        vertical-align: middle;\n",
       "    }\n",
       "\n",
       "    .dataframe tbody tr th {\n",
       "        vertical-align: top;\n",
       "    }\n",
       "\n",
       "    .dataframe thead th {\n",
       "        text-align: right;\n",
       "    }\n",
       "</style>\n",
       "<table border=\"1\" class=\"dataframe\">\n",
       "  <thead>\n",
       "    <tr style=\"text-align: right;\">\n",
       "      <th></th>\n",
       "      <th>TRANS VAT DESC</th>\n",
       "      <th>ORIGINAL GROSS AMT</th>\n",
       "      <th>MERCHANT NAME</th>\n",
       "      <th>CARD NUMBER</th>\n",
       "      <th>BILLING CUR CODE</th>\n",
       "      <th>TRANS CAC CODE 1</th>\n",
       "      <th>TRANS CAC DESC 1</th>\n",
       "      <th>TRANS CAC CODE 2</th>\n",
       "      <th>TRANS CAC DESC 2</th>\n",
       "      <th>TRANS CAC CODE 3</th>\n",
       "      <th>Directorate</th>\n",
       "      <th>ORIGINAL CUR</th>\n",
       "      <th>BILLING GROSS AMT</th>\n",
       "      <th>TRANS TAX AMT</th>\n",
       "      <th>BILLING CUR CODE.1</th>\n",
       "    </tr>\n",
       "    <tr>\n",
       "      <th>TRANS DATE</th>\n",
       "      <th></th>\n",
       "      <th></th>\n",
       "      <th></th>\n",
       "      <th></th>\n",
       "      <th></th>\n",
       "      <th></th>\n",
       "      <th></th>\n",
       "      <th></th>\n",
       "      <th></th>\n",
       "      <th></th>\n",
       "      <th></th>\n",
       "      <th></th>\n",
       "      <th></th>\n",
       "      <th></th>\n",
       "      <th></th>\n",
       "    </tr>\n",
       "  </thead>\n",
       "  <tbody>\n",
       "    <tr>\n",
       "      <th>2013-11-12</th>\n",
       "      <td>VR</td>\n",
       "      <td>-0.383017</td>\n",
       "      <td>www.pcc.nhs.uk/eventma</td>\n",
       "      <td>************7557</td>\n",
       "      <td>GBP</td>\n",
       "      <td>L100</td>\n",
       "      <td>Equip Operational</td>\n",
       "      <td>RVA0K</td>\n",
       "      <td>Admin Support</td>\n",
       "      <td>A00</td>\n",
       "      <td>Adult &amp; Communities</td>\n",
       "      <td>NaN</td>\n",
       "      <td>NaN</td>\n",
       "      <td>NaN</td>\n",
       "      <td>NaN</td>\n",
       "    </tr>\n",
       "    <tr>\n",
       "      <th>2014-03-06</th>\n",
       "      <td>VR</td>\n",
       "      <td>-0.032900</td>\n",
       "      <td>bp snax 24 weoley castle</td>\n",
       "      <td>************5353</td>\n",
       "      <td>GBP</td>\n",
       "      <td>K020</td>\n",
       "      <td>Vehicle Fuel</td>\n",
       "      <td>RHAAC</td>\n",
       "      <td>E'baston CBHO 1 C'takers</td>\n",
       "      <td>A00</td>\n",
       "      <td>Local Services</td>\n",
       "      <td>NaN</td>\n",
       "      <td>NaN</td>\n",
       "      <td>NaN</td>\n",
       "      <td>NaN</td>\n",
       "    </tr>\n",
       "    <tr>\n",
       "      <th>2014-03-27</th>\n",
       "      <td>VZ</td>\n",
       "      <td>-0.087957</td>\n",
       "      <td>asda home delivery</td>\n",
       "      <td>************9410</td>\n",
       "      <td>GBP</td>\n",
       "      <td>L220</td>\n",
       "      <td>Purchases Food</td>\n",
       "      <td>REAJP</td>\n",
       "      <td>Perry Common Junior &amp; Infant</td>\n",
       "      <td>A00</td>\n",
       "      <td>CYP&amp;F SCHOOLS</td>\n",
       "      <td>NaN</td>\n",
       "      <td>NaN</td>\n",
       "      <td>NaN</td>\n",
       "      <td>NaN</td>\n",
       "    </tr>\n",
       "    <tr>\n",
       "      <th>2014-04-01</th>\n",
       "      <td>VR</td>\n",
       "      <td>-0.034620</td>\n",
       "      <td>bp snax 24 cofton 859</td>\n",
       "      <td>************5044</td>\n",
       "      <td>GBP</td>\n",
       "      <td>K020</td>\n",
       "      <td>Vehicle Fuel</td>\n",
       "      <td>RHF03</td>\n",
       "      <td>Northfield Hsg Mgmt</td>\n",
       "      <td>A00</td>\n",
       "      <td>Local Services</td>\n",
       "      <td>NaN</td>\n",
       "      <td>NaN</td>\n",
       "      <td>NaN</td>\n",
       "      <td>NaN</td>\n",
       "    </tr>\n",
       "    <tr>\n",
       "      <th>2014-04-02</th>\n",
       "      <td>VZ</td>\n",
       "      <td>0.111312</td>\n",
       "      <td>thejazzedupradiumbeerhal</td>\n",
       "      <td>************0984</td>\n",
       "      <td>GBP</td>\n",
       "      <td>H0T0</td>\n",
       "      <td>Conference Fees Subs Foreign</td>\n",
       "      <td>TA-00847-01</td>\n",
       "      <td>Support To Projects With Partner Cities</td>\n",
       "      <td>A00</td>\n",
       "      <td>Corporate Resources</td>\n",
       "      <td>NaN</td>\n",
       "      <td>NaN</td>\n",
       "      <td>NaN</td>\n",
       "      <td>NaN</td>\n",
       "    </tr>\n",
       "    <tr>\n",
       "      <th>...</th>\n",
       "      <td>...</td>\n",
       "      <td>...</td>\n",
       "      <td>...</td>\n",
       "      <td>...</td>\n",
       "      <td>...</td>\n",
       "      <td>...</td>\n",
       "      <td>...</td>\n",
       "      <td>...</td>\n",
       "      <td>...</td>\n",
       "      <td>...</td>\n",
       "      <td>...</td>\n",
       "      <td>...</td>\n",
       "      <td>...</td>\n",
       "      <td>...</td>\n",
       "      <td>...</td>\n",
       "    </tr>\n",
       "    <tr>\n",
       "      <th>2018-02-05</th>\n",
       "      <td>VR</td>\n",
       "      <td>2.766636</td>\n",
       "      <td>travelodge gb0000</td>\n",
       "      <td>************6316</td>\n",
       "      <td>GBP</td>\n",
       "      <td>M900</td>\n",
       "      <td>Hospitality</td>\n",
       "      <td>RJADC</td>\n",
       "      <td>Homeless Private Sector Accom</td>\n",
       "      <td>A00</td>\n",
       "      <td>Local Services</td>\n",
       "      <td>GBP</td>\n",
       "      <td>2996.6</td>\n",
       "      <td>NaN</td>\n",
       "      <td>NaN</td>\n",
       "    </tr>\n",
       "    <tr>\n",
       "      <th>2018-02-05</th>\n",
       "      <td>VR</td>\n",
       "      <td>2.769951</td>\n",
       "      <td>travelodge gb0000</td>\n",
       "      <td>************6316</td>\n",
       "      <td>GBP</td>\n",
       "      <td>M900</td>\n",
       "      <td>Hospitality</td>\n",
       "      <td>RJADC</td>\n",
       "      <td>Homeless Private Sector Accom</td>\n",
       "      <td>A00</td>\n",
       "      <td>Local Services</td>\n",
       "      <td>GBP</td>\n",
       "      <td>3000.0</td>\n",
       "      <td>NaN</td>\n",
       "      <td>NaN</td>\n",
       "    </tr>\n",
       "    <tr>\n",
       "      <th>2018-02-05</th>\n",
       "      <td>VR</td>\n",
       "      <td>2.742848</td>\n",
       "      <td>travelodge gb0000</td>\n",
       "      <td>************6316</td>\n",
       "      <td>GBP</td>\n",
       "      <td>M900</td>\n",
       "      <td>Hospitality</td>\n",
       "      <td>RJADC</td>\n",
       "      <td>Homeless Private Sector Accom</td>\n",
       "      <td>A00</td>\n",
       "      <td>Local Services</td>\n",
       "      <td>GBP</td>\n",
       "      <td>2972.2</td>\n",
       "      <td>NaN</td>\n",
       "      <td>NaN</td>\n",
       "    </tr>\n",
       "    <tr>\n",
       "      <th>2018-02-05</th>\n",
       "      <td>VR</td>\n",
       "      <td>-0.089391</td>\n",
       "      <td>ee  t-mobile</td>\n",
       "      <td>************6158</td>\n",
       "      <td>GBP</td>\n",
       "      <td>L750</td>\n",
       "      <td>Phon NonCentrx Lines</td>\n",
       "      <td>REABR</td>\n",
       "      <td>Bournville Junior</td>\n",
       "      <td>A00</td>\n",
       "      <td>CYP&amp;F SCHOOLS</td>\n",
       "      <td>GBP</td>\n",
       "      <td>67.2</td>\n",
       "      <td>NaN</td>\n",
       "      <td>NaN</td>\n",
       "    </tr>\n",
       "    <tr>\n",
       "      <th>2018-02-05</th>\n",
       "      <td>VR</td>\n",
       "      <td>-0.091049</td>\n",
       "      <td>3 d news</td>\n",
       "      <td>************6052</td>\n",
       "      <td>GBP</td>\n",
       "      <td>K210</td>\n",
       "      <td>Travel Bus/Rail</td>\n",
       "      <td>RBB09</td>\n",
       "      <td>European &amp; International Team</td>\n",
       "      <td>A00</td>\n",
       "      <td>Corporate Resources</td>\n",
       "      <td>GBP</td>\n",
       "      <td>65.5</td>\n",
       "      <td>NaN</td>\n",
       "      <td>NaN</td>\n",
       "    </tr>\n",
       "  </tbody>\n",
       "</table>\n",
       "<p>124784 rows × 15 columns</p>\n",
       "</div>"
      ],
      "text/plain": [
       "           TRANS VAT DESC  ORIGINAL GROSS AMT  ... TRANS TAX AMT BILLING CUR CODE.1\n",
       "TRANS DATE                                     ...                                 \n",
       "2013-11-12             VR           -0.383017  ...           NaN                NaN\n",
       "2014-03-06             VR           -0.032900  ...           NaN                NaN\n",
       "2014-03-27             VZ           -0.087957  ...           NaN                NaN\n",
       "2014-04-01             VR           -0.034620  ...           NaN                NaN\n",
       "2014-04-02             VZ            0.111312  ...           NaN                NaN\n",
       "...                   ...                 ...  ...           ...                ...\n",
       "2018-02-05             VR            2.766636  ...           NaN                NaN\n",
       "2018-02-05             VR            2.769951  ...           NaN                NaN\n",
       "2018-02-05             VR            2.742848  ...           NaN                NaN\n",
       "2018-02-05             VR           -0.089391  ...           NaN                NaN\n",
       "2018-02-05             VR           -0.091049  ...           NaN                NaN\n",
       "\n",
       "[124784 rows x 15 columns]"
      ]
     },
     "execution_count": 38,
     "metadata": {
      "tags": []
     },
     "output_type": "execute_result"
    }
   ],
   "source": [
    "df = pd.concat(dataset)\n",
    "df"
   ]
  },
  {
   "cell_type": "code",
   "execution_count": 39,
   "metadata": {
    "colab": {
     "base_uri": "https://localhost:8080/"
    },
    "id": "N1SMCrzFlVHC",
    "outputId": "1076e4e5-f634-478c-8768-6011b7637f58"
   },
   "outputs": [
    {
     "data": {
      "text/plain": [
       "(124784, 15)"
      ]
     },
     "execution_count": 39,
     "metadata": {
      "tags": []
     },
     "output_type": "execute_result"
    }
   ],
   "source": [
    "df.shape"
   ]
  },
  {
   "cell_type": "markdown",
   "metadata": {
    "id": "cOIAjzLmo4hk"
   },
   "source": [
    "now we can stardadize entire dataset that contains only the same features in all years provided"
   ]
  },
  {
   "cell_type": "code",
   "execution_count": 40,
   "metadata": {
    "colab": {
     "base_uri": "https://localhost:8080/"
    },
    "id": "TcKJjtF8lgZl",
    "outputId": "d24e309f-6137-457a-8fe7-f4ff2aebe82d"
   },
   "outputs": [
    {
     "data": {
      "text/plain": [
       "(124784, 10)"
      ]
     },
     "execution_count": 40,
     "metadata": {
      "tags": []
     },
     "output_type": "execute_result"
    }
   ],
   "source": [
    "for df_aux in dataset:\n",
    "  df = df.drop(np.setdiff1d(df.columns.values , df_aux.columns.values), axis = 1)\n",
    "df.shape"
   ]
  },
  {
   "cell_type": "code",
   "execution_count": 41,
   "metadata": {
    "colab": {
     "base_uri": "https://localhost:8080/",
     "height": 636
    },
    "id": "G8hAA4O-nJ_-",
    "outputId": "3cdcd170-c1bd-4d69-cd0f-68a54ce4f1e4"
   },
   "outputs": [
    {
     "data": {
      "text/html": [
       "<div>\n",
       "<style scoped>\n",
       "    .dataframe tbody tr th:only-of-type {\n",
       "        vertical-align: middle;\n",
       "    }\n",
       "\n",
       "    .dataframe tbody tr th {\n",
       "        vertical-align: top;\n",
       "    }\n",
       "\n",
       "    .dataframe thead th {\n",
       "        text-align: right;\n",
       "    }\n",
       "</style>\n",
       "<table border=\"1\" class=\"dataframe\">\n",
       "  <thead>\n",
       "    <tr style=\"text-align: right;\">\n",
       "      <th></th>\n",
       "      <th>TRANS VAT DESC</th>\n",
       "      <th>ORIGINAL GROSS AMT</th>\n",
       "      <th>MERCHANT NAME</th>\n",
       "      <th>CARD NUMBER</th>\n",
       "      <th>TRANS CAC CODE 1</th>\n",
       "      <th>TRANS CAC DESC 1</th>\n",
       "      <th>TRANS CAC CODE 2</th>\n",
       "      <th>TRANS CAC DESC 2</th>\n",
       "      <th>TRANS CAC CODE 3</th>\n",
       "      <th>Directorate</th>\n",
       "    </tr>\n",
       "    <tr>\n",
       "      <th>TRANS DATE</th>\n",
       "      <th></th>\n",
       "      <th></th>\n",
       "      <th></th>\n",
       "      <th></th>\n",
       "      <th></th>\n",
       "      <th></th>\n",
       "      <th></th>\n",
       "      <th></th>\n",
       "      <th></th>\n",
       "      <th></th>\n",
       "    </tr>\n",
       "  </thead>\n",
       "  <tbody>\n",
       "    <tr>\n",
       "      <th>2013-11-12</th>\n",
       "      <td>VR</td>\n",
       "      <td>-0.383017</td>\n",
       "      <td>www.pcc.nhs.uk/eventma</td>\n",
       "      <td>************7557</td>\n",
       "      <td>L100</td>\n",
       "      <td>Equip Operational</td>\n",
       "      <td>RVA0K</td>\n",
       "      <td>Admin Support</td>\n",
       "      <td>A00</td>\n",
       "      <td>Adult &amp; Communities</td>\n",
       "    </tr>\n",
       "    <tr>\n",
       "      <th>2014-03-06</th>\n",
       "      <td>VR</td>\n",
       "      <td>-0.032900</td>\n",
       "      <td>bp snax 24 weoley castle</td>\n",
       "      <td>************5353</td>\n",
       "      <td>K020</td>\n",
       "      <td>Vehicle Fuel</td>\n",
       "      <td>RHAAC</td>\n",
       "      <td>E'baston CBHO 1 C'takers</td>\n",
       "      <td>A00</td>\n",
       "      <td>Local Services</td>\n",
       "    </tr>\n",
       "    <tr>\n",
       "      <th>2014-03-27</th>\n",
       "      <td>VZ</td>\n",
       "      <td>-0.087957</td>\n",
       "      <td>asda home delivery</td>\n",
       "      <td>************9410</td>\n",
       "      <td>L220</td>\n",
       "      <td>Purchases Food</td>\n",
       "      <td>REAJP</td>\n",
       "      <td>Perry Common Junior &amp; Infant</td>\n",
       "      <td>A00</td>\n",
       "      <td>CYP&amp;F SCHOOLS</td>\n",
       "    </tr>\n",
       "    <tr>\n",
       "      <th>2014-04-01</th>\n",
       "      <td>VR</td>\n",
       "      <td>-0.034620</td>\n",
       "      <td>bp snax 24 cofton 859</td>\n",
       "      <td>************5044</td>\n",
       "      <td>K020</td>\n",
       "      <td>Vehicle Fuel</td>\n",
       "      <td>RHF03</td>\n",
       "      <td>Northfield Hsg Mgmt</td>\n",
       "      <td>A00</td>\n",
       "      <td>Local Services</td>\n",
       "    </tr>\n",
       "    <tr>\n",
       "      <th>2014-04-02</th>\n",
       "      <td>VZ</td>\n",
       "      <td>0.111312</td>\n",
       "      <td>thejazzedupradiumbeerhal</td>\n",
       "      <td>************0984</td>\n",
       "      <td>H0T0</td>\n",
       "      <td>Conference Fees Subs Foreign</td>\n",
       "      <td>TA-00847-01</td>\n",
       "      <td>Support To Projects With Partner Cities</td>\n",
       "      <td>A00</td>\n",
       "      <td>Corporate Resources</td>\n",
       "    </tr>\n",
       "    <tr>\n",
       "      <th>...</th>\n",
       "      <td>...</td>\n",
       "      <td>...</td>\n",
       "      <td>...</td>\n",
       "      <td>...</td>\n",
       "      <td>...</td>\n",
       "      <td>...</td>\n",
       "      <td>...</td>\n",
       "      <td>...</td>\n",
       "      <td>...</td>\n",
       "      <td>...</td>\n",
       "    </tr>\n",
       "    <tr>\n",
       "      <th>2018-02-05</th>\n",
       "      <td>VR</td>\n",
       "      <td>2.766636</td>\n",
       "      <td>travelodge gb0000</td>\n",
       "      <td>************6316</td>\n",
       "      <td>M900</td>\n",
       "      <td>Hospitality</td>\n",
       "      <td>RJADC</td>\n",
       "      <td>Homeless Private Sector Accom</td>\n",
       "      <td>A00</td>\n",
       "      <td>Local Services</td>\n",
       "    </tr>\n",
       "    <tr>\n",
       "      <th>2018-02-05</th>\n",
       "      <td>VR</td>\n",
       "      <td>2.769951</td>\n",
       "      <td>travelodge gb0000</td>\n",
       "      <td>************6316</td>\n",
       "      <td>M900</td>\n",
       "      <td>Hospitality</td>\n",
       "      <td>RJADC</td>\n",
       "      <td>Homeless Private Sector Accom</td>\n",
       "      <td>A00</td>\n",
       "      <td>Local Services</td>\n",
       "    </tr>\n",
       "    <tr>\n",
       "      <th>2018-02-05</th>\n",
       "      <td>VR</td>\n",
       "      <td>2.742848</td>\n",
       "      <td>travelodge gb0000</td>\n",
       "      <td>************6316</td>\n",
       "      <td>M900</td>\n",
       "      <td>Hospitality</td>\n",
       "      <td>RJADC</td>\n",
       "      <td>Homeless Private Sector Accom</td>\n",
       "      <td>A00</td>\n",
       "      <td>Local Services</td>\n",
       "    </tr>\n",
       "    <tr>\n",
       "      <th>2018-02-05</th>\n",
       "      <td>VR</td>\n",
       "      <td>-0.089391</td>\n",
       "      <td>ee  t-mobile</td>\n",
       "      <td>************6158</td>\n",
       "      <td>L750</td>\n",
       "      <td>Phon NonCentrx Lines</td>\n",
       "      <td>REABR</td>\n",
       "      <td>Bournville Junior</td>\n",
       "      <td>A00</td>\n",
       "      <td>CYP&amp;F SCHOOLS</td>\n",
       "    </tr>\n",
       "    <tr>\n",
       "      <th>2018-02-05</th>\n",
       "      <td>VR</td>\n",
       "      <td>-0.091049</td>\n",
       "      <td>3 d news</td>\n",
       "      <td>************6052</td>\n",
       "      <td>K210</td>\n",
       "      <td>Travel Bus/Rail</td>\n",
       "      <td>RBB09</td>\n",
       "      <td>European &amp; International Team</td>\n",
       "      <td>A00</td>\n",
       "      <td>Corporate Resources</td>\n",
       "    </tr>\n",
       "  </tbody>\n",
       "</table>\n",
       "<p>124784 rows × 10 columns</p>\n",
       "</div>"
      ],
      "text/plain": [
       "           TRANS VAT DESC  ...          Directorate\n",
       "TRANS DATE                 ...                     \n",
       "2013-11-12             VR  ...  Adult & Communities\n",
       "2014-03-06             VR  ...       Local Services\n",
       "2014-03-27             VZ  ...        CYP&F SCHOOLS\n",
       "2014-04-01             VR  ...       Local Services\n",
       "2014-04-02             VZ  ...  Corporate Resources\n",
       "...                   ...  ...                  ...\n",
       "2018-02-05             VR  ...       Local Services\n",
       "2018-02-05             VR  ...       Local Services\n",
       "2018-02-05             VR  ...       Local Services\n",
       "2018-02-05             VR  ...        CYP&F SCHOOLS\n",
       "2018-02-05             VR  ...  Corporate Resources\n",
       "\n",
       "[124784 rows x 10 columns]"
      ]
     },
     "execution_count": 41,
     "metadata": {
      "tags": []
     },
     "output_type": "execute_result"
    }
   ],
   "source": [
    "df"
   ]
  },
  {
   "cell_type": "markdown",
   "metadata": {
    "id": "QFXTI_k3yqAQ"
   },
   "source": [
    "## Exploratory analysis"
   ]
  },
  {
   "cell_type": "code",
   "execution_count": 42,
   "metadata": {
    "colab": {
     "base_uri": "https://localhost:8080/"
    },
    "id": "Ck4i20Htyw23",
    "outputId": "de69f2a3-39f5-47ec-86e0-08e64a982f25"
   },
   "outputs": [
    {
     "name": "stdout",
     "output_type": "stream",
     "text": [
      "<class 'pandas.core.frame.DataFrame'>\n",
      "DatetimeIndex: 124784 entries, 2013-11-12 to 2018-02-05\n",
      "Data columns (total 10 columns):\n",
      " #   Column              Non-Null Count   Dtype  \n",
      "---  ------              --------------   -----  \n",
      " 0   TRANS VAT DESC      124784 non-null  object \n",
      " 1   ORIGINAL GROSS AMT  124784 non-null  float64\n",
      " 2   MERCHANT NAME       124784 non-null  object \n",
      " 3   CARD NUMBER         124784 non-null  object \n",
      " 4   TRANS CAC CODE 1    124784 non-null  object \n",
      " 5   TRANS CAC DESC 1    124784 non-null  object \n",
      " 6   TRANS CAC CODE 2    124784 non-null  object \n",
      " 7   TRANS CAC DESC 2    124784 non-null  object \n",
      " 8   TRANS CAC CODE 3    124784 non-null  object \n",
      " 9   Directorate         124784 non-null  object \n",
      "dtypes: float64(1), object(9)\n",
      "memory usage: 10.5+ MB\n"
     ]
    }
   ],
   "source": [
    "df.info()"
   ]
  },
  {
   "cell_type": "code",
   "execution_count": 43,
   "metadata": {
    "colab": {
     "base_uri": "https://localhost:8080/"
    },
    "id": "lpyv8Fory4Jh",
    "outputId": "88aecc28-784d-4a4b-f7fd-f177bc46ea34"
   },
   "outputs": [
    {
     "data": {
      "text/plain": [
       "count    1.247840e+05\n",
       "mean     2.980882e-18\n",
       "std      1.000004e+00\n",
       "min     -4.390105e+00\n",
       "25%     -7.832855e-02\n",
       "50%     -6.465591e-02\n",
       "75%     -3.815284e-02\n",
       "max      6.367468e+01\n",
       "Name: ORIGINAL GROSS AMT, dtype: float64"
      ]
     },
     "execution_count": 43,
     "metadata": {
      "tags": []
     },
     "output_type": "execute_result"
    }
   ],
   "source": [
    "# Analyse the original gross amt variable;\n",
    "\n",
    "df['ORIGINAL GROSS AMT'].describe()"
   ]
  },
  {
   "cell_type": "code",
   "execution_count": 44,
   "metadata": {
    "colab": {
     "base_uri": "https://localhost:8080/"
    },
    "id": "66BDanImy_Ma",
    "outputId": "0c9b91bb-3b84-406a-bb06-b5d36ba2e196"
   },
   "outputs": [
    {
     "data": {
      "text/plain": [
       "VR       61901\n",
       "VZ       61835\n",
       "VE         532\n",
       "VS         259\n",
       "VL         222\n",
       "VT          30\n",
       "6.65%        5\n",
       "Name: TRANS VAT DESC, dtype: int64"
      ]
     },
     "execution_count": 44,
     "metadata": {
      "tags": []
     },
     "output_type": "execute_result"
    }
   ],
   "source": [
    "df['TRANS VAT DESC'].value_counts()"
   ]
  },
  {
   "cell_type": "code",
   "execution_count": 45,
   "metadata": {
    "colab": {
     "base_uri": "https://localhost:8080/"
    },
    "id": "OLrjzSdkzB6T",
    "outputId": "62d4c69e-2d56-449e-d7f3-3c6d8a03ccda"
   },
   "outputs": [
    {
     "data": {
      "text/plain": [
       "amazon uk marketplace      9795\n",
       "amazon uk retail           4685\n",
       "amazon mktplce eu-uk       4663\n",
       "amazon eu                  2298\n",
       "asda home shopping         1826\n",
       "                           ... \n",
       "tesco stores 5458             1\n",
       "personal projector ltd        1\n",
       "iz damascena eatery ltd       1\n",
       "county court                  1\n",
       "paypal adamwitten7            1\n",
       "Name: MERCHANT NAME, Length: 12364, dtype: int64"
      ]
     },
     "execution_count": 45,
     "metadata": {
      "tags": []
     },
     "output_type": "execute_result"
    }
   ],
   "source": [
    "df['MERCHANT NAME'].value_counts()"
   ]
  },
  {
   "cell_type": "code",
   "execution_count": 46,
   "metadata": {
    "colab": {
     "base_uri": "https://localhost:8080/"
    },
    "id": "laeBZomLzLtc",
    "outputId": "a45548d5-d69d-4d6b-c65d-8df06ac02754"
   },
   "outputs": [
    {
     "data": {
      "text/plain": [
       "L100    23185\n",
       "K020    16689\n",
       "L220    13872\n",
       "L030     8816\n",
       "MC70     7654\n",
       "        ...  \n",
       "J240        1\n",
       "J0V0        1\n",
       "J000        1\n",
       "M600        1\n",
       "M660        1\n",
       "Name: TRANS CAC CODE 1, Length: 132, dtype: int64"
      ]
     },
     "execution_count": 46,
     "metadata": {
      "tags": []
     },
     "output_type": "execute_result"
    }
   ],
   "source": [
    "df['TRANS CAC CODE 1'].value_counts()"
   ]
  },
  {
   "cell_type": "code",
   "execution_count": 47,
   "metadata": {
    "colab": {
     "base_uri": "https://localhost:8080/"
    },
    "id": "CDKhSXd34XjS",
    "outputId": "0239e8c2-bcec-4d5d-baa7-3119e650b1d6"
   },
   "outputs": [
    {
     "data": {
      "text/plain": [
       "Equip Operational       23185\n",
       "Vehicle Fuel            16689\n",
       "Purchases Food          13872\n",
       "Books                    8816\n",
       "Supplies & Sev Mic       7654\n",
       "                        ...  \n",
       "StratRefurbishment          1\n",
       "HRM CO Building             1\n",
       "Phon Centrx call Chg        1\n",
       "HRM Emer Lighting           1\n",
       "Dir Payts - Children        1\n",
       "Name: TRANS CAC DESC 1, Length: 132, dtype: int64"
      ]
     },
     "execution_count": 47,
     "metadata": {
      "tags": []
     },
     "output_type": "execute_result"
    }
   ],
   "source": [
    "df['TRANS CAC DESC 1'].value_counts()"
   ]
  },
  {
   "cell_type": "code",
   "execution_count": 48,
   "metadata": {
    "colab": {
     "base_uri": "https://localhost:8080/"
    },
    "id": "yVWmWc5fzM15",
    "outputId": "7896c729-0c81-4ddf-f5d3-6398b1b275ab"
   },
   "outputs": [
    {
     "data": {
      "text/plain": [
       "RUF0F    10331\n",
       "REAAB     3254\n",
       "RV014     2179\n",
       "RLBMC     1737\n",
       "RJADC     1426\n",
       "         ...  \n",
       "RV3DX        1\n",
       "RHTBV        1\n",
       "RV0C4        1\n",
       "RJHNF        1\n",
       "RPJRQ        1\n",
       "Name: TRANS CAC CODE 2, Length: 1289, dtype: int64"
      ]
     },
     "execution_count": 48,
     "metadata": {
      "tags": []
     },
     "output_type": "execute_result"
    }
   ],
   "source": [
    "df['TRANS CAC CODE 2'].value_counts()"
   ]
  },
  {
   "cell_type": "code",
   "execution_count": 49,
   "metadata": {
    "colab": {
     "base_uri": "https://localhost:8080/"
    },
    "id": "QK3xC7-y4bXe",
    "outputId": "eec6ca17-f7f8-4183-db56-565c509d47a6"
   },
   "outputs": [
    {
     "data": {
      "text/plain": [
       "Illegal Money Lending T Stds Comm Inv.    10331\n",
       "The City of Birmingham School              3254\n",
       "Camborne House HLDC                        2179\n",
       "Technical Unit                             1737\n",
       "Homeless Private Sector Accom              1426\n",
       "                                          ...  \n",
       "Kings Norton Boys  (Exgm)                     1\n",
       "Planning Administration Division              1\n",
       "Access Team                                   1\n",
       "Colmers Farm Main                             1\n",
       "Summerfield Com Ctre LW                       1\n",
       "Name: TRANS CAC DESC 2, Length: 1277, dtype: int64"
      ]
     },
     "execution_count": 49,
     "metadata": {
      "tags": []
     },
     "output_type": "execute_result"
    }
   ],
   "source": [
    "df['TRANS CAC DESC 2'].value_counts()"
   ]
  },
  {
   "cell_type": "code",
   "execution_count": 50,
   "metadata": {
    "colab": {
     "base_uri": "https://localhost:8080/",
     "height": 1000
    },
    "id": "RxfsCFB1zdmy",
    "outputId": "1b0bf777-2dd9-4d76-8d47-68aef731a0c6"
   },
   "outputs": [
    {
     "data": {
      "text/plain": [
       "Text(0, 0.5, 'ORIGINAL GROSS AMT')"
      ]
     },
     "execution_count": 50,
     "metadata": {
      "tags": []
     },
     "output_type": "execute_result"
    },
    {
     "data": {
      "image/png": "[encoded data removed]",
      "text/plain": [
       "<Figure size 2160x1440 with 1 Axes>"
      ]
     },
     "metadata": {
      "needs_background": "light",
      "tags": []
     },
     "output_type": "display_data"
    }
   ],
   "source": [
    "plt.figure(figsize=(30,20))\n",
    "plt.plot(df['ORIGINAL GROSS AMT'])\n",
    "plt.xlabel('Dates')\n",
    "plt.ylabel('ORIGINAL GROSS AMT')"
   ]
  },
  {
   "cell_type": "markdown",
   "metadata": {
    "id": "eWKIQNHnrOmo"
   },
   "source": [
    "# 4 - Profiling / clustering for 2017-2018"
   ]
  },
  {
   "cell_type": "markdown",
   "metadata": {
    "id": "ecnkqVntk8KN"
   },
   "source": [
    "#### Based on card number"
   ]
  },
  {
   "cell_type": "code",
   "execution_count": 51,
   "metadata": {
    "id": "hz21dchSCnVd"
   },
   "outputs": [],
   "source": [
    "### Converting categorical variables about cards into numerical ones\n",
    "df_aux = df_2016\n",
    "# Frequency of transactions made by each unique card\n",
    "card_vc = df_aux['CARD NUMBER'].value_counts()\n",
    "\n",
    "# Transforming it into a DataFrame\n",
    "card_vc = pd.DataFrame(card_vc)\n",
    "card_vc = card_vc.reset_index()\n",
    "card_vc.columns = ['unique_card','counts']"
   ]
  },
  {
   "cell_type": "code",
   "execution_count": 52,
   "metadata": {
    "colab": {
     "base_uri": "https://localhost:8080/",
     "height": 406
    },
    "id": "O-faBcAhQ9eP",
    "outputId": "fe6f5762-c707-486e-f346-474f89610128"
   },
   "outputs": [
    {
     "data": {
      "text/html": [
       "<div>\n",
       "<style scoped>\n",
       "    .dataframe tbody tr th:only-of-type {\n",
       "        vertical-align: middle;\n",
       "    }\n",
       "\n",
       "    .dataframe tbody tr th {\n",
       "        vertical-align: top;\n",
       "    }\n",
       "\n",
       "    .dataframe thead th {\n",
       "        text-align: right;\n",
       "    }\n",
       "</style>\n",
       "<table border=\"1\" class=\"dataframe\">\n",
       "  <thead>\n",
       "    <tr style=\"text-align: right;\">\n",
       "      <th></th>\n",
       "      <th>unique_card</th>\n",
       "      <th>counts</th>\n",
       "    </tr>\n",
       "  </thead>\n",
       "  <tbody>\n",
       "    <tr>\n",
       "      <th>0</th>\n",
       "      <td>************6740</td>\n",
       "      <td>426</td>\n",
       "    </tr>\n",
       "    <tr>\n",
       "      <th>1</th>\n",
       "      <td>************2968</td>\n",
       "      <td>389</td>\n",
       "    </tr>\n",
       "    <tr>\n",
       "      <th>2</th>\n",
       "      <td>************6308</td>\n",
       "      <td>309</td>\n",
       "    </tr>\n",
       "    <tr>\n",
       "      <th>3</th>\n",
       "      <td>************8192</td>\n",
       "      <td>303</td>\n",
       "    </tr>\n",
       "    <tr>\n",
       "      <th>4</th>\n",
       "      <td>************8343</td>\n",
       "      <td>301</td>\n",
       "    </tr>\n",
       "    <tr>\n",
       "      <th>...</th>\n",
       "      <td>...</td>\n",
       "      <td>...</td>\n",
       "    </tr>\n",
       "    <tr>\n",
       "      <th>1002</th>\n",
       "      <td>************4368</td>\n",
       "      <td>1</td>\n",
       "    </tr>\n",
       "    <tr>\n",
       "      <th>1003</th>\n",
       "      <td>************7277</td>\n",
       "      <td>1</td>\n",
       "    </tr>\n",
       "    <tr>\n",
       "      <th>1004</th>\n",
       "      <td>************7867</td>\n",
       "      <td>1</td>\n",
       "    </tr>\n",
       "    <tr>\n",
       "      <th>1005</th>\n",
       "      <td>************8480</td>\n",
       "      <td>1</td>\n",
       "    </tr>\n",
       "    <tr>\n",
       "      <th>1006</th>\n",
       "      <td>************9912</td>\n",
       "      <td>1</td>\n",
       "    </tr>\n",
       "  </tbody>\n",
       "</table>\n",
       "<p>1007 rows × 2 columns</p>\n",
       "</div>"
      ],
      "text/plain": [
       "           unique_card  counts\n",
       "0     ************6740     426\n",
       "1     ************2968     389\n",
       "2     ************6308     309\n",
       "3     ************8192     303\n",
       "4     ************8343     301\n",
       "...                ...     ...\n",
       "1002  ************4368       1\n",
       "1003  ************7277       1\n",
       "1004  ************7867       1\n",
       "1005  ************8480       1\n",
       "1006  ************9912       1\n",
       "\n",
       "[1007 rows x 2 columns]"
      ]
     },
     "execution_count": 52,
     "metadata": {
      "tags": []
     },
     "output_type": "execute_result"
    }
   ],
   "source": [
    "card_vc"
   ]
  },
  {
   "cell_type": "code",
   "execution_count": 53,
   "metadata": {
    "colab": {
     "base_uri": "https://localhost:8080/"
    },
    "id": "aJFS7gG4RTDQ",
    "outputId": "9251958c-b50d-4f0e-eef7-d96631612c7d"
   },
   "outputs": [
    {
     "data": {
      "text/plain": [
       "TRANS DATE\n",
       "2015-06-25    ************6158\n",
       "2015-09-18    ************4193\n",
       "2015-10-12    ************0381\n",
       "2015-11-04    ************7587\n",
       "2015-11-14    ************0381\n",
       "                    ...       \n",
       "2017-01-02    ************3044\n",
       "2017-01-02    ************3088\n",
       "2017-01-02    ************2698\n",
       "2017-01-02    ************4107\n",
       "2017-01-02    ************7379\n",
       "Name: CARD NUMBER, Length: 43973, dtype: object"
      ]
     },
     "execution_count": 53,
     "metadata": {
      "tags": []
     },
     "output_type": "execute_result"
    }
   ],
   "source": [
    "df_aux['CARD NUMBER']"
   ]
  },
  {
   "cell_type": "code",
   "execution_count": 54,
   "metadata": {
    "colab": {
     "base_uri": "https://localhost:8080/"
    },
    "id": "4UNJSiQKRwqX",
    "outputId": "1e0fa973-b334-4820-f36a-871e9671af78"
   },
   "outputs": [
    {
     "name": "stdout",
     "output_type": "stream",
     "text": [
      "************6158\n",
      "************6740\n",
      "-0.09968258042294809\n",
      "426\n"
     ]
    }
   ],
   "source": [
    "len(df_aux['CARD NUMBER'])\n",
    "print(df_aux['CARD NUMBER'][0])\n",
    "print(card_vc['unique_card'][0])\n",
    "print(df_aux['ORIGINAL GROSS AMT'][0])\n",
    "print(card_vc['counts'][0])"
   ]
  },
  {
   "cell_type": "code",
   "execution_count": 55,
   "metadata": {
    "colab": {
     "base_uri": "https://localhost:8080/",
     "height": 436
    },
    "id": "uRnE--lYQ8gZ",
    "outputId": "3e8a950f-ae72-44f4-e3dd-4f97fca184b5"
   },
   "outputs": [
    {
     "data": {
      "text/html": [
       "<div>\n",
       "<style scoped>\n",
       "    .dataframe tbody tr th:only-of-type {\n",
       "        vertical-align: middle;\n",
       "    }\n",
       "\n",
       "    .dataframe tbody tr th {\n",
       "        vertical-align: top;\n",
       "    }\n",
       "\n",
       "    .dataframe thead th {\n",
       "        text-align: right;\n",
       "    }\n",
       "</style>\n",
       "<table border=\"1\" class=\"dataframe\">\n",
       "  <thead>\n",
       "    <tr style=\"text-align: right;\">\n",
       "      <th></th>\n",
       "      <th>trans_avg</th>\n",
       "      <th>frequency</th>\n",
       "    </tr>\n",
       "    <tr>\n",
       "      <th>card_name</th>\n",
       "      <th></th>\n",
       "      <th></th>\n",
       "    </tr>\n",
       "  </thead>\n",
       "  <tbody>\n",
       "    <tr>\n",
       "      <th>************6740</th>\n",
       "      <td>-5.520294e-02</td>\n",
       "      <td>426</td>\n",
       "    </tr>\n",
       "    <tr>\n",
       "      <th>************2968</th>\n",
       "      <td>1.824278e-02</td>\n",
       "      <td>389</td>\n",
       "    </tr>\n",
       "    <tr>\n",
       "      <th>************6308</th>\n",
       "      <td>4.345319e-01</td>\n",
       "      <td>309</td>\n",
       "    </tr>\n",
       "    <tr>\n",
       "      <th>************8192</th>\n",
       "      <td>4.012053e-01</td>\n",
       "      <td>303</td>\n",
       "    </tr>\n",
       "    <tr>\n",
       "      <th>************8343</th>\n",
       "      <td>3.350376e-01</td>\n",
       "      <td>301</td>\n",
       "    </tr>\n",
       "    <tr>\n",
       "      <th>...</th>\n",
       "      <td>...</td>\n",
       "      <td>...</td>\n",
       "    </tr>\n",
       "    <tr>\n",
       "      <th>************4368</th>\n",
       "      <td>2.591821e-01</td>\n",
       "      <td>1</td>\n",
       "    </tr>\n",
       "    <tr>\n",
       "      <th>************7277</th>\n",
       "      <td>2.088366e-01</td>\n",
       "      <td>1</td>\n",
       "    </tr>\n",
       "    <tr>\n",
       "      <th>************7867</th>\n",
       "      <td>1.375127e-01</td>\n",
       "      <td>1</td>\n",
       "    </tr>\n",
       "    <tr>\n",
       "      <th>************8480</th>\n",
       "      <td>6.741515e-02</td>\n",
       "      <td>1</td>\n",
       "    </tr>\n",
       "    <tr>\n",
       "      <th>************9912</th>\n",
       "      <td>-5.446199e-13</td>\n",
       "      <td>1</td>\n",
       "    </tr>\n",
       "  </tbody>\n",
       "</table>\n",
       "<p>1007 rows × 2 columns</p>\n",
       "</div>"
      ],
      "text/plain": [
       "                     trans_avg  frequency\n",
       "card_name                                \n",
       "************6740 -5.520294e-02        426\n",
       "************2968  1.824278e-02        389\n",
       "************6308  4.345319e-01        309\n",
       "************8192  4.012053e-01        303\n",
       "************8343  3.350376e-01        301\n",
       "...                        ...        ...\n",
       "************4368  2.591821e-01          1\n",
       "************7277  2.088366e-01          1\n",
       "************7867  1.375127e-01          1\n",
       "************8480  6.741515e-02          1\n",
       "************9912 -5.446199e-13          1\n",
       "\n",
       "[1007 rows x 2 columns]"
      ]
     },
     "execution_count": 55,
     "metadata": {
      "tags": []
     },
     "output_type": "execute_result"
    }
   ],
   "source": [
    "# Average amount of transactions by each unique card\n",
    "sum_tr = 0\n",
    "card_trans = pd.DataFrame()\n",
    "j = 0\n",
    "for m in card_vc['unique_card']:\n",
    "  for i in range(len(df_aux['CARD NUMBER'])):\n",
    "    if df_aux['CARD NUMBER'][i] == m:\n",
    "      sum_tr += df_aux['ORIGINAL GROSS AMT'][i]\n",
    "  card_trans = card_trans.append([(sum_tr/card_vc['counts'][j])])\n",
    "  j += 1\n",
    "\n",
    "# Assembling previous data\n",
    "card_data = pd.DataFrame()\n",
    "card_data['card_name'] = card_vc['unique_card']\n",
    "card_data['trans_avg'] = card_trans.values.reshape(-1,1)\n",
    "card_data['frequency'] = card_vc['counts']\n",
    "\n",
    "card_data = card_data.set_index(card_data.card_name)\n",
    "card_data = card_data.drop(['card_name'], axis = 1)\n",
    "\n",
    "card_data"
   ]
  },
  {
   "cell_type": "code",
   "execution_count": 56,
   "metadata": {
    "colab": {
     "base_uri": "https://localhost:8080/",
     "height": 633
    },
    "id": "NVt2BzmArc4p",
    "outputId": "1301b1fb-faf0-404b-a0bd-f54baa7e30de"
   },
   "outputs": [
    {
     "data": {
      "text/plain": [
       "Text(0, 0.5, 'Cluster inertia')"
      ]
     },
     "execution_count": 56,
     "metadata": {
      "tags": []
     },
     "output_type": "execute_result"
    },
    {
     "data": {
      "image/png": "[encoded data removed]",
      "text/plain": [
       "<Figure size 1440x720 with 1 Axes>"
      ]
     },
     "metadata": {
      "needs_background": "light",
      "tags": []
     },
     "output_type": "display_data"
    }
   ],
   "source": [
    "# Scaling the frequency of transactions by means amount of transactions\n",
    "card_tr = card_data.values\n",
    "\n",
    "# First we need to determine the optimal number of clusters\n",
    "cluster_range = range(1,16)\n",
    "cluster_error = []\n",
    "\n",
    "for num in cluster_range:\n",
    "    model = KMeans(num)\n",
    "    model.fit(card_tr)\n",
    "    cluster_error.append(model.inertia_)\n",
    "\n",
    "df_clust = pd.DataFrame({'cluster_number':cluster_range,'cluster_error':cluster_error})\n",
    "\n",
    "\n",
    "plt.figure(figsize=(20,10))\n",
    "plt.xticks(range(1,16))\n",
    "plt.plot(df_clust.cluster_number,df_clust.cluster_error, marker=\"o\")\n",
    "plt.xlabel(\"Number of cluster\")\n",
    "plt.ylabel(\"Cluster inertia\")"
   ]
  },
  {
   "cell_type": "code",
   "execution_count": 57,
   "metadata": {
    "colab": {
     "base_uri": "https://localhost:8080/",
     "height": 623
    },
    "id": "XLoKdP_UhbRe",
    "outputId": "340cf9bd-8cc9-4cb0-edd9-11c7d6038824"
   },
   "outputs": [
    {
     "data": {
      "text/plain": [
       "Text(0, 0.5, 'The average transactions made by each person')"
      ]
     },
     "execution_count": 57,
     "metadata": {
      "tags": []
     },
     "output_type": "execute_result"
    },
    {
     "data": {
      "image/png": "[encoded data removed]",
      "text/plain": [
       "<Figure size 1440x720 with 1 Axes>"
      ]
     },
     "metadata": {
      "needs_background": "light",
      "tags": []
     },
     "output_type": "display_data"
    }
   ],
   "source": [
    "# The elbow graph showed us that 5 clusters is the optimal number\n",
    "# so we'll start implementing the code\n",
    "\n",
    "kmeans_model = KMeans(n_clusters=5)\n",
    "kmeans_model.fit(card_tr)\n",
    "kmeans_predict = kmeans_model.predict(card_tr)\n",
    "kmeans_centroids = kmeans_model.cluster_centers_\n",
    "\n",
    "plt.figure(figsize=(20,10))\n",
    "plt.scatter(card_tr[:,1],card_tr[:,0], c=kmeans_predict)\n",
    "plt.scatter(kmeans_centroids[:,0], kmeans_centroids[:,1], c='black', s=150, alpha=0.5)\n",
    "plt.xlabel('Frequencies of transactions made by each person')\n",
    "plt.ylabel('The average transactions made by each person')"
   ]
  },
  {
   "cell_type": "markdown",
   "metadata": {
    "id": "5aSWvkN93yHc"
   },
   "source": [
    "#### Based on merchants"
   ]
  },
  {
   "cell_type": "code",
   "execution_count": 58,
   "metadata": {
    "colab": {
     "base_uri": "https://localhost:8080/",
     "height": 406
    },
    "id": "I0VPLViJhwFX",
    "outputId": "9fc8dc2b-69b8-4876-a169-e6da028404f0"
   },
   "outputs": [
    {
     "data": {
      "text/html": [
       "<div>\n",
       "<style scoped>\n",
       "    .dataframe tbody tr th:only-of-type {\n",
       "        vertical-align: middle;\n",
       "    }\n",
       "\n",
       "    .dataframe tbody tr th {\n",
       "        vertical-align: top;\n",
       "    }\n",
       "\n",
       "    .dataframe thead th {\n",
       "        text-align: right;\n",
       "    }\n",
       "</style>\n",
       "<table border=\"1\" class=\"dataframe\">\n",
       "  <thead>\n",
       "    <tr style=\"text-align: right;\">\n",
       "      <th></th>\n",
       "      <th>unique_merchant</th>\n",
       "      <th>counts</th>\n",
       "    </tr>\n",
       "  </thead>\n",
       "  <tbody>\n",
       "    <tr>\n",
       "      <th>0</th>\n",
       "      <td>amazon uk marketplace</td>\n",
       "      <td>5837</td>\n",
       "    </tr>\n",
       "    <tr>\n",
       "      <th>1</th>\n",
       "      <td>amazon uk retail</td>\n",
       "      <td>2182</td>\n",
       "    </tr>\n",
       "    <tr>\n",
       "      <th>2</th>\n",
       "      <td>travelodge website</td>\n",
       "      <td>1270</td>\n",
       "    </tr>\n",
       "    <tr>\n",
       "      <th>3</th>\n",
       "      <td>asda home shopping</td>\n",
       "      <td>858</td>\n",
       "    </tr>\n",
       "    <tr>\n",
       "      <th>4</th>\n",
       "      <td>amazon uk retail amazon.c</td>\n",
       "      <td>583</td>\n",
       "    </tr>\n",
       "    <tr>\n",
       "      <th>...</th>\n",
       "      <td>...</td>\n",
       "      <td>...</td>\n",
       "    </tr>\n",
       "    <tr>\n",
       "      <th>5879</th>\n",
       "      <td>wristbandscouk</td>\n",
       "      <td>1</td>\n",
       "    </tr>\n",
       "    <tr>\n",
       "      <th>5880</th>\n",
       "      <td>www.onlinestore.leedsmet</td>\n",
       "      <td>1</td>\n",
       "    </tr>\n",
       "    <tr>\n",
       "      <th>5881</th>\n",
       "      <td>esso eye green service ar</td>\n",
       "      <td>1</td>\n",
       "    </tr>\n",
       "    <tr>\n",
       "      <th>5882</th>\n",
       "      <td>paypal serpro ltd</td>\n",
       "      <td>1</td>\n",
       "    </tr>\n",
       "    <tr>\n",
       "      <th>5883</th>\n",
       "      <td>banbury station t/o</td>\n",
       "      <td>1</td>\n",
       "    </tr>\n",
       "  </tbody>\n",
       "</table>\n",
       "<p>5884 rows × 2 columns</p>\n",
       "</div>"
      ],
      "text/plain": [
       "                unique_merchant  counts\n",
       "0         amazon uk marketplace    5837\n",
       "1              amazon uk retail    2182\n",
       "2            travelodge website    1270\n",
       "3            asda home shopping     858\n",
       "4     amazon uk retail amazon.c     583\n",
       "...                         ...     ...\n",
       "5879             wristbandscouk       1\n",
       "5880   www.onlinestore.leedsmet       1\n",
       "5881  esso eye green service ar       1\n",
       "5882          paypal serpro ltd       1\n",
       "5883        banbury station t/o       1\n",
       "\n",
       "[5884 rows x 2 columns]"
      ]
     },
     "execution_count": 58,
     "metadata": {
      "tags": []
     },
     "output_type": "execute_result"
    }
   ],
   "source": [
    "### Converting categorical variables about marchants into numerical ones\n",
    "\n",
    "# Frequency of transactions made in favor of ech unique merchant\n",
    "merchant_vc = df_aux['MERCHANT NAME'].value_counts()\n",
    "\n",
    "# Transforming it into a DataFrame\n",
    "merchant = pd.DataFrame(merchant_vc)\n",
    "merchant = merchant.reset_index()\n",
    "merchant.columns = ['unique_merchant','counts']\n",
    "merchant"
   ]
  },
  {
   "cell_type": "code",
   "execution_count": 59,
   "metadata": {
    "colab": {
     "base_uri": "https://localhost:8080/"
    },
    "id": "lOKfD3ZQk1XF",
    "outputId": "1ae3b66e-ca4b-4181-e976-32923cd5889e"
   },
   "outputs": [
    {
     "name": "stdout",
     "output_type": "stream",
     "text": [
      "43973\n",
      "the consortium/wms\n",
      "-0.09968258042294809\n",
      "5837\n"
     ]
    }
   ],
   "source": [
    "print(len(df_aux['MERCHANT NAME']))\n",
    "print(df_aux['MERCHANT NAME'][0])\n",
    "print(df_aux['ORIGINAL GROSS AMT'][0])\n",
    "print(merchant['counts'][0])"
   ]
  },
  {
   "cell_type": "code",
   "execution_count": null,
   "metadata": {
    "id": "_RXcVxpOkflE"
   },
   "outputs": [],
   "source": [
    "sum_tr = 0\n",
    "merchant_trans = pd.DataFrame()\n",
    "j = 0\n",
    "\n",
    "# Average amount of transactions for each unique merchant\n",
    "for m in merchant['unique_merchant']:\n",
    "  #print(m)\n",
    "  for i in range(len(df_aux['MERCHANT NAME'])):\n",
    "    #print(i)\n",
    "    #print(df_aux['MERCHANT NAME'][i])\n",
    "    if df_aux['MERCHANT NAME'][i] == m:\n",
    "      #print(df_aux['ORIGINAL GROSS AMT'][i])\n",
    "      sum_tr += df_aux['ORIGINAL GROSS AMT'][i]\n",
    "  #print([(sum_tr/merchant['counts'][j])])\n",
    "  merchant_trans = merchant_trans.append([(sum_tr/merchant['counts'][j])])\n",
    "  j += 1\n",
    "\n",
    "# Assembling previous data\n",
    "merchant_data = pd.DataFrame()\n",
    "merchant_data['merchant_name'] = merchant['unique_merchant']\n",
    "merchant_data['trans_avg'] = merchant_trans.values.reshape(-1,1)\n",
    "merchant_data['frequency'] = merchant['counts']\n",
    "\n",
    "merchant_data = merchant_data.set_index(merchant_data.merchant_name)\n",
    "merchant_data = merchant_data.drop(['merchant_name'], axis = 1)\n",
    "\n",
    "merchant_data"
   ]
  },
  {
   "cell_type": "code",
   "execution_count": null,
   "metadata": {
    "id": "GUhXzgA1CyY8"
   },
   "outputs": [],
   "source": [
    "plt.figure(figsize=(30,20))\n",
    "plt.plot(merchant_data.frequency,merchant_data.trans_avg)\n",
    "plt.xlabel(\"Frequency of transaction made to a merchant\")\n",
    "plt.ylabel(\"Average transactions\")"
   ]
  },
  {
   "cell_type": "code",
   "execution_count": null,
   "metadata": {
    "id": "FSEUngv_C_Bl"
   },
   "outputs": [],
   "source": [
    "# The average number of merchants that receive negative average transactions\n",
    "negative = 0\n",
    "for i in range(len(merchant_data)):\n",
    "    if merchant_data.trans_avg[i]<0:\n",
    "        negative += 1\n",
    "        \n",
    "negativ_avg = negative/len(merchant_data)\n",
    "\n",
    "negativ_avg"
   ]
  },
  {
   "cell_type": "code",
   "execution_count": null,
   "metadata": {
    "id": "cfz3sPMcDCPX"
   },
   "outputs": [],
   "source": [
    "### Here we will do clustering using the KMeans algorithms\n",
    "# Scaling the frequency of transactions by means amount of transactions\n",
    "merchant_tr = merchant_data.values\n",
    "\n",
    "# First we need to determine the optimal number of clusters\n",
    "cluster_range = range(1,16)\n",
    "cluster_error = []\n",
    "\n",
    "for num in cluster_range:\n",
    "    model = KMeans(num)\n",
    "    model.fit(merchant_tr)\n",
    "    cluster_error.append(model.inertia_)\n",
    "\n",
    "df_clust = pd.DataFrame({'cluster_number':cluster_range,'cluster_error':cluster_error})\n",
    "\n",
    "\n",
    "plt.figure(figsize=(20,10))\n",
    "plt.xticks(range(1,16))\n",
    "plt.plot(df_clust.cluster_number,df_clust.cluster_error, marker=\"o\")\n",
    "plt.xlabel(\"Number of cluster\")\n",
    "plt.ylabel(\"Cluster inertia\")"
   ]
  },
  {
   "cell_type": "code",
   "execution_count": null,
   "metadata": {
    "id": "-aq8OZTGDLUt"
   },
   "outputs": [],
   "source": [
    "# The elbow graph showed us that 4 clusters is the optimal number\n",
    "# so we'll start implementing the code\n",
    "\n",
    "kmeans_model = KMeans(n_clusters=4)\n",
    "kmeans_model.fit(merchant_tr)\n",
    "kmeans_predict = kmeans_model.predict(merchant_tr)\n",
    "kmeans_centroids = kmeans_model.cluster_centers_\n",
    "\n",
    "plt.figure(figsize=(20,10))\n",
    "plt.scatter(merchant_tr[:,1],merchant_tr[:,0], c=kmeans_predict)\n",
    "plt.scatter(kmeans_centroids[:,0], kmeans_centroids[:,1], c='black', s=150, alpha=0.5)\n",
    "plt.xlabel('Frequencies of transactions made by each merchant')\n",
    "plt.ylabel('The average transaction made by each merchant')"
   ]
  },
  {
   "cell_type": "markdown",
   "metadata": {
    "id": "HvKpc674Dx1F"
   },
   "source": [
    "### One-Class SVM"
   ]
  },
  {
   "cell_type": "code",
   "execution_count": null,
   "metadata": {
    "id": "9g2b1uUyD3Gh"
   },
   "outputs": [],
   "source": [
    "# Splitting the ORIGINAL GROSS AMOUNT time series data into training and testing datasets (70%+30%)\n",
    "\n",
    "train_set = df_aux.iloc[0:int(len(df_aux)*0.7),1]\n",
    "test_set = df_aux.iloc[int(len(df_aux)*0.7)+1:len(df_aux),1]"
   ]
  },
  {
   "cell_type": "code",
   "execution_count": null,
   "metadata": {
    "id": "vQx3Jd8TEAvG"
   },
   "outputs": [],
   "source": [
    "# Training the One-Class SVM model \n",
    "\n",
    "ocsvm_model = OneClassSVM(gamma =\"auto\",nu=0.0025).fit(df_aux['ORIGINAL GROSS AMT'].values.reshape(-1,1))\n",
    "ocsvm_model.predict(df_aux['ORIGINAL GROSS AMT'].values.reshape(-1,1))\n",
    "ocsvm_decision_func = ocsvm_model.decision_function(df_aux['ORIGINAL GROSS AMT'].values.reshape(-1,1))\n",
    "ocsvm_score = ocsvm_model.score_samples(df_aux['ORIGINAL GROSS AMT'].values.reshape(-1,1))\n",
    "\n",
    "df_aux['INT_TIME'] = df_aux.index.astype(np.int64)\n",
    "df_aux['ocsvm_decis_func'] = ocsvm_decision_func\n",
    "anomaly = df_aux.loc[df_aux['ocsvm_decis_func']<0, ['INT_TIME','ORIGINAL GROSS AMT']]\n",
    "normal = df_aux.loc[df_aux['ocsvm_decis_func']>=0, ['INT_TIME','ORIGINAL GROSS AMT']]\n",
    "\n",
    "fig, ax = plt.subplots(figsize=(10,15))\n",
    "ax.plot(df_aux['INT_TIME'],df_aux['ORIGINAL GROSS AMT'], color='blue',label='Normal')\n",
    "ax.scatter(anomaly['INT_TIME'],anomaly['ORIGINAL GROSS AMT'], color='red', label='Anomaly')\n",
    "\n",
    "plt.xlabel('Date')\n",
    "plt.ylabel('ORIGINAL GROSS AMT')\n",
    "plt.legend('Anomaly detection using OCSVM')\n",
    "plt.show()"
   ]
  },
  {
   "cell_type": "code",
   "execution_count": null,
   "metadata": {
    "id": "C9c9qntUFihW"
   },
   "outputs": [],
   "source": [
    "anomaly_fraction = len(anomaly)/len(df_aux['ORIGINAL GROSS AMT'])\n",
    "anomaly_fraction"
   ]
  },
  {
   "cell_type": "markdown",
   "metadata": {
    "id": "mf4PF25ZFs3k"
   },
   "source": [
    "# 5 - Forecasting future transactional behavior"
   ]
  },
  {
   "cell_type": "code",
   "execution_count": null,
   "metadata": {
    "id": "XdcPz1RwGEpX"
   },
   "outputs": [],
   "source": [
    "normal['ORIGINAL GROSS AMT'].plot()"
   ]
  },
  {
   "cell_type": "code",
   "execution_count": null,
   "metadata": {
    "id": "UjzSZyqTfx79"
   },
   "outputs": [],
   "source": [
    "anomaly['ORIGINAL GROSS AMT'].plot()"
   ]
  },
  {
   "cell_type": "code",
   "execution_count": null,
   "metadata": {
    "id": "_sES372mF4o2"
   },
   "outputs": [],
   "source": [
    "# splitting training set and test test ona 70%:30% basis from the normal dataset extracted from oncsvm anomaly detection\n",
    "normal_original_gross_amt = normal['ORIGINAL GROSS AMT']\n",
    "\n",
    "train_set = normal.iloc[0:int(len(normal)*0.7),1]\n",
    "train_set.index = pd.DatetimeIndex(train_set.index).to_period('D')\n",
    "test_set = normal.iloc[int(len(normal)*0.3)+1:len(normal),1]\n",
    "test_set.index = pd.DatetimeIndex(test_set.index).to_period('D')"
   ]
  },
  {
   "cell_type": "code",
   "execution_count": null,
   "metadata": {
    "id": "EQdySUqcGLm_"
   },
   "outputs": [],
   "source": [
    "series = normal['ORIGINAL GROSS AMT']\n",
    "\n",
    "X = series.values\n",
    "window = 1\n",
    "history = [X[i] for i in range(window)]\n",
    "test = [X[i] for i in range(window, len(X))]\n",
    "predictions = list()\n",
    "# walk forward over time steps in test\n",
    "for t in range(len(test)):\n",
    "    length = len(history)\n",
    "    yhat = np.mean([history[i] for i in range(length-window,length)])\n",
    "    obs = test[t]\n",
    "    predictions.append(yhat)\n",
    "    history.append(obs)\n",
    "    print('predicted=%f, expected=%f' % (yhat, obs))\n",
    "error = mean_squared_error(test, predictions)\n",
    "print('Test MSE: %.3f' % error)\n",
    "# plot\n",
    "plt.plot(test)\n",
    "plt.plot(predictions, color='red')\n",
    "plt.show()\n",
    "# zoom plot\n",
    "plt.plot(test[0:100])\n",
    "plt.plot(predictions[0:100], color='red')\n",
    "plt.show()"
   ]
  },
  {
   "cell_type": "markdown",
   "metadata": {
    "id": "4HO900CIa5T8"
   },
   "source": [
    "We use the ‘Augmented Dickey-Fuller Test’ to check whether the data is stationary or not which is available in the ‘pmdarima’ package."
   ]
  },
  {
   "cell_type": "code",
   "execution_count": 1,
   "metadata": {
    "colab": {
     "base_uri": "https://localhost:8080/",
     "height": 204
    },
    "id": "oj5OfyJia6X4",
    "outputId": "b438448e-e06d-450a-c467-e3eb08dbcca4"
   },
   "outputs": [
    {
     "ename": "NameError",
     "evalue": "ignored",
     "output_type": "error",
     "traceback": [
      "\u001b[0;31m---------------------------------------------------------------------------\u001b[0m",
      "\u001b[0;31mNameError\u001b[0m                                 Traceback (most recent call last)",
      "\u001b[0;32m<ipython-input-1-0c9bc44ed2c1>\u001b[0m in \u001b[0;36m<module>\u001b[0;34m()\u001b[0m\n\u001b[1;32m      1\u001b[0m \u001b[0;32mfrom\u001b[0m \u001b[0mpmdarima\u001b[0m\u001b[0;34m.\u001b[0m\u001b[0marima\u001b[0m \u001b[0;32mimport\u001b[0m \u001b[0mADFTest\u001b[0m\u001b[0;34m\u001b[0m\u001b[0;34m\u001b[0m\u001b[0m\n\u001b[1;32m      2\u001b[0m \u001b[0madf_test\u001b[0m \u001b[0;34m=\u001b[0m \u001b[0mADFTest\u001b[0m\u001b[0;34m(\u001b[0m\u001b[0malpha\u001b[0m\u001b[0;34m=\u001b[0m\u001b[0;36m0.05\u001b[0m\u001b[0;34m)\u001b[0m\u001b[0;34m\u001b[0m\u001b[0;34m\u001b[0m\u001b[0m\n\u001b[0;32m----> 3\u001b[0;31m \u001b[0madf_test\u001b[0m\u001b[0;34m.\u001b[0m\u001b[0mshould_diff\u001b[0m\u001b[0;34m(\u001b[0m\u001b[0mtrain_set\u001b[0m\u001b[0;34m)\u001b[0m\u001b[0;34m\u001b[0m\u001b[0;34m\u001b[0m\u001b[0m\n\u001b[0m",
      "\u001b[0;31mNameError\u001b[0m: name 'train_set' is not defined"
     ]
    }
   ],
   "source": [
    "from pmdarima.arima import ADFTest\n",
    "adf_test = ADFTest(alpha=0.05)\n",
    "adf_test.should_diff(train_set)"
   ]
  },
  {
   "cell_type": "code",
   "execution_count": 83,
   "metadata": {
    "colab": {
     "base_uri": "https://localhost:8080/",
     "height": 300
    },
    "id": "WB7xl4AqGb2I",
    "outputId": "fa0eaa62-2a0f-48a5-ca8b-67d4e4161af1"
   },
   "outputs": [
    {
     "data": {
      "image/png": "[encoded data removed]",
      "text/plain": [
       "<Figure size 432x288 with 1 Axes>"
      ]
     },
     "metadata": {
      "needs_background": "light",
      "tags": []
     },
     "output_type": "display_data"
    },
    {
     "data": {
      "text/plain": [
       "<Figure size 1800x1440 with 0 Axes>"
      ]
     },
     "metadata": {
      "tags": []
     },
     "output_type": "display_data"
    }
   ],
   "source": [
    "# Forecasting using the ARIMA model\n",
    "autocorrelation_plot(train_set[0:20])\n",
    "plt.figure(figsize=(25,20))\n",
    "plt.show()"
   ]
  },
  {
   "cell_type": "code",
   "execution_count": null,
   "metadata": {
    "colab": {
     "base_uri": "https://localhost:8080/"
    },
    "id": "nrbul3NSGgTr",
    "outputId": "37cb3bdb-96b0-4947-e3b6-07228071d298"
   },
   "outputs": [
    {
     "name": "stderr",
     "output_type": "stream",
     "text": [
      "/usr/local/lib/python3.6/dist-packages/statsmodels/tsa/arima_model.py:472: FutureWarning: \n",
      "statsmodels.tsa.arima_model.ARMA and statsmodels.tsa.arima_model.ARIMA have\n",
      "been deprecated in favor of statsmodels.tsa.arima.model.ARIMA (note the .\n",
      "between arima and model) and\n",
      "statsmodels.tsa.SARIMAX. These will be removed after the 0.12 release.\n",
      "\n",
      "statsmodels.tsa.arima.model.ARIMA makes use of the statespace framework and\n",
      "is both well tested and maintained.\n",
      "\n",
      "To silence this warning and continue using ARMA and ARIMA until they are\n",
      "removed, use:\n",
      "\n",
      "import warnings\n",
      "warnings.filterwarnings('ignore', 'statsmodels.tsa.arima_model.ARMA',\n",
      "                        FutureWarning)\n",
      "warnings.filterwarnings('ignore', 'statsmodels.tsa.arima_model.ARIMA',\n",
      "                        FutureWarning)\n",
      "\n",
      "  warnings.warn(ARIMA_DEPRECATION_WARN, FutureWarning)\n"
     ]
    }
   ],
   "source": [
    "arima_model = ARIMA(train_set, order = (2,1,7))\n",
    "arima_model_fit = arima_model.fit(transparams=False)"
   ]
  },
  {
   "cell_type": "code",
   "execution_count": null,
   "metadata": {
    "id": "3YOS1inlJGeQ"
   },
   "outputs": [],
   "source": [
    "print(arima_model_fit.summary())"
   ]
  },
  {
   "cell_type": "code",
   "execution_count": null,
   "metadata": {
    "id": "H9tvLw87Km-U"
   },
   "outputs": [],
   "source": [
    "history = [x for x in train_set]\n",
    "predictions = list()\n",
    "# walk-forward validation\n",
    "for t in range(len(test_set)):\n",
    "    model = ARIMA(history, order=(1,1,3))\n",
    "    model_fit = model.fit()\n",
    "    output = model_fit.forecast()\n",
    "    yhat = output[0]\n",
    "    predictions.append(yhat)\n",
    "    obs = test_set[t]\n",
    "    history.append(obs)\n",
    "    print('predicted=%f, expected=%f' % (yhat, obs))\n",
    "# evaluate forecasts\n",
    "rmse = sqrt(mean_squared_error(test_set, predictions))\n",
    "print('Test RMSE: %.3f' % rmse)\n",
    "# plot forecasts against actual outcomes\n",
    "plt.plot(test_set)\n",
    "plt.plot(predictions, color='red')\n",
    "plt.show()"
   ]
  },
  {
   "cell_type": "code",
   "execution_count": null,
   "metadata": {
    "id": "NcSfXKdQnfyp"
   },
   "outputs": [],
   "source": [
    "df_aux"
   ]
  },
  {
   "cell_type": "code",
   "execution_count": null,
   "metadata": {
    "id": "6gOyrEjetHQu"
   },
   "outputs": [],
   "source": [
    "df_aux[['ORIGINAL GROSS AMT','ocsvm_decis_func']]"
   ]
  },
  {
   "cell_type": "code",
   "execution_count": null,
   "metadata": {
    "id": "UdJdiuyMn_LG"
   },
   "outputs": [],
   "source": [
    "df_aux_train = df_aux[['ORIGINAL GROSS AMT','ocsvm_decis_func']].sample(frac=0.7,random_state=0)\n",
    "df_aux_test = df_aux[['ORIGINAL GROSS AMT','ocsvm_decis_func']].sample(frac=0.3,random_state=0)"
   ]
  },
  {
   "cell_type": "code",
   "execution_count": null,
   "metadata": {
    "id": "4B2rg4MSeCBY"
   },
   "outputs": [],
   "source": [
    "target_scaler_train = MinMaxScaler([0,1])\n",
    "target_scaler_train.fit(np.array(df_aux_train['ORIGINAL GROSS AMT']).reshape(-1,1))\n",
    "\n",
    "target_scaler_test = MinMaxScaler([0,1])\n",
    "target_scaler_test.fit(np.array(df_aux_test['ORIGINAL GROSS AMT']).reshape(-1,1))"
   ]
  },
  {
   "cell_type": "code",
   "execution_count": null,
   "metadata": {
    "id": "N7xCGZQntyBA"
   },
   "outputs": [],
   "source": [
    "feature_scaler_train = MinMaxScaler([0,1])\n",
    "feature_scaler_train.fit(np.array(df_aux_train['ocsvm_decis_func']).reshape(-1,1))\n",
    "\n",
    "feature_scaler_test = MinMaxScaler([0,1])\n",
    "feature_scaler_test.fit(np.array(df_aux_test['ocsvm_decis_func']).reshape(-1,1))"
   ]
  },
  {
   "cell_type": "code",
   "execution_count": null,
   "metadata": {
    "id": "9a4AzPczyJTm"
   },
   "outputs": [],
   "source": [
    "# multivariate mlp\n",
    "\n",
    " \n",
    "# split a multivariate sequence into samples\n",
    "def split_sequences(sequences, n_steps):\n",
    "\tX, y = list(), list()\n",
    "\tfor i in range(len(sequences)):\n",
    "\t\t# find the end of this pattern\n",
    "\t\tend_ix = i + n_steps\n",
    "\t\t# check if we are beyond the dataset\n",
    "\t\tif end_ix > len(sequences):\n",
    "\t\t\tbreak\n",
    "\t\t# gather input and output parts of the pattern\n",
    "\t\tseq_x, seq_y = sequences[i:end_ix, :-1], sequences[end_ix-1, -1]\n",
    "\t\tX.append(seq_x)\n",
    "\t\ty.append(seq_y)\n",
    "\treturn array(X), array(y)\n",
    " \n",
    "# define input sequence\n",
    "in_seq1 = df_aux_train['ORIGINAL GROSS AMT'].values\n",
    "in_seq2 = df_aux_train['ocsvm_decis_func'].values\n",
    "out_seq = df_aux_train['ORIGINAL GROSS AMT'].values\n",
    "# convert to [rows, columns] structure\n",
    "in_seq1 = in_seq1.reshape((len(in_seq1), 1))\n",
    "in_seq2 = in_seq2.reshape((len(in_seq2), 1))\n",
    "out_seq = out_seq.reshape((len(out_seq), 1))"
   ]
  },
  {
   "cell_type": "code",
   "execution_count": null,
   "metadata": {
    "id": "npmWbXcQ2fHS"
   },
   "outputs": [],
   "source": [
    "# horizontally stack columns\n",
    "dataset = hstack((in_seq1, in_seq2, out_seq))\n",
    "# choose a number of time steps\n",
    "n_steps = 5\n",
    "# convert into input/output\n",
    "X, y = split_sequences(dataset, n_steps)"
   ]
  },
  {
   "cell_type": "code",
   "execution_count": null,
   "metadata": {
    "id": "5IYTJQSc4RY3"
   },
   "outputs": [],
   "source": [
    "print(X.shape)\n",
    "print(y.shape)"
   ]
  },
  {
   "cell_type": "code",
   "execution_count": null,
   "metadata": {
    "id": "B08MrgFW1-3Z"
   },
   "outputs": [],
   "source": [
    "# separate input data\n",
    "X1 = X[:, :, 0]\n",
    "X2 = X[:, :, 1]\n",
    "# first input model\n",
    "visible1 = Input(shape=(n_steps,))\n",
    "dense1 = Dense(100, activation='relu')(visible1)\n",
    "# second input model\n",
    "visible2 = Input(shape=(n_steps,))\n",
    "dense2 = Dense(100, activation='relu')(visible2)\n",
    "# merge input models\n",
    "merge = concatenate([dense1, dense2])\n",
    "output = Dense(1)(merge)\n",
    "model = Model(inputs=[visible1, visible2], outputs=output)\n",
    "model.compile(optimizer='adam', loss='mse')\n",
    "# fit model\n",
    "model.fit([X1, X2], y, epochs=500, verbose=0)"
   ]
  },
  {
   "cell_type": "code",
   "execution_count": null,
   "metadata": {
    "id": "rqDhV4c_4rRl"
   },
   "outputs": [],
   "source": [
    "# demonstrate prediction\n",
    "# define test input sequence\n",
    "test_in_seq1 = df_aux_test['ORIGINAL GROSS AMT'].values\n",
    "test_in_seq2 = df_aux_test['ocsvm_decis_func'].values\n",
    "test_out_seq = df_aux_test['ORIGINAL GROSS AMT'].values\n",
    "# convert to [rows, columns] structure\n",
    "test_in_seq1 = test_in_seq1.reshape((len(test_in_seq1), 1))\n",
    "test_in_seq2 = test_in_seq2.reshape((len(test_in_seq2), 1))\n",
    "test_out_seq = test_out_seq.reshape((len(test_out_seq), 1))\n",
    "# horizontally stack columns\n",
    "test_dataset = hstack((test_in_seq1, test_in_seq2, test_out_seq))\n",
    "# choose a number of time steps\n",
    "n_steps = 5\n",
    "# convert into input/output\n",
    "test_X, test_y = split_sequences(test_dataset, n_steps)"
   ]
  },
  {
   "cell_type": "code",
   "execution_count": null,
   "metadata": {
    "id": "UP4rsxGv83cM"
   },
   "outputs": [],
   "source": [
    "test_X1 = test_X[:, :, 0]\n",
    "test_X2 = test_X[:, :, 1]"
   ]
  },
  {
   "cell_type": "code",
   "execution_count": null,
   "metadata": {
    "id": "ooI9--lU8jVP"
   },
   "outputs": [],
   "source": [
    "yhat = model.predict([test_X1, test_X2], verbose=0)\n",
    "yhat_un = target_scaler_test.inverse_transform(yhat)\n",
    "print(yhat_un)"
   ]
  },
  {
   "cell_type": "code",
   "execution_count": null,
   "metadata": {
    "id": "AC2qti7S9YvV"
   },
   "outputs": [],
   "source": [
    "df_aux_test =  df_aux_test.iloc[0:len(yhat_un)]"
   ]
  },
  {
   "cell_type": "code",
   "execution_count": null,
   "metadata": {
    "id": "bO5B-H7l90fX"
   },
   "outputs": [],
   "source": [
    "df_aux_test['predicted'] = yhat_un"
   ]
  },
  {
   "cell_type": "code",
   "execution_count": null,
   "metadata": {
    "id": "CyohSrph99YD"
   },
   "outputs": [],
   "source": [
    "df_aux_test"
   ]
  },
  {
   "cell_type": "code",
   "execution_count": null,
   "metadata": {
    "id": "782OAOCC-Mjb"
   },
   "outputs": [],
   "source": [
    "mlp_error = mean_squared_error(df_aux_test['ORIGINAL GROSS AMT'], df_aux_test['predicted'])\n",
    "print('Test MSE: %.3f' % mlp_error)"
   ]
  }
 ],
 "metadata": {
  "accelerator": "GPU",
  "colab": {
   "collapsed_sections": [],
   "name": " BirminghamCC_PurchaseCardTransactions.ipynb",
   "provenance": [],
   "toc_visible": true
  },
  "kernelspec": {
   "display_name": "Python 3",
   "language": "python",
   "name": "python3"
  },
  "language_info": {
   "codemirror_mode": {
    "name": "ipython",
    "version": 3
   },
   "file_extension": ".py",
   "mimetype": "text/x-python",
   "name": "python",
   "nbconvert_exporter": "python",
   "pygments_lexer": "ipython3",
   "version": "3.8.5"
  }
 },
 "nbformat": 4,
 "nbformat_minor": 1
}
